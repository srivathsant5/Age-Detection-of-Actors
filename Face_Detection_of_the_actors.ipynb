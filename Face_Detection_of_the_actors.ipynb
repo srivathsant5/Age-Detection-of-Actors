{
  "nbformat": 4,
  "nbformat_minor": 0,
  "metadata": {
    "colab": {
      "provenance": []
    },
    "kernelspec": {
      "name": "python3",
      "display_name": "Python 3"
    },
    "language_info": {
      "name": "python"
    },
    "accelerator": "GPU",
    "gpuClass": "standard"
  },
  "cells": [
    {
      "cell_type": "markdown",
      "source": [
        "# Face Detection of the actors "
      ],
      "metadata": {
        "id": "LDwV466OMQMp"
      }
    },
    {
      "cell_type": "code",
      "execution_count": 1,
      "metadata": {
        "id": "o9heegzFMFTR"
      },
      "outputs": [],
      "source": [
        "#impoeting libraries \n",
        "import numpy as np # linear algebra\n",
        "import pandas as pd # data processing, "
      ]
    },
    {
      "cell_type": "code",
      "source": [
        "import pandas as pd\n",
        "import numpy as np\n",
        "import tensorflow as tf\n",
        "import glob\n",
        "import os\n",
        "import seaborn as sns \n",
        "from matplotlib import pyplot as plt\n",
        "from sklearn import metrics\n",
        "from sklearn.metrics import confusion_matrix"
      ],
      "metadata": {
        "id": "lYl_tOr4MdCP"
      },
      "execution_count": 2,
      "outputs": []
    },
    {
      "cell_type": "code",
      "source": [
        "import warnings\n",
        "warnings.filterwarnings('ignore')"
      ],
      "metadata": {
        "id": "ZgrcO-P8ECDv"
      },
      "execution_count": 9,
      "outputs": []
    },
    {
      "cell_type": "code",
      "source": [
        "from google.colab import drive\n",
        "drive.mount('/content/drive')\n"
      ],
      "metadata": {
        "colab": {
          "base_uri": "https://localhost:8080/"
        },
        "id": "zJC0hTsFNJ5C",
        "outputId": "27033218-5c0a-4ec8-e591-673237b09464"
      },
      "execution_count": 3,
      "outputs": [
        {
          "output_type": "stream",
          "name": "stdout",
          "text": [
            "Mounted at /content/drive\n"
          ]
        }
      ]
    },
    {
      "cell_type": "code",
      "source": [
        "# read the csv file to check out the images and class\n",
        "data = pd.read_csv(\"/content/drive/MyDrive/DSP/Analytical  Vidhya/1 - Face detection/Dataset/train.csv\")\n",
        "data.head()"
      ],
      "metadata": {
        "id": "zxrTTMuqNMUU",
        "colab": {
          "base_uri": "https://localhost:8080/",
          "height": 206
        },
        "outputId": "b596f13a-da1c-421d-b9dc-52a6484d1404"
      },
      "execution_count": 4,
      "outputs": [
        {
          "output_type": "execute_result",
          "data": {
            "text/plain": [
              "          ID   Class\n",
              "0    377.jpg  MIDDLE\n",
              "1  17814.jpg   YOUNG\n",
              "2  21283.jpg  MIDDLE\n",
              "3  16496.jpg   YOUNG\n",
              "4   4487.jpg  MIDDLE"
            ],
            "text/html": [
              "\n",
              "  <div id=\"df-766d44d6-bc12-403a-84dc-afe6386d6ad9\">\n",
              "    <div class=\"colab-df-container\">\n",
              "      <div>\n",
              "<style scoped>\n",
              "    .dataframe tbody tr th:only-of-type {\n",
              "        vertical-align: middle;\n",
              "    }\n",
              "\n",
              "    .dataframe tbody tr th {\n",
              "        vertical-align: top;\n",
              "    }\n",
              "\n",
              "    .dataframe thead th {\n",
              "        text-align: right;\n",
              "    }\n",
              "</style>\n",
              "<table border=\"1\" class=\"dataframe\">\n",
              "  <thead>\n",
              "    <tr style=\"text-align: right;\">\n",
              "      <th></th>\n",
              "      <th>ID</th>\n",
              "      <th>Class</th>\n",
              "    </tr>\n",
              "  </thead>\n",
              "  <tbody>\n",
              "    <tr>\n",
              "      <th>0</th>\n",
              "      <td>377.jpg</td>\n",
              "      <td>MIDDLE</td>\n",
              "    </tr>\n",
              "    <tr>\n",
              "      <th>1</th>\n",
              "      <td>17814.jpg</td>\n",
              "      <td>YOUNG</td>\n",
              "    </tr>\n",
              "    <tr>\n",
              "      <th>2</th>\n",
              "      <td>21283.jpg</td>\n",
              "      <td>MIDDLE</td>\n",
              "    </tr>\n",
              "    <tr>\n",
              "      <th>3</th>\n",
              "      <td>16496.jpg</td>\n",
              "      <td>YOUNG</td>\n",
              "    </tr>\n",
              "    <tr>\n",
              "      <th>4</th>\n",
              "      <td>4487.jpg</td>\n",
              "      <td>MIDDLE</td>\n",
              "    </tr>\n",
              "  </tbody>\n",
              "</table>\n",
              "</div>\n",
              "      <button class=\"colab-df-convert\" onclick=\"convertToInteractive('df-766d44d6-bc12-403a-84dc-afe6386d6ad9')\"\n",
              "              title=\"Convert this dataframe to an interactive table.\"\n",
              "              style=\"display:none;\">\n",
              "        \n",
              "  <svg xmlns=\"http://www.w3.org/2000/svg\" height=\"24px\"viewBox=\"0 0 24 24\"\n",
              "       width=\"24px\">\n",
              "    <path d=\"M0 0h24v24H0V0z\" fill=\"none\"/>\n",
              "    <path d=\"M18.56 5.44l.94 2.06.94-2.06 2.06-.94-2.06-.94-.94-2.06-.94 2.06-2.06.94zm-11 1L8.5 8.5l.94-2.06 2.06-.94-2.06-.94L8.5 2.5l-.94 2.06-2.06.94zm10 10l.94 2.06.94-2.06 2.06-.94-2.06-.94-.94-2.06-.94 2.06-2.06.94z\"/><path d=\"M17.41 7.96l-1.37-1.37c-.4-.4-.92-.59-1.43-.59-.52 0-1.04.2-1.43.59L10.3 9.45l-7.72 7.72c-.78.78-.78 2.05 0 2.83L4 21.41c.39.39.9.59 1.41.59.51 0 1.02-.2 1.41-.59l7.78-7.78 2.81-2.81c.8-.78.8-2.07 0-2.86zM5.41 20L4 18.59l7.72-7.72 1.47 1.35L5.41 20z\"/>\n",
              "  </svg>\n",
              "      </button>\n",
              "      \n",
              "  <style>\n",
              "    .colab-df-container {\n",
              "      display:flex;\n",
              "      flex-wrap:wrap;\n",
              "      gap: 12px;\n",
              "    }\n",
              "\n",
              "    .colab-df-convert {\n",
              "      background-color: #E8F0FE;\n",
              "      border: none;\n",
              "      border-radius: 50%;\n",
              "      cursor: pointer;\n",
              "      display: none;\n",
              "      fill: #1967D2;\n",
              "      height: 32px;\n",
              "      padding: 0 0 0 0;\n",
              "      width: 32px;\n",
              "    }\n",
              "\n",
              "    .colab-df-convert:hover {\n",
              "      background-color: #E2EBFA;\n",
              "      box-shadow: 0px 1px 2px rgba(60, 64, 67, 0.3), 0px 1px 3px 1px rgba(60, 64, 67, 0.15);\n",
              "      fill: #174EA6;\n",
              "    }\n",
              "\n",
              "    [theme=dark] .colab-df-convert {\n",
              "      background-color: #3B4455;\n",
              "      fill: #D2E3FC;\n",
              "    }\n",
              "\n",
              "    [theme=dark] .colab-df-convert:hover {\n",
              "      background-color: #434B5C;\n",
              "      box-shadow: 0px 1px 3px 1px rgba(0, 0, 0, 0.15);\n",
              "      filter: drop-shadow(0px 1px 2px rgba(0, 0, 0, 0.3));\n",
              "      fill: #FFFFFF;\n",
              "    }\n",
              "  </style>\n",
              "\n",
              "      <script>\n",
              "        const buttonEl =\n",
              "          document.querySelector('#df-766d44d6-bc12-403a-84dc-afe6386d6ad9 button.colab-df-convert');\n",
              "        buttonEl.style.display =\n",
              "          google.colab.kernel.accessAllowed ? 'block' : 'none';\n",
              "\n",
              "        async function convertToInteractive(key) {\n",
              "          const element = document.querySelector('#df-766d44d6-bc12-403a-84dc-afe6386d6ad9');\n",
              "          const dataTable =\n",
              "            await google.colab.kernel.invokeFunction('convertToInteractive',\n",
              "                                                     [key], {});\n",
              "          if (!dataTable) return;\n",
              "\n",
              "          const docLinkHtml = 'Like what you see? Visit the ' +\n",
              "            '<a target=\"_blank\" href=https://colab.research.google.com/notebooks/data_table.ipynb>data table notebook</a>'\n",
              "            + ' to learn more about interactive tables.';\n",
              "          element.innerHTML = '';\n",
              "          dataTable['output_type'] = 'display_data';\n",
              "          await google.colab.output.renderOutput(dataTable, element);\n",
              "          const docLink = document.createElement('div');\n",
              "          docLink.innerHTML = docLinkHtml;\n",
              "          element.appendChild(docLink);\n",
              "        }\n",
              "      </script>\n",
              "    </div>\n",
              "  </div>\n",
              "  "
            ]
          },
          "metadata": {},
          "execution_count": 4
        }
      ]
    },
    {
      "cell_type": "code",
      "source": [
        "data['Class'].replace(['YOUNG','MIDDLE','OLD'],[0,1,2],inplace=True)\n",
        "data.head(3)"
      ],
      "metadata": {
        "colab": {
          "base_uri": "https://localhost:8080/",
          "height": 143
        },
        "id": "T5g7-6zxR2x2",
        "outputId": "0cd20e95-3745-463c-fe4d-cf958974f643"
      },
      "execution_count": 5,
      "outputs": [
        {
          "output_type": "execute_result",
          "data": {
            "text/plain": [
              "          ID  Class\n",
              "0    377.jpg      1\n",
              "1  17814.jpg      0\n",
              "2  21283.jpg      1"
            ],
            "text/html": [
              "\n",
              "  <div id=\"df-f84b2646-baed-4e84-bce6-2266388a0bfa\">\n",
              "    <div class=\"colab-df-container\">\n",
              "      <div>\n",
              "<style scoped>\n",
              "    .dataframe tbody tr th:only-of-type {\n",
              "        vertical-align: middle;\n",
              "    }\n",
              "\n",
              "    .dataframe tbody tr th {\n",
              "        vertical-align: top;\n",
              "    }\n",
              "\n",
              "    .dataframe thead th {\n",
              "        text-align: right;\n",
              "    }\n",
              "</style>\n",
              "<table border=\"1\" class=\"dataframe\">\n",
              "  <thead>\n",
              "    <tr style=\"text-align: right;\">\n",
              "      <th></th>\n",
              "      <th>ID</th>\n",
              "      <th>Class</th>\n",
              "    </tr>\n",
              "  </thead>\n",
              "  <tbody>\n",
              "    <tr>\n",
              "      <th>0</th>\n",
              "      <td>377.jpg</td>\n",
              "      <td>1</td>\n",
              "    </tr>\n",
              "    <tr>\n",
              "      <th>1</th>\n",
              "      <td>17814.jpg</td>\n",
              "      <td>0</td>\n",
              "    </tr>\n",
              "    <tr>\n",
              "      <th>2</th>\n",
              "      <td>21283.jpg</td>\n",
              "      <td>1</td>\n",
              "    </tr>\n",
              "  </tbody>\n",
              "</table>\n",
              "</div>\n",
              "      <button class=\"colab-df-convert\" onclick=\"convertToInteractive('df-f84b2646-baed-4e84-bce6-2266388a0bfa')\"\n",
              "              title=\"Convert this dataframe to an interactive table.\"\n",
              "              style=\"display:none;\">\n",
              "        \n",
              "  <svg xmlns=\"http://www.w3.org/2000/svg\" height=\"24px\"viewBox=\"0 0 24 24\"\n",
              "       width=\"24px\">\n",
              "    <path d=\"M0 0h24v24H0V0z\" fill=\"none\"/>\n",
              "    <path d=\"M18.56 5.44l.94 2.06.94-2.06 2.06-.94-2.06-.94-.94-2.06-.94 2.06-2.06.94zm-11 1L8.5 8.5l.94-2.06 2.06-.94-2.06-.94L8.5 2.5l-.94 2.06-2.06.94zm10 10l.94 2.06.94-2.06 2.06-.94-2.06-.94-.94-2.06-.94 2.06-2.06.94z\"/><path d=\"M17.41 7.96l-1.37-1.37c-.4-.4-.92-.59-1.43-.59-.52 0-1.04.2-1.43.59L10.3 9.45l-7.72 7.72c-.78.78-.78 2.05 0 2.83L4 21.41c.39.39.9.59 1.41.59.51 0 1.02-.2 1.41-.59l7.78-7.78 2.81-2.81c.8-.78.8-2.07 0-2.86zM5.41 20L4 18.59l7.72-7.72 1.47 1.35L5.41 20z\"/>\n",
              "  </svg>\n",
              "      </button>\n",
              "      \n",
              "  <style>\n",
              "    .colab-df-container {\n",
              "      display:flex;\n",
              "      flex-wrap:wrap;\n",
              "      gap: 12px;\n",
              "    }\n",
              "\n",
              "    .colab-df-convert {\n",
              "      background-color: #E8F0FE;\n",
              "      border: none;\n",
              "      border-radius: 50%;\n",
              "      cursor: pointer;\n",
              "      display: none;\n",
              "      fill: #1967D2;\n",
              "      height: 32px;\n",
              "      padding: 0 0 0 0;\n",
              "      width: 32px;\n",
              "    }\n",
              "\n",
              "    .colab-df-convert:hover {\n",
              "      background-color: #E2EBFA;\n",
              "      box-shadow: 0px 1px 2px rgba(60, 64, 67, 0.3), 0px 1px 3px 1px rgba(60, 64, 67, 0.15);\n",
              "      fill: #174EA6;\n",
              "    }\n",
              "\n",
              "    [theme=dark] .colab-df-convert {\n",
              "      background-color: #3B4455;\n",
              "      fill: #D2E3FC;\n",
              "    }\n",
              "\n",
              "    [theme=dark] .colab-df-convert:hover {\n",
              "      background-color: #434B5C;\n",
              "      box-shadow: 0px 1px 3px 1px rgba(0, 0, 0, 0.15);\n",
              "      filter: drop-shadow(0px 1px 2px rgba(0, 0, 0, 0.3));\n",
              "      fill: #FFFFFF;\n",
              "    }\n",
              "  </style>\n",
              "\n",
              "      <script>\n",
              "        const buttonEl =\n",
              "          document.querySelector('#df-f84b2646-baed-4e84-bce6-2266388a0bfa button.colab-df-convert');\n",
              "        buttonEl.style.display =\n",
              "          google.colab.kernel.accessAllowed ? 'block' : 'none';\n",
              "\n",
              "        async function convertToInteractive(key) {\n",
              "          const element = document.querySelector('#df-f84b2646-baed-4e84-bce6-2266388a0bfa');\n",
              "          const dataTable =\n",
              "            await google.colab.kernel.invokeFunction('convertToInteractive',\n",
              "                                                     [key], {});\n",
              "          if (!dataTable) return;\n",
              "\n",
              "          const docLinkHtml = 'Like what you see? Visit the ' +\n",
              "            '<a target=\"_blank\" href=https://colab.research.google.com/notebooks/data_table.ipynb>data table notebook</a>'\n",
              "            + ' to learn more about interactive tables.';\n",
              "          element.innerHTML = '';\n",
              "          dataTable['output_type'] = 'display_data';\n",
              "          await google.colab.output.renderOutput(dataTable, element);\n",
              "          const docLink = document.createElement('div');\n",
              "          docLink.innerHTML = docLinkHtml;\n",
              "          element.appendChild(docLink);\n",
              "        }\n",
              "      </script>\n",
              "    </div>\n",
              "  </div>\n",
              "  "
            ]
          },
          "metadata": {},
          "execution_count": 5
        }
      ]
    },
    {
      "cell_type": "code",
      "source": [
        "def readImage(path,ch = 3, resize=(150,150)):\n",
        "\tdi = tf.io.read_file(path)\n",
        "\tdi = tf.image.decode_jpeg(di, channels=ch)\n",
        "\tdi = tf.image.convert_image_dtype(di, dtype=tf.float32)\n",
        "\tdi = tf.image.resize(di, resize)\n",
        "\treturn di"
      ],
      "metadata": {
        "id": "wd4V9yHFOT3B"
      },
      "execution_count": 6,
      "outputs": []
    },
    {
      "cell_type": "code",
      "source": [
        "# function to load the data that includes images and respective labels\n",
        "def load_data(image_path, label):\n",
        "    img = readImage(image_path, 3, (150,150))\n",
        "    return (img, label)"
      ],
      "metadata": {
        "id": "cb-gghuQOT9o"
      },
      "execution_count": 7,
      "outputs": []
    },
    {
      "cell_type": "code",
      "source": [
        "# built the list of image paths and list of respective responses of the images\n",
        "PATH = \"/content/drive/MyDrive/DSP/Analytical  Vidhya/1 - Face detection/Dataset/Train/final/Train\"\n",
        "image_paths = []\n",
        "for path in os.listdir(PATH):\n",
        "    image_paths.append(PATH+\"/\"+path)\n",
        "print(len(image_paths))\n",
        "\n",
        "response_list = []\n",
        "\n",
        "for i in image_paths:\n",
        "    _,tail = os.path.split(i)\n",
        "    response = data.loc[data['ID'] == tail]['Class'].values[0]\n",
        "    response_list.append(response)\n",
        "print(len(response_list))"
      ],
      "metadata": {
        "id": "NcgvQfA8OUAg",
        "colab": {
          "base_uri": "https://localhost:8080/"
        },
        "outputId": "ed6f2d9f-43ac-440d-d990-fcdfc4a84771"
      },
      "execution_count": 8,
      "outputs": [
        {
          "output_type": "stream",
          "name": "stdout",
          "text": [
            "19906\n",
            "19906\n"
          ]
        }
      ]
    },
    {
      "cell_type": "code",
      "source": [
        "response_list"
      ],
      "metadata": {
        "colab": {
          "base_uri": "https://localhost:8080/"
        },
        "id": "ni_rFjBniQtn",
        "outputId": "81b3f1db-bf4e-487f-e8a6-fb14dc9bc57c"
      },
      "execution_count": 38,
      "outputs": [
        {
          "output_type": "execute_result",
          "data": {
            "text/plain": [
              "[]"
            ]
          },
          "metadata": {},
          "execution_count": 38
        }
      ]
    },
    {
      "cell_type": "code",
      "source": [
        "# split the dataset into train and test dataset\n",
        "train_size = int(0.9*(len(image_paths)))\n",
        "print(train_size)\n",
        "test_size = int(0.1*(len(image_paths)))\n",
        "\n",
        "train_set = tf.data.Dataset.from_tensor_slices((image_paths[:train_size], response_list[:train_size]))\n",
        "test_set = tf.data.Dataset.from_tensor_slices((image_paths[test_size:], response_list[test_size:]))"
      ],
      "metadata": {
        "id": "j4Y3ggEmOUDJ",
        "colab": {
          "base_uri": "https://localhost:8080/"
        },
        "outputId": "dabc1c8b-8b21-418a-d1d1-a641eaa0bd32"
      },
      "execution_count": 10,
      "outputs": [
        {
          "output_type": "stream",
          "name": "stdout",
          "text": [
            "17915\n"
          ]
        }
      ]
    },
    {
      "cell_type": "code",
      "source": [
        "print(\"train dataset size - \", train_size)\n",
        "print(\"test dataset size - \", test_size)\n"
      ],
      "metadata": {
        "colab": {
          "base_uri": "https://localhost:8080/"
        },
        "id": "3JsBckGXD_24",
        "outputId": "32e3fc43-0b91-448c-b0c9-e1088324c845"
      },
      "execution_count": 11,
      "outputs": [
        {
          "output_type": "stream",
          "name": "stdout",
          "text": [
            "train dataset size -  17915\n",
            "test dataset size -  1990\n"
          ]
        }
      ]
    },
    {
      "cell_type": "code",
      "source": [
        "\n",
        "train_set = (train_set\n",
        "    .map(load_data, num_parallel_calls=tf.data.AUTOTUNE)\n",
        "    .batch(64)\n",
        "    .prefetch(tf.data.AUTOTUNE)\n",
        ")"
      ],
      "metadata": {
        "id": "HYKFXkomOUGg"
      },
      "execution_count": 12,
      "outputs": []
    },
    {
      "cell_type": "code",
      "source": [
        "test_set = (test_set\n",
        "    .map(load_data, num_parallel_calls=tf.data.AUTOTUNE)\n",
        "    .batch(64)\n",
        "    .prefetch(tf.data.AUTOTUNE)\n",
        ")"
      ],
      "metadata": {
        "id": "RLQ9H8csOUJj"
      },
      "execution_count": 13,
      "outputs": []
    },
    {
      "cell_type": "code",
      "source": [
        "# build the layers of CNN model\n",
        "from tensorflow.keras import layers,models\n",
        "\n",
        "cnn_model = models.Sequential([\n",
        "    layers.Conv2D(filters=30, kernel_size=(3, 3), activation='relu', input_shape=(150, 150, 3), padding = 'same'),\n",
        "    layers.MaxPooling2D((2, 2)),\n",
        "    \n",
        "    # layers.BatchNormalization(),\n",
        "\n",
        "    layers.Conv2D(filters=64, kernel_size=(3, 3), activation='relu', padding = 'same'),\n",
        "    layers.MaxPooling2D((2, 2)),\n",
        "\n",
        "    # layers.BatchNormalization(),\n",
        "    \n",
        "    # layers.Conv2D(filters=128, kernel_size=(3, 3), activation='relu', padding = 'same'),\n",
        "    # layers.MaxPooling2D((2, 2)),\n",
        "    \n",
        "    layers.Flatten(),\n",
        "    layers.Dense(64, activation='relu'),\n",
        "    # layers.Dropout(0.25),\n",
        "    layers.Dense(3, activation='softmax')\n",
        "])"
      ],
      "metadata": {
        "id": "WIRVJ2uPOUMh"
      },
      "execution_count": 14,
      "outputs": []
    },
    {
      "cell_type": "code",
      "source": [
        "# view the summary of the cnn model\n",
        "cnn_model.summary()"
      ],
      "metadata": {
        "colab": {
          "base_uri": "https://localhost:8080/"
        },
        "id": "psaHg4VTGDS8",
        "outputId": "27dedabd-8946-45b1-ab0a-4f7a4a158399"
      },
      "execution_count": 15,
      "outputs": [
        {
          "output_type": "stream",
          "name": "stdout",
          "text": [
            "Model: \"sequential\"\n",
            "_________________________________________________________________\n",
            " Layer (type)                Output Shape              Param #   \n",
            "=================================================================\n",
            " conv2d (Conv2D)             (None, 150, 150, 30)      840       \n",
            "                                                                 \n",
            " max_pooling2d (MaxPooling2D  (None, 75, 75, 30)       0         \n",
            " )                                                               \n",
            "                                                                 \n",
            " conv2d_1 (Conv2D)           (None, 75, 75, 64)        17344     \n",
            "                                                                 \n",
            " max_pooling2d_1 (MaxPooling  (None, 37, 37, 64)       0         \n",
            " 2D)                                                             \n",
            "                                                                 \n",
            " flatten (Flatten)           (None, 87616)             0         \n",
            "                                                                 \n",
            " dense (Dense)               (None, 64)                5607488   \n",
            "                                                                 \n",
            " dense_1 (Dense)             (None, 3)                 195       \n",
            "                                                                 \n",
            "=================================================================\n",
            "Total params: 5,625,867\n",
            "Trainable params: 5,625,867\n",
            "Non-trainable params: 0\n",
            "_________________________________________________________________\n"
          ]
        }
      ]
    },
    {
      "cell_type": "code",
      "source": [
        "# compile the model\n",
        "cnn_model.compile(optimizer='adam',\n",
        "              loss='sparse_categorical_crossentropy',\n",
        "              metrics=['accuracy'])"
      ],
      "metadata": {
        "id": "Wb3AQOdpGF-b"
      },
      "execution_count": 16,
      "outputs": []
    },
    {
      "cell_type": "code",
      "source": [
        "# fit the model\n",
        "cnn_model.fit(train_set, epochs=10, validation_data=test_set)"
      ],
      "metadata": {
        "colab": {
          "base_uri": "https://localhost:8080/"
        },
        "id": "1CechJtpGJ4d",
        "outputId": "3b3a1bc0-a4fa-4ca0-9f5a-dfb3b5871008"
      },
      "execution_count": 17,
      "outputs": [
        {
          "output_type": "stream",
          "name": "stdout",
          "text": [
            "Epoch 1/10\n",
            "280/280 [==============================] - 2737s 10s/step - loss: 0.8785 - accuracy: 0.6131 - val_loss: 0.7454 - val_accuracy: 0.6734\n",
            "Epoch 2/10\n",
            "280/280 [==============================] - 51s 182ms/step - loss: 0.7298 - accuracy: 0.6810 - val_loss: 0.6781 - val_accuracy: 0.7061\n",
            "Epoch 3/10\n",
            "280/280 [==============================] - 49s 174ms/step - loss: 0.6734 - accuracy: 0.7116 - val_loss: 0.6188 - val_accuracy: 0.7368\n",
            "Epoch 4/10\n",
            "280/280 [==============================] - 49s 177ms/step - loss: 0.6069 - accuracy: 0.7443 - val_loss: 0.5630 - val_accuracy: 0.7614\n",
            "Epoch 5/10\n",
            "280/280 [==============================] - 67s 240ms/step - loss: 0.5390 - accuracy: 0.7765 - val_loss: 0.5010 - val_accuracy: 0.7913\n",
            "Epoch 6/10\n",
            "280/280 [==============================] - 49s 177ms/step - loss: 0.4662 - accuracy: 0.8115 - val_loss: 0.4909 - val_accuracy: 0.7956\n",
            "Epoch 7/10\n",
            "280/280 [==============================] - 49s 176ms/step - loss: 0.4174 - accuracy: 0.8330 - val_loss: 0.4489 - val_accuracy: 0.8153\n",
            "Epoch 8/10\n",
            "280/280 [==============================] - 49s 174ms/step - loss: 0.3786 - accuracy: 0.8511 - val_loss: 0.4403 - val_accuracy: 0.8298\n",
            "Epoch 9/10\n",
            "280/280 [==============================] - 48s 171ms/step - loss: 0.3183 - accuracy: 0.8759 - val_loss: 0.4031 - val_accuracy: 0.8476\n",
            "Epoch 10/10\n",
            "280/280 [==============================] - 50s 179ms/step - loss: 0.2727 - accuracy: 0.8942 - val_loss: 0.3751 - val_accuracy: 0.8637\n"
          ]
        },
        {
          "output_type": "execute_result",
          "data": {
            "text/plain": [
              "<keras.callbacks.History at 0x7fc802235910>"
            ]
          },
          "metadata": {},
          "execution_count": 17
        }
      ]
    },
    {
      "cell_type": "code",
      "source": [
        "#train accuracy \n",
        "cnn_model.evaluate(train_set)"
      ],
      "metadata": {
        "colab": {
          "base_uri": "https://localhost:8080/"
        },
        "id": "7ERNfV_jGNGW",
        "outputId": "feee71a8-83f2-44c6-8c31-ea5c7b3f0284"
      },
      "execution_count": 18,
      "outputs": [
        {
          "output_type": "stream",
          "name": "stdout",
          "text": [
            "280/280 [==============================] - 26s 91ms/step - loss: 0.2914 - accuracy: 0.8839\n"
          ]
        },
        {
          "output_type": "execute_result",
          "data": {
            "text/plain": [
              "[0.29138681292533875, 0.8838961720466614]"
            ]
          },
          "metadata": {},
          "execution_count": 18
        }
      ]
    },
    {
      "cell_type": "code",
      "source": [
        "test_set"
      ],
      "metadata": {
        "colab": {
          "base_uri": "https://localhost:8080/"
        },
        "id": "2MIbQlPllyA5",
        "outputId": "38f23f88-4fe8-4359-c826-6a48c3257e14"
      },
      "execution_count": 52,
      "outputs": [
        {
          "output_type": "execute_result",
          "data": {
            "text/plain": [
              "<PrefetchDataset element_spec=(TensorSpec(shape=(None, 150, 150, 3), dtype=tf.float32, name=None), TensorSpec(shape=(None,), dtype=tf.int32, name=None))>"
            ]
          },
          "metadata": {},
          "execution_count": 52
        }
      ]
    },
    {
      "cell_type": "code",
      "source": [
        "# test accuracy\n",
        "cnn_model.evaluate(test_set)"
      ],
      "metadata": {
        "colab": {
          "base_uri": "https://localhost:8080/"
        },
        "id": "Dn6heJtJGbmN",
        "outputId": "6904ee0a-50fa-4774-c4da-138750cfd8d6"
      },
      "execution_count": 19,
      "outputs": [
        {
          "output_type": "stream",
          "name": "stdout",
          "text": [
            "280/280 [==============================] - 25s 88ms/step - loss: 0.3751 - accuracy: 0.8637\n"
          ]
        },
        {
          "output_type": "execute_result",
          "data": {
            "text/plain": [
              "[0.37507709860801697, 0.8636972308158875]"
            ]
          },
          "metadata": {},
          "execution_count": 19
        }
      ]
    },
    {
      "cell_type": "code",
      "source": [
        "test_pred = cnn_model.predict(test_set)"
      ],
      "metadata": {
        "colab": {
          "base_uri": "https://localhost:8080/"
        },
        "id": "b7ht_gHAVptd",
        "outputId": "667393d3-3c30-47f1-8a80-eeef1620e2b6"
      },
      "execution_count": 20,
      "outputs": [
        {
          "output_type": "stream",
          "name": "stdout",
          "text": [
            "280/280 [==============================] - 27s 95ms/step\n"
          ]
        }
      ]
    },
    {
      "cell_type": "code",
      "source": [
        "y_labels = [np.argmax(item) for item in test_pred]\n",
        "print(\"Test Predictions response sample:\",y_labels[:10])\n",
        "\n",
        "test_response = response_list[test_size:]\n",
        "print(\"Test True response sample:\", test_response[:10])\n"
      ],
      "metadata": {
        "colab": {
          "base_uri": "https://localhost:8080/"
        },
        "id": "FuMi8zWRZAdg",
        "outputId": "3f623e5b-57ce-4316-ed6b-7519f544e918"
      },
      "execution_count": 21,
      "outputs": [
        {
          "output_type": "stream",
          "name": "stdout",
          "text": [
            "Test Predictions response sample: [1, 1, 0, 0, 1, 0, 0, 1, 1, 0]\n",
            "Test True response sample: [1, 1, 0, 0, 1, 0, 1, 1, 1, 0]\n"
          ]
        }
      ]
    },
    {
      "cell_type": "code",
      "source": [
        "class_names = ['YOUNG','MIDDLE','OLD']"
      ],
      "metadata": {
        "id": "01Eo8-7lZNVz"
      },
      "execution_count": 22,
      "outputs": []
    },
    {
      "cell_type": "code",
      "source": [
        "# funtion to plot confusio matrix to check the accuracy of each class value\n",
        "def plot_confusion_matrix(y_true, y_pred, classes,\n",
        "                          normalize=False,\n",
        "                          title=None,\n",
        "                          cmap=plt.cm.Blues):\n",
        "    \"\"\"\n",
        "    This function prints and plots the confusion matrix.\n",
        "    Normalization can be applied by setting `normalize=True`.\n",
        "    \"\"\"\n",
        "    if not title:\n",
        "        if normalize:\n",
        "            title = 'Normalized confusion matrix'\n",
        "        else:\n",
        "            title = 'Confusion matrix, without normalization'\n",
        "\n",
        "    # Compute confusion matrix\n",
        "    cm = confusion_matrix(y_true, y_pred)\n",
        "    if normalize:\n",
        "        cm = cm.astype('float') / cm.sum(axis=1)[:, np.newaxis]\n",
        "        print(\"Normalized confusion matrix\")\n",
        "    else:\n",
        "        print('Confusion matrix, without normalization')\n",
        "\n",
        "#     print(cm)\n",
        "\n",
        "    fig, ax = plt.subplots(figsize=(7,7))\n",
        "    im = ax.imshow(cm, interpolation='nearest', cmap=cmap)\n",
        "    ax.figure.colorbar(im, ax=ax)\n",
        "    # We want to show all ticks...\n",
        "    ax.set(xticks=np.arange(cm.shape[1]),\n",
        "           yticks=np.arange(cm.shape[0]),\n",
        "           # ... and label them with the respective list entries\n",
        "           xticklabels=classes, yticklabels=classes,\n",
        "           title=title,\n",
        "           ylabel='True label',\n",
        "           xlabel='Predicted label')\n",
        "\n",
        "    # Rotate the tick labels and set their alignment.\n",
        "    plt.setp(ax.get_xticklabels(), rotation=45, ha=\"right\",\n",
        "             rotation_mode=\"anchor\")\n",
        "    # Loop over data dimensions and create text annotations.\n",
        "    fmt = '.2f' if normalize else 'd'\n",
        "    thresh = cm.max() / 2.\n",
        "    for i in range(cm.shape[0]):\n",
        "        for j in range(cm.shape[1]):\n",
        "            ax.text(j, i, format(cm[i, j], fmt),\n",
        "                    ha=\"center\", va=\"center\",\n",
        "                    color=\"white\" if cm[i, j] > thresh else \"black\")\n",
        "    fig.tight_layout()\n",
        "    return ax\n",
        "\n",
        "\n",
        "np.set_printoptions(precision=2)"
      ],
      "metadata": {
        "id": "VwO2xr1YZSCr"
      },
      "execution_count": 23,
      "outputs": []
    },
    {
      "cell_type": "code",
      "source": [
        "# plotting confusion matrix without normalization\n",
        "plot_confusion_matrix(y_labels, test_response, classes=class_names,\n",
        "                      title='Confusion matrix, without normalization')"
      ],
      "metadata": {
        "colab": {
          "base_uri": "https://localhost:8080/",
          "height": 527
        },
        "id": "aVvP_bupZXqW",
        "outputId": "a867e078-58c1-45e5-f3ca-52896aae3373"
      },
      "execution_count": 24,
      "outputs": [
        {
          "output_type": "stream",
          "name": "stdout",
          "text": [
            "Confusion matrix, without normalization\n"
          ]
        },
        {
          "output_type": "execute_result",
          "data": {
            "text/plain": [
              "<AxesSubplot:title={'center':'Confusion matrix, without normalization'}, xlabel='Predicted label', ylabel='True label'>"
            ]
          },
          "metadata": {},
          "execution_count": 24
        },
        {
          "output_type": "display_data",
          "data": {
            "text/plain": [
              "<Figure size 504x504 with 2 Axes>"
            ],
            "image/png": "[encoded data removed]"
          },
          "metadata": {
            "needs_background": "light"
          }
        }
      ]
    },
    {
      "cell_type": "code",
      "source": [
        "# plotting confusion matrix with normalization\n",
        "plot_confusion_matrix(y_labels, test_response, classes=class_names, normalize=True,\n",
        "                      title='Normalized confusion matrix')"
      ],
      "metadata": {
        "colab": {
          "base_uri": "https://localhost:8080/",
          "height": 528
        },
        "id": "l7RqXChHZ9Ol",
        "outputId": "9b7f845b-c747-44e5-a896-6c9a4deb7ef6"
      },
      "execution_count": 25,
      "outputs": [
        {
          "output_type": "stream",
          "name": "stdout",
          "text": [
            "Normalized confusion matrix\n"
          ]
        },
        {
          "output_type": "execute_result",
          "data": {
            "text/plain": [
              "<AxesSubplot:title={'center':'Normalized confusion matrix'}, xlabel='Predicted label', ylabel='True label'>"
            ]
          },
          "metadata": {},
          "execution_count": 25
        },
        {
          "output_type": "display_data",
          "data": {
            "text/plain": [
              "<Figure size 504x504 with 2 Axes>"
            ],
            "image/png": "[encoded data removed]"
          },
          "metadata": {
            "needs_background": "light"
          }
        }
      ]
    },
    {
      "cell_type": "markdown",
      "source": [
        "# Prediction for test dataset using final model"
      ],
      "metadata": {
        "id": "_a_79knqa3lE"
      }
    },
    {
      "cell_type": "code",
      "source": [
        "#Lets load the test data set\n",
        "test = pd.read_csv('/content/drive/MyDrive/DSP/Analytical  Vidhya/1 - Face detection/test_dataset2/test_Bh8pGW3/test.csv')\n",
        "test.head()"
      ],
      "metadata": {
        "colab": {
          "base_uri": "https://localhost:8080/",
          "height": 206
        },
        "id": "b4u_KT7MaBoc",
        "outputId": "ca82de45-7f69-41fc-fb68-b478d7450dd3"
      },
      "execution_count": 62,
      "outputs": [
        {
          "output_type": "execute_result",
          "data": {
            "text/plain": [
              "          ID\n",
              "0  25321.jpg\n",
              "1    989.jpg\n",
              "2  19277.jpg\n",
              "3  13093.jpg\n",
              "4   5367.jpg"
            ],
            "text/html": [
              "\n",
              "  <div id=\"df-d3e93fc0-d204-4d29-8a61-4bf9a47d87e0\">\n",
              "    <div class=\"colab-df-container\">\n",
              "      <div>\n",
              "<style scoped>\n",
              "    .dataframe tbody tr th:only-of-type {\n",
              "        vertical-align: middle;\n",
              "    }\n",
              "\n",
              "    .dataframe tbody tr th {\n",
              "        vertical-align: top;\n",
              "    }\n",
              "\n",
              "    .dataframe thead th {\n",
              "        text-align: right;\n",
              "    }\n",
              "</style>\n",
              "<table border=\"1\" class=\"dataframe\">\n",
              "  <thead>\n",
              "    <tr style=\"text-align: right;\">\n",
              "      <th></th>\n",
              "      <th>ID</th>\n",
              "    </tr>\n",
              "  </thead>\n",
              "  <tbody>\n",
              "    <tr>\n",
              "      <th>0</th>\n",
              "      <td>25321.jpg</td>\n",
              "    </tr>\n",
              "    <tr>\n",
              "      <th>1</th>\n",
              "      <td>989.jpg</td>\n",
              "    </tr>\n",
              "    <tr>\n",
              "      <th>2</th>\n",
              "      <td>19277.jpg</td>\n",
              "    </tr>\n",
              "    <tr>\n",
              "      <th>3</th>\n",
              "      <td>13093.jpg</td>\n",
              "    </tr>\n",
              "    <tr>\n",
              "      <th>4</th>\n",
              "      <td>5367.jpg</td>\n",
              "    </tr>\n",
              "  </tbody>\n",
              "</table>\n",
              "</div>\n",
              "      <button class=\"colab-df-convert\" onclick=\"convertToInteractive('df-d3e93fc0-d204-4d29-8a61-4bf9a47d87e0')\"\n",
              "              title=\"Convert this dataframe to an interactive table.\"\n",
              "              style=\"display:none;\">\n",
              "        \n",
              "  <svg xmlns=\"http://www.w3.org/2000/svg\" height=\"24px\"viewBox=\"0 0 24 24\"\n",
              "       width=\"24px\">\n",
              "    <path d=\"M0 0h24v24H0V0z\" fill=\"none\"/>\n",
              "    <path d=\"M18.56 5.44l.94 2.06.94-2.06 2.06-.94-2.06-.94-.94-2.06-.94 2.06-2.06.94zm-11 1L8.5 8.5l.94-2.06 2.06-.94-2.06-.94L8.5 2.5l-.94 2.06-2.06.94zm10 10l.94 2.06.94-2.06 2.06-.94-2.06-.94-.94-2.06-.94 2.06-2.06.94z\"/><path d=\"M17.41 7.96l-1.37-1.37c-.4-.4-.92-.59-1.43-.59-.52 0-1.04.2-1.43.59L10.3 9.45l-7.72 7.72c-.78.78-.78 2.05 0 2.83L4 21.41c.39.39.9.59 1.41.59.51 0 1.02-.2 1.41-.59l7.78-7.78 2.81-2.81c.8-.78.8-2.07 0-2.86zM5.41 20L4 18.59l7.72-7.72 1.47 1.35L5.41 20z\"/>\n",
              "  </svg>\n",
              "      </button>\n",
              "      \n",
              "  <style>\n",
              "    .colab-df-container {\n",
              "      display:flex;\n",
              "      flex-wrap:wrap;\n",
              "      gap: 12px;\n",
              "    }\n",
              "\n",
              "    .colab-df-convert {\n",
              "      background-color: #E8F0FE;\n",
              "      border: none;\n",
              "      border-radius: 50%;\n",
              "      cursor: pointer;\n",
              "      display: none;\n",
              "      fill: #1967D2;\n",
              "      height: 32px;\n",
              "      padding: 0 0 0 0;\n",
              "      width: 32px;\n",
              "    }\n",
              "\n",
              "    .colab-df-convert:hover {\n",
              "      background-color: #E2EBFA;\n",
              "      box-shadow: 0px 1px 2px rgba(60, 64, 67, 0.3), 0px 1px 3px 1px rgba(60, 64, 67, 0.15);\n",
              "      fill: #174EA6;\n",
              "    }\n",
              "\n",
              "    [theme=dark] .colab-df-convert {\n",
              "      background-color: #3B4455;\n",
              "      fill: #D2E3FC;\n",
              "    }\n",
              "\n",
              "    [theme=dark] .colab-df-convert:hover {\n",
              "      background-color: #434B5C;\n",
              "      box-shadow: 0px 1px 3px 1px rgba(0, 0, 0, 0.15);\n",
              "      filter: drop-shadow(0px 1px 2px rgba(0, 0, 0, 0.3));\n",
              "      fill: #FFFFFF;\n",
              "    }\n",
              "  </style>\n",
              "\n",
              "      <script>\n",
              "        const buttonEl =\n",
              "          document.querySelector('#df-d3e93fc0-d204-4d29-8a61-4bf9a47d87e0 button.colab-df-convert');\n",
              "        buttonEl.style.display =\n",
              "          google.colab.kernel.accessAllowed ? 'block' : 'none';\n",
              "\n",
              "        async function convertToInteractive(key) {\n",
              "          const element = document.querySelector('#df-d3e93fc0-d204-4d29-8a61-4bf9a47d87e0');\n",
              "          const dataTable =\n",
              "            await google.colab.kernel.invokeFunction('convertToInteractive',\n",
              "                                                     [key], {});\n",
              "          if (!dataTable) return;\n",
              "\n",
              "          const docLinkHtml = 'Like what you see? Visit the ' +\n",
              "            '<a target=\"_blank\" href=https://colab.research.google.com/notebooks/data_table.ipynb>data table notebook</a>'\n",
              "            + ' to learn more about interactive tables.';\n",
              "          element.innerHTML = '';\n",
              "          dataTable['output_type'] = 'display_data';\n",
              "          await google.colab.output.renderOutput(dataTable, element);\n",
              "          const docLink = document.createElement('div');\n",
              "          docLink.innerHTML = docLinkHtml;\n",
              "          element.appendChild(docLink);\n",
              "        }\n",
              "      </script>\n",
              "    </div>\n",
              "  </div>\n",
              "  "
            ]
          },
          "metadata": {},
          "execution_count": 62
        }
      ]
    },
    {
      "cell_type": "code",
      "source": [
        "#data['Class'].replace(['YOUNG','MIDDLE','OLD'],[0,1,2],inplace=True)\n",
        "#data.head(3)"
      ],
      "metadata": {
        "id": "EDSvvAlUbmfV"
      },
      "execution_count": null,
      "outputs": []
    },
    {
      "cell_type": "code",
      "source": [
        "def readImage(path,ch = 3, resize=(150,150)):\n",
        "\tdi = tf.io.read_file(path)\n",
        "\tdi = tf.image.decode_jpeg(di, channels=ch)\n",
        "\tdi = tf.image.convert_image_dtype(di, dtype=tf.float32)\n",
        "\tdi = tf.image.resize(di, resize)\n",
        "\treturn di"
      ],
      "metadata": {
        "id": "UbK01yyMdvat"
      },
      "execution_count": 63,
      "outputs": []
    },
    {
      "cell_type": "code",
      "source": [
        "# built the list of image paths and list of respective responses of the images\n",
        "PATH = \"/content/drive/MyDrive/DSP/Analytical  Vidhya/1 - Face detection/test_dataset2/test_Bh8pGW3/Test\"\n",
        "image_paths = []\n",
        "for path in os.listdir(PATH):\n",
        "    image_paths.append(PATH+\"/\"+path)\n",
        "print(len(image_paths))\n",
        "\n",
        "#response_list = []\n",
        "\n",
        "#for i in image_paths:\n",
        " #   _,tail = os.path.split(i)\n",
        "    #response = test.loc[test['ID'] == tail]['Class'].values[0]\n",
        "   # response_list.append(response)\n",
        "#print(len(response_list))"
      ],
      "metadata": {
        "colab": {
          "base_uri": "https://localhost:8080/"
        },
        "id": "KmOCfZmoe0J5",
        "outputId": "9e63067a-b57b-433f-e1f0-5f5bedf00973"
      },
      "execution_count": 64,
      "outputs": [
        {
          "output_type": "stream",
          "name": "stdout",
          "text": [
            "6636\n"
          ]
        }
      ]
    },
    {
      "cell_type": "code",
      "source": [
        "image_paths"
      ],
      "metadata": {
        "colab": {
          "base_uri": "https://localhost:8080/"
        },
        "id": "OoUj3Se2fJQ1",
        "outputId": "996c0581-0ba3-46f9-b6d2-37855fa7ca3b"
      },
      "execution_count": 96,
      "outputs": [
        {
          "output_type": "execute_result",
          "data": {
            "text/plain": [
              "['/content/drive/MyDrive/DSP/Analytical  Vidhya/1 - Face detection/test_dataset2/test_Bh8pGW3/Test/15057.jpg',\n",
              " '/content/drive/MyDrive/DSP/Analytical  Vidhya/1 - Face detection/test_dataset2/test_Bh8pGW3/Test/15098.jpg',\n",
              " '/content/drive/MyDrive/DSP/Analytical  Vidhya/1 - Face detection/test_dataset2/test_Bh8pGW3/Test/15095.jpg',\n",
              " '/content/drive/MyDrive/DSP/Analytical  Vidhya/1 - Face detection/test_dataset2/test_Bh8pGW3/Test/15093.jpg',\n",
              " '/content/drive/MyDrive/DSP/Analytical  Vidhya/1 - Face detection/test_dataset2/test_Bh8pGW3/Test/15073.jpg',\n",
              " '/content/drive/MyDrive/DSP/Analytical  Vidhya/1 - Face detection/test_dataset2/test_Bh8pGW3/Test/15071.jpg',\n",
              " '/content/drive/MyDrive/DSP/Analytical  Vidhya/1 - Face detection/test_dataset2/test_Bh8pGW3/Test/15066.jpg',\n",
              " '/content/drive/MyDrive/DSP/Analytical  Vidhya/1 - Face detection/test_dataset2/test_Bh8pGW3/Test/15075.jpg',\n",
              " '/content/drive/MyDrive/DSP/Analytical  Vidhya/1 - Face detection/test_dataset2/test_Bh8pGW3/Test/15064.jpg',\n",
              " '/content/drive/MyDrive/DSP/Analytical  Vidhya/1 - Face detection/test_dataset2/test_Bh8pGW3/Test/15067.jpg',\n",
              " '/content/drive/MyDrive/DSP/Analytical  Vidhya/1 - Face detection/test_dataset2/test_Bh8pGW3/Test/15078.jpg',\n",
              " '/content/drive/MyDrive/DSP/Analytical  Vidhya/1 - Face detection/test_dataset2/test_Bh8pGW3/Test/15087.jpg',\n",
              " '/content/drive/MyDrive/DSP/Analytical  Vidhya/1 - Face detection/test_dataset2/test_Bh8pGW3/Test/15382.jpg',\n",
              " '/content/drive/MyDrive/DSP/Analytical  Vidhya/1 - Face detection/test_dataset2/test_Bh8pGW3/Test/15359.jpg',\n",
              " '/content/drive/MyDrive/DSP/Analytical  Vidhya/1 - Face detection/test_dataset2/test_Bh8pGW3/Test/1538.jpg',\n",
              " '/content/drive/MyDrive/DSP/Analytical  Vidhya/1 - Face detection/test_dataset2/test_Bh8pGW3/Test/15350.jpg',\n",
              " '/content/drive/MyDrive/DSP/Analytical  Vidhya/1 - Face detection/test_dataset2/test_Bh8pGW3/Test/15354.jpg',\n",
              " '/content/drive/MyDrive/DSP/Analytical  Vidhya/1 - Face detection/test_dataset2/test_Bh8pGW3/Test/15348.jpg',\n",
              " '/content/drive/MyDrive/DSP/Analytical  Vidhya/1 - Face detection/test_dataset2/test_Bh8pGW3/Test/15320.jpg',\n",
              " '/content/drive/MyDrive/DSP/Analytical  Vidhya/1 - Face detection/test_dataset2/test_Bh8pGW3/Test/15345.jpg',\n",
              " '/content/drive/MyDrive/DSP/Analytical  Vidhya/1 - Face detection/test_dataset2/test_Bh8pGW3/Test/15326.jpg',\n",
              " '/content/drive/MyDrive/DSP/Analytical  Vidhya/1 - Face detection/test_dataset2/test_Bh8pGW3/Test/15341.jpg',\n",
              " '/content/drive/MyDrive/DSP/Analytical  Vidhya/1 - Face detection/test_dataset2/test_Bh8pGW3/Test/15325.jpg',\n",
              " '/content/drive/MyDrive/DSP/Analytical  Vidhya/1 - Face detection/test_dataset2/test_Bh8pGW3/Test/15334.jpg',\n",
              " '/content/drive/MyDrive/DSP/Analytical  Vidhya/1 - Face detection/test_dataset2/test_Bh8pGW3/Test/15319.jpg',\n",
              " '/content/drive/MyDrive/DSP/Analytical  Vidhya/1 - Face detection/test_dataset2/test_Bh8pGW3/Test/15349.jpg',\n",
              " '/content/drive/MyDrive/DSP/Analytical  Vidhya/1 - Face detection/test_dataset2/test_Bh8pGW3/Test/1535.jpg',\n",
              " '/content/drive/MyDrive/DSP/Analytical  Vidhya/1 - Face detection/test_dataset2/test_Bh8pGW3/Test/1528.jpg',\n",
              " '/content/drive/MyDrive/DSP/Analytical  Vidhya/1 - Face detection/test_dataset2/test_Bh8pGW3/Test/15301.jpg',\n",
              " '/content/drive/MyDrive/DSP/Analytical  Vidhya/1 - Face detection/test_dataset2/test_Bh8pGW3/Test/15299.jpg',\n",
              " '/content/drive/MyDrive/DSP/Analytical  Vidhya/1 - Face detection/test_dataset2/test_Bh8pGW3/Test/15276.jpg',\n",
              " '/content/drive/MyDrive/DSP/Analytical  Vidhya/1 - Face detection/test_dataset2/test_Bh8pGW3/Test/1525.jpg',\n",
              " '/content/drive/MyDrive/DSP/Analytical  Vidhya/1 - Face detection/test_dataset2/test_Bh8pGW3/Test/15303.jpg',\n",
              " '/content/drive/MyDrive/DSP/Analytical  Vidhya/1 - Face detection/test_dataset2/test_Bh8pGW3/Test/15250.jpg',\n",
              " '/content/drive/MyDrive/DSP/Analytical  Vidhya/1 - Face detection/test_dataset2/test_Bh8pGW3/Test/15307.jpg',\n",
              " '/content/drive/MyDrive/DSP/Analytical  Vidhya/1 - Face detection/test_dataset2/test_Bh8pGW3/Test/15317.jpg',\n",
              " '/content/drive/MyDrive/DSP/Analytical  Vidhya/1 - Face detection/test_dataset2/test_Bh8pGW3/Test/15241.jpg',\n",
              " '/content/drive/MyDrive/DSP/Analytical  Vidhya/1 - Face detection/test_dataset2/test_Bh8pGW3/Test/15248.jpg',\n",
              " '/content/drive/MyDrive/DSP/Analytical  Vidhya/1 - Face detection/test_dataset2/test_Bh8pGW3/Test/1524.jpg',\n",
              " '/content/drive/MyDrive/DSP/Analytical  Vidhya/1 - Face detection/test_dataset2/test_Bh8pGW3/Test/1519.jpg',\n",
              " '/content/drive/MyDrive/DSP/Analytical  Vidhya/1 - Face detection/test_dataset2/test_Bh8pGW3/Test/15195.jpg',\n",
              " '/content/drive/MyDrive/DSP/Analytical  Vidhya/1 - Face detection/test_dataset2/test_Bh8pGW3/Test/15202.jpg',\n",
              " '/content/drive/MyDrive/DSP/Analytical  Vidhya/1 - Face detection/test_dataset2/test_Bh8pGW3/Test/15228.jpg',\n",
              " '/content/drive/MyDrive/DSP/Analytical  Vidhya/1 - Face detection/test_dataset2/test_Bh8pGW3/Test/15226.jpg',\n",
              " '/content/drive/MyDrive/DSP/Analytical  Vidhya/1 - Face detection/test_dataset2/test_Bh8pGW3/Test/15201.jpg',\n",
              " '/content/drive/MyDrive/DSP/Analytical  Vidhya/1 - Face detection/test_dataset2/test_Bh8pGW3/Test/15188.jpg',\n",
              " '/content/drive/MyDrive/DSP/Analytical  Vidhya/1 - Face detection/test_dataset2/test_Bh8pGW3/Test/15187.jpg',\n",
              " '/content/drive/MyDrive/DSP/Analytical  Vidhya/1 - Face detection/test_dataset2/test_Bh8pGW3/Test/1523.jpg',\n",
              " '/content/drive/MyDrive/DSP/Analytical  Vidhya/1 - Face detection/test_dataset2/test_Bh8pGW3/Test/15239.jpg',\n",
              " '/content/drive/MyDrive/DSP/Analytical  Vidhya/1 - Face detection/test_dataset2/test_Bh8pGW3/Test/15177.jpg',\n",
              " '/content/drive/MyDrive/DSP/Analytical  Vidhya/1 - Face detection/test_dataset2/test_Bh8pGW3/Test/15175.jpg',\n",
              " '/content/drive/MyDrive/DSP/Analytical  Vidhya/1 - Face detection/test_dataset2/test_Bh8pGW3/Test/1517.jpg',\n",
              " '/content/drive/MyDrive/DSP/Analytical  Vidhya/1 - Face detection/test_dataset2/test_Bh8pGW3/Test/15173.jpg',\n",
              " '/content/drive/MyDrive/DSP/Analytical  Vidhya/1 - Face detection/test_dataset2/test_Bh8pGW3/Test/15171.jpg',\n",
              " '/content/drive/MyDrive/DSP/Analytical  Vidhya/1 - Face detection/test_dataset2/test_Bh8pGW3/Test/15168.jpg',\n",
              " '/content/drive/MyDrive/DSP/Analytical  Vidhya/1 - Face detection/test_dataset2/test_Bh8pGW3/Test/15170.jpg',\n",
              " '/content/drive/MyDrive/DSP/Analytical  Vidhya/1 - Face detection/test_dataset2/test_Bh8pGW3/Test/15186.jpg',\n",
              " '/content/drive/MyDrive/DSP/Analytical  Vidhya/1 - Face detection/test_dataset2/test_Bh8pGW3/Test/15184.jpg',\n",
              " '/content/drive/MyDrive/DSP/Analytical  Vidhya/1 - Face detection/test_dataset2/test_Bh8pGW3/Test/15167.jpg',\n",
              " '/content/drive/MyDrive/DSP/Analytical  Vidhya/1 - Face detection/test_dataset2/test_Bh8pGW3/Test/15165.jpg',\n",
              " '/content/drive/MyDrive/DSP/Analytical  Vidhya/1 - Face detection/test_dataset2/test_Bh8pGW3/Test/15158.jpg',\n",
              " '/content/drive/MyDrive/DSP/Analytical  Vidhya/1 - Face detection/test_dataset2/test_Bh8pGW3/Test/14853.jpg',\n",
              " '/content/drive/MyDrive/DSP/Analytical  Vidhya/1 - Face detection/test_dataset2/test_Bh8pGW3/Test/15135.jpg',\n",
              " '/content/drive/MyDrive/DSP/Analytical  Vidhya/1 - Face detection/test_dataset2/test_Bh8pGW3/Test/15139.jpg',\n",
              " '/content/drive/MyDrive/DSP/Analytical  Vidhya/1 - Face detection/test_dataset2/test_Bh8pGW3/Test/15146.jpg',\n",
              " '/content/drive/MyDrive/DSP/Analytical  Vidhya/1 - Face detection/test_dataset2/test_Bh8pGW3/Test/15140.jpg',\n",
              " '/content/drive/MyDrive/DSP/Analytical  Vidhya/1 - Face detection/test_dataset2/test_Bh8pGW3/Test/15142.jpg',\n",
              " '/content/drive/MyDrive/DSP/Analytical  Vidhya/1 - Face detection/test_dataset2/test_Bh8pGW3/Test/15141.jpg',\n",
              " '/content/drive/MyDrive/DSP/Analytical  Vidhya/1 - Face detection/test_dataset2/test_Bh8pGW3/Test/15148.jpg',\n",
              " '/content/drive/MyDrive/DSP/Analytical  Vidhya/1 - Face detection/test_dataset2/test_Bh8pGW3/Test/1478.jpg',\n",
              " '/content/drive/MyDrive/DSP/Analytical  Vidhya/1 - Face detection/test_dataset2/test_Bh8pGW3/Test/14776.jpg',\n",
              " '/content/drive/MyDrive/DSP/Analytical  Vidhya/1 - Face detection/test_dataset2/test_Bh8pGW3/Test/14774.jpg',\n",
              " '/content/drive/MyDrive/DSP/Analytical  Vidhya/1 - Face detection/test_dataset2/test_Bh8pGW3/Test/14777.jpg',\n",
              " '/content/drive/MyDrive/DSP/Analytical  Vidhya/1 - Face detection/test_dataset2/test_Bh8pGW3/Test/1480.jpg',\n",
              " '/content/drive/MyDrive/DSP/Analytical  Vidhya/1 - Face detection/test_dataset2/test_Bh8pGW3/Test/14790.jpg',\n",
              " '/content/drive/MyDrive/DSP/Analytical  Vidhya/1 - Face detection/test_dataset2/test_Bh8pGW3/Test/14781.jpg',\n",
              " '/content/drive/MyDrive/DSP/Analytical  Vidhya/1 - Face detection/test_dataset2/test_Bh8pGW3/Test/14767.jpg',\n",
              " '/content/drive/MyDrive/DSP/Analytical  Vidhya/1 - Face detection/test_dataset2/test_Bh8pGW3/Test/14823.jpg',\n",
              " '/content/drive/MyDrive/DSP/Analytical  Vidhya/1 - Face detection/test_dataset2/test_Bh8pGW3/Test/14763.jpg',\n",
              " '/content/drive/MyDrive/DSP/Analytical  Vidhya/1 - Face detection/test_dataset2/test_Bh8pGW3/Test/15157.jpg',\n",
              " '/content/drive/MyDrive/DSP/Analytical  Vidhya/1 - Face detection/test_dataset2/test_Bh8pGW3/Test/15125.jpg',\n",
              " '/content/drive/MyDrive/DSP/Analytical  Vidhya/1 - Face detection/test_dataset2/test_Bh8pGW3/Test/15136.jpg',\n",
              " '/content/drive/MyDrive/DSP/Analytical  Vidhya/1 - Face detection/test_dataset2/test_Bh8pGW3/Test/15114.jpg',\n",
              " '/content/drive/MyDrive/DSP/Analytical  Vidhya/1 - Face detection/test_dataset2/test_Bh8pGW3/Test/15117.jpg',\n",
              " '/content/drive/MyDrive/DSP/Analytical  Vidhya/1 - Face detection/test_dataset2/test_Bh8pGW3/Test/15107.jpg',\n",
              " '/content/drive/MyDrive/DSP/Analytical  Vidhya/1 - Face detection/test_dataset2/test_Bh8pGW3/Test/15102.jpg',\n",
              " '/content/drive/MyDrive/DSP/Analytical  Vidhya/1 - Face detection/test_dataset2/test_Bh8pGW3/Test/15108.jpg',\n",
              " '/content/drive/MyDrive/DSP/Analytical  Vidhya/1 - Face detection/test_dataset2/test_Bh8pGW3/Test/15115.jpg',\n",
              " '/content/drive/MyDrive/DSP/Analytical  Vidhya/1 - Face detection/test_dataset2/test_Bh8pGW3/Test/15121.jpg',\n",
              " '/content/drive/MyDrive/DSP/Analytical  Vidhya/1 - Face detection/test_dataset2/test_Bh8pGW3/Test/15154.jpg',\n",
              " '/content/drive/MyDrive/DSP/Analytical  Vidhya/1 - Face detection/test_dataset2/test_Bh8pGW3/Test/15132.jpg',\n",
              " '/content/drive/MyDrive/DSP/Analytical  Vidhya/1 - Face detection/test_dataset2/test_Bh8pGW3/Test/15583.jpg',\n",
              " '/content/drive/MyDrive/DSP/Analytical  Vidhya/1 - Face detection/test_dataset2/test_Bh8pGW3/Test/15564.jpg',\n",
              " '/content/drive/MyDrive/DSP/Analytical  Vidhya/1 - Face detection/test_dataset2/test_Bh8pGW3/Test/15576.jpg',\n",
              " '/content/drive/MyDrive/DSP/Analytical  Vidhya/1 - Face detection/test_dataset2/test_Bh8pGW3/Test/15577.jpg',\n",
              " '/content/drive/MyDrive/DSP/Analytical  Vidhya/1 - Face detection/test_dataset2/test_Bh8pGW3/Test/15572.jpg',\n",
              " '/content/drive/MyDrive/DSP/Analytical  Vidhya/1 - Face detection/test_dataset2/test_Bh8pGW3/Test/15566.jpg',\n",
              " '/content/drive/MyDrive/DSP/Analytical  Vidhya/1 - Face detection/test_dataset2/test_Bh8pGW3/Test/15560.jpg',\n",
              " '/content/drive/MyDrive/DSP/Analytical  Vidhya/1 - Face detection/test_dataset2/test_Bh8pGW3/Test/15551.jpg',\n",
              " '/content/drive/MyDrive/DSP/Analytical  Vidhya/1 - Face detection/test_dataset2/test_Bh8pGW3/Test/15541.jpg',\n",
              " '/content/drive/MyDrive/DSP/Analytical  Vidhya/1 - Face detection/test_dataset2/test_Bh8pGW3/Test/15580.jpg',\n",
              " '/content/drive/MyDrive/DSP/Analytical  Vidhya/1 - Face detection/test_dataset2/test_Bh8pGW3/Test/15534.jpg',\n",
              " '/content/drive/MyDrive/DSP/Analytical  Vidhya/1 - Face detection/test_dataset2/test_Bh8pGW3/Test/15516.jpg',\n",
              " '/content/drive/MyDrive/DSP/Analytical  Vidhya/1 - Face detection/test_dataset2/test_Bh8pGW3/Test/15513.jpg',\n",
              " '/content/drive/MyDrive/DSP/Analytical  Vidhya/1 - Face detection/test_dataset2/test_Bh8pGW3/Test/1550.jpg',\n",
              " '/content/drive/MyDrive/DSP/Analytical  Vidhya/1 - Face detection/test_dataset2/test_Bh8pGW3/Test/15502.jpg',\n",
              " '/content/drive/MyDrive/DSP/Analytical  Vidhya/1 - Face detection/test_dataset2/test_Bh8pGW3/Test/15500.jpg',\n",
              " '/content/drive/MyDrive/DSP/Analytical  Vidhya/1 - Face detection/test_dataset2/test_Bh8pGW3/Test/15486.jpg',\n",
              " '/content/drive/MyDrive/DSP/Analytical  Vidhya/1 - Face detection/test_dataset2/test_Bh8pGW3/Test/15510.jpg',\n",
              " '/content/drive/MyDrive/DSP/Analytical  Vidhya/1 - Face detection/test_dataset2/test_Bh8pGW3/Test/15504.jpg',\n",
              " '/content/drive/MyDrive/DSP/Analytical  Vidhya/1 - Face detection/test_dataset2/test_Bh8pGW3/Test/15501.jpg',\n",
              " '/content/drive/MyDrive/DSP/Analytical  Vidhya/1 - Face detection/test_dataset2/test_Bh8pGW3/Test/15485.jpg',\n",
              " '/content/drive/MyDrive/DSP/Analytical  Vidhya/1 - Face detection/test_dataset2/test_Bh8pGW3/Test/15483.jpg',\n",
              " '/content/drive/MyDrive/DSP/Analytical  Vidhya/1 - Face detection/test_dataset2/test_Bh8pGW3/Test/15512.jpg',\n",
              " '/content/drive/MyDrive/DSP/Analytical  Vidhya/1 - Face detection/test_dataset2/test_Bh8pGW3/Test/15431.jpg',\n",
              " '/content/drive/MyDrive/DSP/Analytical  Vidhya/1 - Face detection/test_dataset2/test_Bh8pGW3/Test/15425.jpg',\n",
              " '/content/drive/MyDrive/DSP/Analytical  Vidhya/1 - Face detection/test_dataset2/test_Bh8pGW3/Test/15443.jpg',\n",
              " '/content/drive/MyDrive/DSP/Analytical  Vidhya/1 - Face detection/test_dataset2/test_Bh8pGW3/Test/15446.jpg',\n",
              " '/content/drive/MyDrive/DSP/Analytical  Vidhya/1 - Face detection/test_dataset2/test_Bh8pGW3/Test/15449.jpg',\n",
              " '/content/drive/MyDrive/DSP/Analytical  Vidhya/1 - Face detection/test_dataset2/test_Bh8pGW3/Test/15442.jpg',\n",
              " '/content/drive/MyDrive/DSP/Analytical  Vidhya/1 - Face detection/test_dataset2/test_Bh8pGW3/Test/15458.jpg',\n",
              " '/content/drive/MyDrive/DSP/Analytical  Vidhya/1 - Face detection/test_dataset2/test_Bh8pGW3/Test/15478.jpg',\n",
              " '/content/drive/MyDrive/DSP/Analytical  Vidhya/1 - Face detection/test_dataset2/test_Bh8pGW3/Test/15424.jpg',\n",
              " '/content/drive/MyDrive/DSP/Analytical  Vidhya/1 - Face detection/test_dataset2/test_Bh8pGW3/Test/15473.jpg',\n",
              " '/content/drive/MyDrive/DSP/Analytical  Vidhya/1 - Face detection/test_dataset2/test_Bh8pGW3/Test/1546.jpg',\n",
              " '/content/drive/MyDrive/DSP/Analytical  Vidhya/1 - Face detection/test_dataset2/test_Bh8pGW3/Test/15422.jpg',\n",
              " '/content/drive/MyDrive/DSP/Analytical  Vidhya/1 - Face detection/test_dataset2/test_Bh8pGW3/Test/15407.jpg',\n",
              " '/content/drive/MyDrive/DSP/Analytical  Vidhya/1 - Face detection/test_dataset2/test_Bh8pGW3/Test/15411.jpg',\n",
              " '/content/drive/MyDrive/DSP/Analytical  Vidhya/1 - Face detection/test_dataset2/test_Bh8pGW3/Test/15416.jpg',\n",
              " '/content/drive/MyDrive/DSP/Analytical  Vidhya/1 - Face detection/test_dataset2/test_Bh8pGW3/Test/15410.jpg',\n",
              " '/content/drive/MyDrive/DSP/Analytical  Vidhya/1 - Face detection/test_dataset2/test_Bh8pGW3/Test/15394.jpg',\n",
              " '/content/drive/MyDrive/DSP/Analytical  Vidhya/1 - Face detection/test_dataset2/test_Bh8pGW3/Test/15391.jpg',\n",
              " '/content/drive/MyDrive/DSP/Analytical  Vidhya/1 - Face detection/test_dataset2/test_Bh8pGW3/Test/15414.jpg',\n",
              " '/content/drive/MyDrive/DSP/Analytical  Vidhya/1 - Face detection/test_dataset2/test_Bh8pGW3/Test/1539.jpg',\n",
              " '/content/drive/MyDrive/DSP/Analytical  Vidhya/1 - Face detection/test_dataset2/test_Bh8pGW3/Test/15417.jpg',\n",
              " '/content/drive/MyDrive/DSP/Analytical  Vidhya/1 - Face detection/test_dataset2/test_Bh8pGW3/Test/15388.jpg',\n",
              " '/content/drive/MyDrive/DSP/Analytical  Vidhya/1 - Face detection/test_dataset2/test_Bh8pGW3/Test/15385.jpg',\n",
              " '/content/drive/MyDrive/DSP/Analytical  Vidhya/1 - Face detection/test_dataset2/test_Bh8pGW3/Test/15368.jpg',\n",
              " '/content/drive/MyDrive/DSP/Analytical  Vidhya/1 - Face detection/test_dataset2/test_Bh8pGW3/Test/15371.jpg',\n",
              " '/content/drive/MyDrive/DSP/Analytical  Vidhya/1 - Face detection/test_dataset2/test_Bh8pGW3/Test/15369.jpg',\n",
              " '/content/drive/MyDrive/DSP/Analytical  Vidhya/1 - Face detection/test_dataset2/test_Bh8pGW3/Test/15373.jpg',\n",
              " '/content/drive/MyDrive/DSP/Analytical  Vidhya/1 - Face detection/test_dataset2/test_Bh8pGW3/Test/15375.jpg',\n",
              " '/content/drive/MyDrive/DSP/Analytical  Vidhya/1 - Face detection/test_dataset2/test_Bh8pGW3/Test/15374.jpg',\n",
              " '/content/drive/MyDrive/DSP/Analytical  Vidhya/1 - Face detection/test_dataset2/test_Bh8pGW3/Test/15362.jpg',\n",
              " '/content/drive/MyDrive/DSP/Analytical  Vidhya/1 - Face detection/test_dataset2/test_Bh8pGW3/Test/15716.jpg',\n",
              " '/content/drive/MyDrive/DSP/Analytical  Vidhya/1 - Face detection/test_dataset2/test_Bh8pGW3/Test/15680.jpg',\n",
              " '/content/drive/MyDrive/DSP/Analytical  Vidhya/1 - Face detection/test_dataset2/test_Bh8pGW3/Test/1569.jpg',\n",
              " '/content/drive/MyDrive/DSP/Analytical  Vidhya/1 - Face detection/test_dataset2/test_Bh8pGW3/Test/15677.jpg',\n",
              " '/content/drive/MyDrive/DSP/Analytical  Vidhya/1 - Face detection/test_dataset2/test_Bh8pGW3/Test/15694.jpg',\n",
              " '/content/drive/MyDrive/DSP/Analytical  Vidhya/1 - Face detection/test_dataset2/test_Bh8pGW3/Test/15700.jpg',\n",
              " '/content/drive/MyDrive/DSP/Analytical  Vidhya/1 - Face detection/test_dataset2/test_Bh8pGW3/Test/15702.jpg',\n",
              " '/content/drive/MyDrive/DSP/Analytical  Vidhya/1 - Face detection/test_dataset2/test_Bh8pGW3/Test/15684.jpg',\n",
              " '/content/drive/MyDrive/DSP/Analytical  Vidhya/1 - Face detection/test_dataset2/test_Bh8pGW3/Test/15718.jpg',\n",
              " '/content/drive/MyDrive/DSP/Analytical  Vidhya/1 - Face detection/test_dataset2/test_Bh8pGW3/Test/15712.jpg',\n",
              " '/content/drive/MyDrive/DSP/Analytical  Vidhya/1 - Face detection/test_dataset2/test_Bh8pGW3/Test/15710.jpg',\n",
              " '/content/drive/MyDrive/DSP/Analytical  Vidhya/1 - Face detection/test_dataset2/test_Bh8pGW3/Test/15707.jpg',\n",
              " '/content/drive/MyDrive/DSP/Analytical  Vidhya/1 - Face detection/test_dataset2/test_Bh8pGW3/Test/15676.jpg',\n",
              " '/content/drive/MyDrive/DSP/Analytical  Vidhya/1 - Face detection/test_dataset2/test_Bh8pGW3/Test/1566.jpg',\n",
              " '/content/drive/MyDrive/DSP/Analytical  Vidhya/1 - Face detection/test_dataset2/test_Bh8pGW3/Test/15668.jpg',\n",
              " '/content/drive/MyDrive/DSP/Analytical  Vidhya/1 - Face detection/test_dataset2/test_Bh8pGW3/Test/15656.jpg',\n",
              " '/content/drive/MyDrive/DSP/Analytical  Vidhya/1 - Face detection/test_dataset2/test_Bh8pGW3/Test/1567.jpg',\n",
              " '/content/drive/MyDrive/DSP/Analytical  Vidhya/1 - Face detection/test_dataset2/test_Bh8pGW3/Test/15665.jpg',\n",
              " '/content/drive/MyDrive/DSP/Analytical  Vidhya/1 - Face detection/test_dataset2/test_Bh8pGW3/Test/15672.jpg',\n",
              " '/content/drive/MyDrive/DSP/Analytical  Vidhya/1 - Face detection/test_dataset2/test_Bh8pGW3/Test/15671.jpg',\n",
              " '/content/drive/MyDrive/DSP/Analytical  Vidhya/1 - Face detection/test_dataset2/test_Bh8pGW3/Test/15675.jpg',\n",
              " '/content/drive/MyDrive/DSP/Analytical  Vidhya/1 - Face detection/test_dataset2/test_Bh8pGW3/Test/15673.jpg',\n",
              " '/content/drive/MyDrive/DSP/Analytical  Vidhya/1 - Face detection/test_dataset2/test_Bh8pGW3/Test/15635.jpg',\n",
              " '/content/drive/MyDrive/DSP/Analytical  Vidhya/1 - Face detection/test_dataset2/test_Bh8pGW3/Test/15649.jpg',\n",
              " '/content/drive/MyDrive/DSP/Analytical  Vidhya/1 - Face detection/test_dataset2/test_Bh8pGW3/Test/15654.jpg',\n",
              " '/content/drive/MyDrive/DSP/Analytical  Vidhya/1 - Face detection/test_dataset2/test_Bh8pGW3/Test/1562.jpg',\n",
              " '/content/drive/MyDrive/DSP/Analytical  Vidhya/1 - Face detection/test_dataset2/test_Bh8pGW3/Test/1561.jpg',\n",
              " '/content/drive/MyDrive/DSP/Analytical  Vidhya/1 - Face detection/test_dataset2/test_Bh8pGW3/Test/15613.jpg',\n",
              " '/content/drive/MyDrive/DSP/Analytical  Vidhya/1 - Face detection/test_dataset2/test_Bh8pGW3/Test/15614.jpg',\n",
              " '/content/drive/MyDrive/DSP/Analytical  Vidhya/1 - Face detection/test_dataset2/test_Bh8pGW3/Test/15632.jpg',\n",
              " '/content/drive/MyDrive/DSP/Analytical  Vidhya/1 - Face detection/test_dataset2/test_Bh8pGW3/Test/15634.jpg',\n",
              " '/content/drive/MyDrive/DSP/Analytical  Vidhya/1 - Face detection/test_dataset2/test_Bh8pGW3/Test/15628.jpg',\n",
              " '/content/drive/MyDrive/DSP/Analytical  Vidhya/1 - Face detection/test_dataset2/test_Bh8pGW3/Test/15607.jpg',\n",
              " '/content/drive/MyDrive/DSP/Analytical  Vidhya/1 - Face detection/test_dataset2/test_Bh8pGW3/Test/15605.jpg',\n",
              " '/content/drive/MyDrive/DSP/Analytical  Vidhya/1 - Face detection/test_dataset2/test_Bh8pGW3/Test/15604.jpg',\n",
              " '/content/drive/MyDrive/DSP/Analytical  Vidhya/1 - Face detection/test_dataset2/test_Bh8pGW3/Test/15600.jpg',\n",
              " '/content/drive/MyDrive/DSP/Analytical  Vidhya/1 - Face detection/test_dataset2/test_Bh8pGW3/Test/15596.jpg',\n",
              " '/content/drive/MyDrive/DSP/Analytical  Vidhya/1 - Face detection/test_dataset2/test_Bh8pGW3/Test/15588.jpg',\n",
              " '/content/drive/MyDrive/DSP/Analytical  Vidhya/1 - Face detection/test_dataset2/test_Bh8pGW3/Test/15594.jpg',\n",
              " '/content/drive/MyDrive/DSP/Analytical  Vidhya/1 - Face detection/test_dataset2/test_Bh8pGW3/Test/15585.jpg',\n",
              " '/content/drive/MyDrive/DSP/Analytical  Vidhya/1 - Face detection/test_dataset2/test_Bh8pGW3/Test/15587.jpg',\n",
              " '/content/drive/MyDrive/DSP/Analytical  Vidhya/1 - Face detection/test_dataset2/test_Bh8pGW3/Test/15589.jpg',\n",
              " '/content/drive/MyDrive/DSP/Analytical  Vidhya/1 - Face detection/test_dataset2/test_Bh8pGW3/Test/15603.jpg',\n",
              " '/content/drive/MyDrive/DSP/Analytical  Vidhya/1 - Face detection/test_dataset2/test_Bh8pGW3/Test/15584.jpg',\n",
              " '/content/drive/MyDrive/DSP/Analytical  Vidhya/1 - Face detection/test_dataset2/test_Bh8pGW3/Test/15601.jpg',\n",
              " '/content/drive/MyDrive/DSP/Analytical  Vidhya/1 - Face detection/test_dataset2/test_Bh8pGW3/Test/15887.jpg',\n",
              " '/content/drive/MyDrive/DSP/Analytical  Vidhya/1 - Face detection/test_dataset2/test_Bh8pGW3/Test/15877.jpg',\n",
              " '/content/drive/MyDrive/DSP/Analytical  Vidhya/1 - Face detection/test_dataset2/test_Bh8pGW3/Test/15870.jpg',\n",
              " '/content/drive/MyDrive/DSP/Analytical  Vidhya/1 - Face detection/test_dataset2/test_Bh8pGW3/Test/15857.jpg',\n",
              " '/content/drive/MyDrive/DSP/Analytical  Vidhya/1 - Face detection/test_dataset2/test_Bh8pGW3/Test/15873.jpg',\n",
              " '/content/drive/MyDrive/DSP/Analytical  Vidhya/1 - Face detection/test_dataset2/test_Bh8pGW3/Test/15867.jpg',\n",
              " '/content/drive/MyDrive/DSP/Analytical  Vidhya/1 - Face detection/test_dataset2/test_Bh8pGW3/Test/15882.jpg',\n",
              " '/content/drive/MyDrive/DSP/Analytical  Vidhya/1 - Face detection/test_dataset2/test_Bh8pGW3/Test/15850.jpg',\n",
              " '/content/drive/MyDrive/DSP/Analytical  Vidhya/1 - Face detection/test_dataset2/test_Bh8pGW3/Test/15884.jpg',\n",
              " '/content/drive/MyDrive/DSP/Analytical  Vidhya/1 - Face detection/test_dataset2/test_Bh8pGW3/Test/15849.jpg',\n",
              " '/content/drive/MyDrive/DSP/Analytical  Vidhya/1 - Face detection/test_dataset2/test_Bh8pGW3/Test/15827.jpg',\n",
              " '/content/drive/MyDrive/DSP/Analytical  Vidhya/1 - Face detection/test_dataset2/test_Bh8pGW3/Test/15824.jpg',\n",
              " '/content/drive/MyDrive/DSP/Analytical  Vidhya/1 - Face detection/test_dataset2/test_Bh8pGW3/Test/15814.jpg',\n",
              " '/content/drive/MyDrive/DSP/Analytical  Vidhya/1 - Face detection/test_dataset2/test_Bh8pGW3/Test/15825.jpg',\n",
              " '/content/drive/MyDrive/DSP/Analytical  Vidhya/1 - Face detection/test_dataset2/test_Bh8pGW3/Test/15815.jpg',\n",
              " '/content/drive/MyDrive/DSP/Analytical  Vidhya/1 - Face detection/test_dataset2/test_Bh8pGW3/Test/15831.jpg',\n",
              " '/content/drive/MyDrive/DSP/Analytical  Vidhya/1 - Face detection/test_dataset2/test_Bh8pGW3/Test/15833.jpg',\n",
              " '/content/drive/MyDrive/DSP/Analytical  Vidhya/1 - Face detection/test_dataset2/test_Bh8pGW3/Test/15835.jpg',\n",
              " '/content/drive/MyDrive/DSP/Analytical  Vidhya/1 - Face detection/test_dataset2/test_Bh8pGW3/Test/15845.jpg',\n",
              " '/content/drive/MyDrive/DSP/Analytical  Vidhya/1 - Face detection/test_dataset2/test_Bh8pGW3/Test/15812.jpg',\n",
              " '/content/drive/MyDrive/DSP/Analytical  Vidhya/1 - Face detection/test_dataset2/test_Bh8pGW3/Test/15813.jpg',\n",
              " '/content/drive/MyDrive/DSP/Analytical  Vidhya/1 - Face detection/test_dataset2/test_Bh8pGW3/Test/15065.jpg',\n",
              " '/content/drive/MyDrive/DSP/Analytical  Vidhya/1 - Face detection/test_dataset2/test_Bh8pGW3/Test/15047.jpg',\n",
              " '/content/drive/MyDrive/DSP/Analytical  Vidhya/1 - Face detection/test_dataset2/test_Bh8pGW3/Test/15017.jpg',\n",
              " '/content/drive/MyDrive/DSP/Analytical  Vidhya/1 - Face detection/test_dataset2/test_Bh8pGW3/Test/15784.jpg',\n",
              " '/content/drive/MyDrive/DSP/Analytical  Vidhya/1 - Face detection/test_dataset2/test_Bh8pGW3/Test/15806.jpg',\n",
              " '/content/drive/MyDrive/DSP/Analytical  Vidhya/1 - Face detection/test_dataset2/test_Bh8pGW3/Test/15803.jpg',\n",
              " '/content/drive/MyDrive/DSP/Analytical  Vidhya/1 - Face detection/test_dataset2/test_Bh8pGW3/Test/15808.jpg',\n",
              " '/content/drive/MyDrive/DSP/Analytical  Vidhya/1 - Face detection/test_dataset2/test_Bh8pGW3/Test/15805.jpg',\n",
              " '/content/drive/MyDrive/DSP/Analytical  Vidhya/1 - Face detection/test_dataset2/test_Bh8pGW3/Test/15810.jpg',\n",
              " '/content/drive/MyDrive/DSP/Analytical  Vidhya/1 - Face detection/test_dataset2/test_Bh8pGW3/Test/1581.jpg',\n",
              " '/content/drive/MyDrive/DSP/Analytical  Vidhya/1 - Face detection/test_dataset2/test_Bh8pGW3/Test/14973.jpg',\n",
              " '/content/drive/MyDrive/DSP/Analytical  Vidhya/1 - Face detection/test_dataset2/test_Bh8pGW3/Test/15082.jpg',\n",
              " '/content/drive/MyDrive/DSP/Analytical  Vidhya/1 - Face detection/test_dataset2/test_Bh8pGW3/Test/15811.jpg',\n",
              " '/content/drive/MyDrive/DSP/Analytical  Vidhya/1 - Face detection/test_dataset2/test_Bh8pGW3/Test/15762.jpg',\n",
              " '/content/drive/MyDrive/DSP/Analytical  Vidhya/1 - Face detection/test_dataset2/test_Bh8pGW3/Test/15765.jpg',\n",
              " '/content/drive/MyDrive/DSP/Analytical  Vidhya/1 - Face detection/test_dataset2/test_Bh8pGW3/Test/1576.jpg',\n",
              " '/content/drive/MyDrive/DSP/Analytical  Vidhya/1 - Face detection/test_dataset2/test_Bh8pGW3/Test/15755.jpg',\n",
              " '/content/drive/MyDrive/DSP/Analytical  Vidhya/1 - Face detection/test_dataset2/test_Bh8pGW3/Test/15754.jpg',\n",
              " '/content/drive/MyDrive/DSP/Analytical  Vidhya/1 - Face detection/test_dataset2/test_Bh8pGW3/Test/15745.jpg',\n",
              " '/content/drive/MyDrive/DSP/Analytical  Vidhya/1 - Face detection/test_dataset2/test_Bh8pGW3/Test/15753.jpg',\n",
              " '/content/drive/MyDrive/DSP/Analytical  Vidhya/1 - Face detection/test_dataset2/test_Bh8pGW3/Test/15770.jpg',\n",
              " '/content/drive/MyDrive/DSP/Analytical  Vidhya/1 - Face detection/test_dataset2/test_Bh8pGW3/Test/15773.jpg',\n",
              " '/content/drive/MyDrive/DSP/Analytical  Vidhya/1 - Face detection/test_dataset2/test_Bh8pGW3/Test/15778.jpg',\n",
              " '/content/drive/MyDrive/DSP/Analytical  Vidhya/1 - Face detection/test_dataset2/test_Bh8pGW3/Test/15780.jpg',\n",
              " '/content/drive/MyDrive/DSP/Analytical  Vidhya/1 - Face detection/test_dataset2/test_Bh8pGW3/Test/15768.jpg',\n",
              " '/content/drive/MyDrive/DSP/Analytical  Vidhya/1 - Face detection/test_dataset2/test_Bh8pGW3/Test/15743.jpg',\n",
              " '/content/drive/MyDrive/DSP/Analytical  Vidhya/1 - Face detection/test_dataset2/test_Bh8pGW3/Test/15742.jpg',\n",
              " '/content/drive/MyDrive/DSP/Analytical  Vidhya/1 - Face detection/test_dataset2/test_Bh8pGW3/Test/1574.jpg',\n",
              " '/content/drive/MyDrive/DSP/Analytical  Vidhya/1 - Face detection/test_dataset2/test_Bh8pGW3/Test/15722.jpg',\n",
              " '/content/drive/MyDrive/DSP/Analytical  Vidhya/1 - Face detection/test_dataset2/test_Bh8pGW3/Test/15727.jpg',\n",
              " '/content/drive/MyDrive/DSP/Analytical  Vidhya/1 - Face detection/test_dataset2/test_Bh8pGW3/Test/15738.jpg',\n",
              " '/content/drive/MyDrive/DSP/Analytical  Vidhya/1 - Face detection/test_dataset2/test_Bh8pGW3/Test/15732.jpg',\n",
              " '/content/drive/MyDrive/DSP/Analytical  Vidhya/1 - Face detection/test_dataset2/test_Bh8pGW3/Test/15719.jpg',\n",
              " '/content/drive/MyDrive/DSP/Analytical  Vidhya/1 - Face detection/test_dataset2/test_Bh8pGW3/Test/15729.jpg',\n",
              " '/content/drive/MyDrive/DSP/Analytical  Vidhya/1 - Face detection/test_dataset2/test_Bh8pGW3/Test/15737.jpg',\n",
              " '/content/drive/MyDrive/DSP/Analytical  Vidhya/1 - Face detection/test_dataset2/test_Bh8pGW3/Test/16046.jpg',\n",
              " '/content/drive/MyDrive/DSP/Analytical  Vidhya/1 - Face detection/test_dataset2/test_Bh8pGW3/Test/16027.jpg',\n",
              " '/content/drive/MyDrive/DSP/Analytical  Vidhya/1 - Face detection/test_dataset2/test_Bh8pGW3/Test/16049.jpg',\n",
              " '/content/drive/MyDrive/DSP/Analytical  Vidhya/1 - Face detection/test_dataset2/test_Bh8pGW3/Test/16022.jpg',\n",
              " '/content/drive/MyDrive/DSP/Analytical  Vidhya/1 - Face detection/test_dataset2/test_Bh8pGW3/Test/16041.jpg',\n",
              " '/content/drive/MyDrive/DSP/Analytical  Vidhya/1 - Face detection/test_dataset2/test_Bh8pGW3/Test/1603.jpg',\n",
              " '/content/drive/MyDrive/DSP/Analytical  Vidhya/1 - Face detection/test_dataset2/test_Bh8pGW3/Test/16034.jpg',\n",
              " '/content/drive/MyDrive/DSP/Analytical  Vidhya/1 - Face detection/test_dataset2/test_Bh8pGW3/Test/16055.jpg',\n",
              " '/content/drive/MyDrive/DSP/Analytical  Vidhya/1 - Face detection/test_dataset2/test_Bh8pGW3/Test/16015.jpg',\n",
              " '/content/drive/MyDrive/DSP/Analytical  Vidhya/1 - Face detection/test_dataset2/test_Bh8pGW3/Test/1605.jpg',\n",
              " '/content/drive/MyDrive/DSP/Analytical  Vidhya/1 - Face detection/test_dataset2/test_Bh8pGW3/Test/16017.jpg',\n",
              " '/content/drive/MyDrive/DSP/Analytical  Vidhya/1 - Face detection/test_dataset2/test_Bh8pGW3/Test/16013.jpg',\n",
              " '/content/drive/MyDrive/DSP/Analytical  Vidhya/1 - Face detection/test_dataset2/test_Bh8pGW3/Test/15986.jpg',\n",
              " '/content/drive/MyDrive/DSP/Analytical  Vidhya/1 - Face detection/test_dataset2/test_Bh8pGW3/Test/16.jpg',\n",
              " '/content/drive/MyDrive/DSP/Analytical  Vidhya/1 - Face detection/test_dataset2/test_Bh8pGW3/Test/15998.jpg',\n",
              " '/content/drive/MyDrive/DSP/Analytical  Vidhya/1 - Face detection/test_dataset2/test_Bh8pGW3/Test/15985.jpg',\n",
              " '/content/drive/MyDrive/DSP/Analytical  Vidhya/1 - Face detection/test_dataset2/test_Bh8pGW3/Test/15988.jpg',\n",
              " '/content/drive/MyDrive/DSP/Analytical  Vidhya/1 - Face detection/test_dataset2/test_Bh8pGW3/Test/15992.jpg',\n",
              " '/content/drive/MyDrive/DSP/Analytical  Vidhya/1 - Face detection/test_dataset2/test_Bh8pGW3/Test/15994.jpg',\n",
              " '/content/drive/MyDrive/DSP/Analytical  Vidhya/1 - Face detection/test_dataset2/test_Bh8pGW3/Test/16009.jpg',\n",
              " '/content/drive/MyDrive/DSP/Analytical  Vidhya/1 - Face detection/test_dataset2/test_Bh8pGW3/Test/16002.jpg',\n",
              " '/content/drive/MyDrive/DSP/Analytical  Vidhya/1 - Face detection/test_dataset2/test_Bh8pGW3/Test/15980.jpg',\n",
              " '/content/drive/MyDrive/DSP/Analytical  Vidhya/1 - Face detection/test_dataset2/test_Bh8pGW3/Test/15977.jpg',\n",
              " '/content/drive/MyDrive/DSP/Analytical  Vidhya/1 - Face detection/test_dataset2/test_Bh8pGW3/Test/15975.jpg',\n",
              " '/content/drive/MyDrive/DSP/Analytical  Vidhya/1 - Face detection/test_dataset2/test_Bh8pGW3/Test/15973.jpg',\n",
              " '/content/drive/MyDrive/DSP/Analytical  Vidhya/1 - Face detection/test_dataset2/test_Bh8pGW3/Test/15974.jpg',\n",
              " '/content/drive/MyDrive/DSP/Analytical  Vidhya/1 - Face detection/test_dataset2/test_Bh8pGW3/Test/15953.jpg',\n",
              " '/content/drive/MyDrive/DSP/Analytical  Vidhya/1 - Face detection/test_dataset2/test_Bh8pGW3/Test/15948.jpg',\n",
              " '/content/drive/MyDrive/DSP/Analytical  Vidhya/1 - Face detection/test_dataset2/test_Bh8pGW3/Test/15965.jpg',\n",
              " '/content/drive/MyDrive/DSP/Analytical  Vidhya/1 - Face detection/test_dataset2/test_Bh8pGW3/Test/15945.jpg',\n",
              " '/content/drive/MyDrive/DSP/Analytical  Vidhya/1 - Face detection/test_dataset2/test_Bh8pGW3/Test/15944.jpg',\n",
              " '/content/drive/MyDrive/DSP/Analytical  Vidhya/1 - Face detection/test_dataset2/test_Bh8pGW3/Test/15976.jpg',\n",
              " '/content/drive/MyDrive/DSP/Analytical  Vidhya/1 - Face detection/test_dataset2/test_Bh8pGW3/Test/15934.jpg',\n",
              " '/content/drive/MyDrive/DSP/Analytical  Vidhya/1 - Face detection/test_dataset2/test_Bh8pGW3/Test/15942.jpg',\n",
              " '/content/drive/MyDrive/DSP/Analytical  Vidhya/1 - Face detection/test_dataset2/test_Bh8pGW3/Test/15895.jpg',\n",
              " '/content/drive/MyDrive/DSP/Analytical  Vidhya/1 - Face detection/test_dataset2/test_Bh8pGW3/Test/15891.jpg',\n",
              " '/content/drive/MyDrive/DSP/Analytical  Vidhya/1 - Face detection/test_dataset2/test_Bh8pGW3/Test/15916.jpg',\n",
              " '/content/drive/MyDrive/DSP/Analytical  Vidhya/1 - Face detection/test_dataset2/test_Bh8pGW3/Test/15907.jpg',\n",
              " '/content/drive/MyDrive/DSP/Analytical  Vidhya/1 - Face detection/test_dataset2/test_Bh8pGW3/Test/15922.jpg',\n",
              " '/content/drive/MyDrive/DSP/Analytical  Vidhya/1 - Face detection/test_dataset2/test_Bh8pGW3/Test/15909.jpg',\n",
              " '/content/drive/MyDrive/DSP/Analytical  Vidhya/1 - Face detection/test_dataset2/test_Bh8pGW3/Test/15923.jpg',\n",
              " '/content/drive/MyDrive/DSP/Analytical  Vidhya/1 - Face detection/test_dataset2/test_Bh8pGW3/Test/15924.jpg',\n",
              " '/content/drive/MyDrive/DSP/Analytical  Vidhya/1 - Face detection/test_dataset2/test_Bh8pGW3/Test/1589.jpg',\n",
              " '/content/drive/MyDrive/DSP/Analytical  Vidhya/1 - Face detection/test_dataset2/test_Bh8pGW3/Test/15929.jpg',\n",
              " '/content/drive/MyDrive/DSP/Analytical  Vidhya/1 - Face detection/test_dataset2/test_Bh8pGW3/Test/16150.jpg',\n",
              " '/content/drive/MyDrive/DSP/Analytical  Vidhya/1 - Face detection/test_dataset2/test_Bh8pGW3/Test/16149.jpg',\n",
              " '/content/drive/MyDrive/DSP/Analytical  Vidhya/1 - Face detection/test_dataset2/test_Bh8pGW3/Test/16152.jpg',\n",
              " '/content/drive/MyDrive/DSP/Analytical  Vidhya/1 - Face detection/test_dataset2/test_Bh8pGW3/Test/16146.jpg',\n",
              " '/content/drive/MyDrive/DSP/Analytical  Vidhya/1 - Face detection/test_dataset2/test_Bh8pGW3/Test/16118.jpg',\n",
              " '/content/drive/MyDrive/DSP/Analytical  Vidhya/1 - Face detection/test_dataset2/test_Bh8pGW3/Test/16107.jpg',\n",
              " '/content/drive/MyDrive/DSP/Analytical  Vidhya/1 - Face detection/test_dataset2/test_Bh8pGW3/Test/16128.jpg',\n",
              " '/content/drive/MyDrive/DSP/Analytical  Vidhya/1 - Face detection/test_dataset2/test_Bh8pGW3/Test/16123.jpg',\n",
              " '/content/drive/MyDrive/DSP/Analytical  Vidhya/1 - Face detection/test_dataset2/test_Bh8pGW3/Test/16133.jpg',\n",
              " '/content/drive/MyDrive/DSP/Analytical  Vidhya/1 - Face detection/test_dataset2/test_Bh8pGW3/Test/16129.jpg',\n",
              " '/content/drive/MyDrive/DSP/Analytical  Vidhya/1 - Face detection/test_dataset2/test_Bh8pGW3/Test/16121.jpg',\n",
              " '/content/drive/MyDrive/DSP/Analytical  Vidhya/1 - Face detection/test_dataset2/test_Bh8pGW3/Test/16139.jpg',\n",
              " '/content/drive/MyDrive/DSP/Analytical  Vidhya/1 - Face detection/test_dataset2/test_Bh8pGW3/Test/16106.jpg',\n",
              " '/content/drive/MyDrive/DSP/Analytical  Vidhya/1 - Face detection/test_dataset2/test_Bh8pGW3/Test/16103.jpg',\n",
              " '/content/drive/MyDrive/DSP/Analytical  Vidhya/1 - Face detection/test_dataset2/test_Bh8pGW3/Test/16102.jpg',\n",
              " '/content/drive/MyDrive/DSP/Analytical  Vidhya/1 - Face detection/test_dataset2/test_Bh8pGW3/Test/16091.jpg',\n",
              " '/content/drive/MyDrive/DSP/Analytical  Vidhya/1 - Face detection/test_dataset2/test_Bh8pGW3/Test/161.jpg',\n",
              " '/content/drive/MyDrive/DSP/Analytical  Vidhya/1 - Face detection/test_dataset2/test_Bh8pGW3/Test/16092.jpg',\n",
              " '/content/drive/MyDrive/DSP/Analytical  Vidhya/1 - Face detection/test_dataset2/test_Bh8pGW3/Test/16096.jpg',\n",
              " '/content/drive/MyDrive/DSP/Analytical  Vidhya/1 - Face detection/test_dataset2/test_Bh8pGW3/Test/16094.jpg',\n",
              " '/content/drive/MyDrive/DSP/Analytical  Vidhya/1 - Face detection/test_dataset2/test_Bh8pGW3/Test/16095.jpg',\n",
              " '/content/drive/MyDrive/DSP/Analytical  Vidhya/1 - Face detection/test_dataset2/test_Bh8pGW3/Test/1610.jpg',\n",
              " '/content/drive/MyDrive/DSP/Analytical  Vidhya/1 - Face detection/test_dataset2/test_Bh8pGW3/Test/16085.jpg',\n",
              " '/content/drive/MyDrive/DSP/Analytical  Vidhya/1 - Face detection/test_dataset2/test_Bh8pGW3/Test/16089.jpg',\n",
              " '/content/drive/MyDrive/DSP/Analytical  Vidhya/1 - Face detection/test_dataset2/test_Bh8pGW3/Test/16086.jpg',\n",
              " '/content/drive/MyDrive/DSP/Analytical  Vidhya/1 - Face detection/test_dataset2/test_Bh8pGW3/Test/16079.jpg',\n",
              " '/content/drive/MyDrive/DSP/Analytical  Vidhya/1 - Face detection/test_dataset2/test_Bh8pGW3/Test/16084.jpg',\n",
              " '/content/drive/MyDrive/DSP/Analytical  Vidhya/1 - Face detection/test_dataset2/test_Bh8pGW3/Test/16077.jpg',\n",
              " '/content/drive/MyDrive/DSP/Analytical  Vidhya/1 - Face detection/test_dataset2/test_Bh8pGW3/Test/1607.jpg',\n",
              " '/content/drive/MyDrive/DSP/Analytical  Vidhya/1 - Face detection/test_dataset2/test_Bh8pGW3/Test/16083.jpg',\n",
              " '/content/drive/MyDrive/DSP/Analytical  Vidhya/1 - Face detection/test_dataset2/test_Bh8pGW3/Test/16080.jpg',\n",
              " '/content/drive/MyDrive/DSP/Analytical  Vidhya/1 - Face detection/test_dataset2/test_Bh8pGW3/Test/1608.jpg',\n",
              " '/content/drive/MyDrive/DSP/Analytical  Vidhya/1 - Face detection/test_dataset2/test_Bh8pGW3/Test/16064.jpg',\n",
              " '/content/drive/MyDrive/DSP/Analytical  Vidhya/1 - Face detection/test_dataset2/test_Bh8pGW3/Test/16070.jpg',\n",
              " '/content/drive/MyDrive/DSP/Analytical  Vidhya/1 - Face detection/test_dataset2/test_Bh8pGW3/Test/16061.jpg',\n",
              " '/content/drive/MyDrive/DSP/Analytical  Vidhya/1 - Face detection/test_dataset2/test_Bh8pGW3/Test/16358.jpg',\n",
              " '/content/drive/MyDrive/DSP/Analytical  Vidhya/1 - Face detection/test_dataset2/test_Bh8pGW3/Test/16354.jpg',\n",
              " '/content/drive/MyDrive/DSP/Analytical  Vidhya/1 - Face detection/test_dataset2/test_Bh8pGW3/Test/16338.jpg',\n",
              " '/content/drive/MyDrive/DSP/Analytical  Vidhya/1 - Face detection/test_dataset2/test_Bh8pGW3/Test/16325.jpg',\n",
              " '/content/drive/MyDrive/DSP/Analytical  Vidhya/1 - Face detection/test_dataset2/test_Bh8pGW3/Test/16323.jpg',\n",
              " '/content/drive/MyDrive/DSP/Analytical  Vidhya/1 - Face detection/test_dataset2/test_Bh8pGW3/Test/16332.jpg',\n",
              " '/content/drive/MyDrive/DSP/Analytical  Vidhya/1 - Face detection/test_dataset2/test_Bh8pGW3/Test/16336.jpg',\n",
              " '/content/drive/MyDrive/DSP/Analytical  Vidhya/1 - Face detection/test_dataset2/test_Bh8pGW3/Test/16331.jpg',\n",
              " '/content/drive/MyDrive/DSP/Analytical  Vidhya/1 - Face detection/test_dataset2/test_Bh8pGW3/Test/16322.jpg',\n",
              " '/content/drive/MyDrive/DSP/Analytical  Vidhya/1 - Face detection/test_dataset2/test_Bh8pGW3/Test/16321.jpg',\n",
              " '/content/drive/MyDrive/DSP/Analytical  Vidhya/1 - Face detection/test_dataset2/test_Bh8pGW3/Test/16319.jpg',\n",
              " '/content/drive/MyDrive/DSP/Analytical  Vidhya/1 - Face detection/test_dataset2/test_Bh8pGW3/Test/16273.jpg',\n",
              " '/content/drive/MyDrive/DSP/Analytical  Vidhya/1 - Face detection/test_dataset2/test_Bh8pGW3/Test/16294.jpg',\n",
              " '/content/drive/MyDrive/DSP/Analytical  Vidhya/1 - Face detection/test_dataset2/test_Bh8pGW3/Test/16274.jpg',\n",
              " '/content/drive/MyDrive/DSP/Analytical  Vidhya/1 - Face detection/test_dataset2/test_Bh8pGW3/Test/16281.jpg',\n",
              " '/content/drive/MyDrive/DSP/Analytical  Vidhya/1 - Face detection/test_dataset2/test_Bh8pGW3/Test/16286.jpg',\n",
              " '/content/drive/MyDrive/DSP/Analytical  Vidhya/1 - Face detection/test_dataset2/test_Bh8pGW3/Test/16276.jpg',\n",
              " '/content/drive/MyDrive/DSP/Analytical  Vidhya/1 - Face detection/test_dataset2/test_Bh8pGW3/Test/16279.jpg',\n",
              " '/content/drive/MyDrive/DSP/Analytical  Vidhya/1 - Face detection/test_dataset2/test_Bh8pGW3/Test/16311.jpg',\n",
              " '/content/drive/MyDrive/DSP/Analytical  Vidhya/1 - Face detection/test_dataset2/test_Bh8pGW3/Test/16304.jpg',\n",
              " '/content/drive/MyDrive/DSP/Analytical  Vidhya/1 - Face detection/test_dataset2/test_Bh8pGW3/Test/16298.jpg',\n",
              " '/content/drive/MyDrive/DSP/Analytical  Vidhya/1 - Face detection/test_dataset2/test_Bh8pGW3/Test/16270.jpg',\n",
              " '/content/drive/MyDrive/DSP/Analytical  Vidhya/1 - Face detection/test_dataset2/test_Bh8pGW3/Test/16266.jpg',\n",
              " '/content/drive/MyDrive/DSP/Analytical  Vidhya/1 - Face detection/test_dataset2/test_Bh8pGW3/Test/16244.jpg',\n",
              " '/content/drive/MyDrive/DSP/Analytical  Vidhya/1 - Face detection/test_dataset2/test_Bh8pGW3/Test/16247.jpg',\n",
              " '/content/drive/MyDrive/DSP/Analytical  Vidhya/1 - Face detection/test_dataset2/test_Bh8pGW3/Test/16261.jpg',\n",
              " '/content/drive/MyDrive/DSP/Analytical  Vidhya/1 - Face detection/test_dataset2/test_Bh8pGW3/Test/16249.jpg',\n",
              " '/content/drive/MyDrive/DSP/Analytical  Vidhya/1 - Face detection/test_dataset2/test_Bh8pGW3/Test/16251.jpg',\n",
              " '/content/drive/MyDrive/DSP/Analytical  Vidhya/1 - Face detection/test_dataset2/test_Bh8pGW3/Test/16257.jpg',\n",
              " '/content/drive/MyDrive/DSP/Analytical  Vidhya/1 - Face detection/test_dataset2/test_Bh8pGW3/Test/1626.jpg',\n",
              " '/content/drive/MyDrive/DSP/Analytical  Vidhya/1 - Face detection/test_dataset2/test_Bh8pGW3/Test/16258.jpg',\n",
              " '/content/drive/MyDrive/DSP/Analytical  Vidhya/1 - Face detection/test_dataset2/test_Bh8pGW3/Test/16263.jpg',\n",
              " '/content/drive/MyDrive/DSP/Analytical  Vidhya/1 - Face detection/test_dataset2/test_Bh8pGW3/Test/16245.jpg',\n",
              " '/content/drive/MyDrive/DSP/Analytical  Vidhya/1 - Face detection/test_dataset2/test_Bh8pGW3/Test/16243.jpg',\n",
              " '/content/drive/MyDrive/DSP/Analytical  Vidhya/1 - Face detection/test_dataset2/test_Bh8pGW3/Test/16210.jpg',\n",
              " '/content/drive/MyDrive/DSP/Analytical  Vidhya/1 - Face detection/test_dataset2/test_Bh8pGW3/Test/16215.jpg',\n",
              " '/content/drive/MyDrive/DSP/Analytical  Vidhya/1 - Face detection/test_dataset2/test_Bh8pGW3/Test/16217.jpg',\n",
              " '/content/drive/MyDrive/DSP/Analytical  Vidhya/1 - Face detection/test_dataset2/test_Bh8pGW3/Test/16220.jpg',\n",
              " '/content/drive/MyDrive/DSP/Analytical  Vidhya/1 - Face detection/test_dataset2/test_Bh8pGW3/Test/16212.jpg',\n",
              " '/content/drive/MyDrive/DSP/Analytical  Vidhya/1 - Face detection/test_dataset2/test_Bh8pGW3/Test/16196.jpg',\n",
              " '/content/drive/MyDrive/DSP/Analytical  Vidhya/1 - Face detection/test_dataset2/test_Bh8pGW3/Test/16231.jpg',\n",
              " '/content/drive/MyDrive/DSP/Analytical  Vidhya/1 - Face detection/test_dataset2/test_Bh8pGW3/Test/16239.jpg',\n",
              " '/content/drive/MyDrive/DSP/Analytical  Vidhya/1 - Face detection/test_dataset2/test_Bh8pGW3/Test/16195.jpg',\n",
              " '/content/drive/MyDrive/DSP/Analytical  Vidhya/1 - Face detection/test_dataset2/test_Bh8pGW3/Test/1616.jpg',\n",
              " '/content/drive/MyDrive/DSP/Analytical  Vidhya/1 - Face detection/test_dataset2/test_Bh8pGW3/Test/1618.jpg',\n",
              " '/content/drive/MyDrive/DSP/Analytical  Vidhya/1 - Face detection/test_dataset2/test_Bh8pGW3/Test/16172.jpg',\n",
              " '/content/drive/MyDrive/DSP/Analytical  Vidhya/1 - Face detection/test_dataset2/test_Bh8pGW3/Test/16166.jpg',\n",
              " '/content/drive/MyDrive/DSP/Analytical  Vidhya/1 - Face detection/test_dataset2/test_Bh8pGW3/Test/16159.jpg',\n",
              " '/content/drive/MyDrive/DSP/Analytical  Vidhya/1 - Face detection/test_dataset2/test_Bh8pGW3/Test/16173.jpg',\n",
              " '/content/drive/MyDrive/DSP/Analytical  Vidhya/1 - Face detection/test_dataset2/test_Bh8pGW3/Test/16185.jpg',\n",
              " '/content/drive/MyDrive/DSP/Analytical  Vidhya/1 - Face detection/test_dataset2/test_Bh8pGW3/Test/16237.jpg',\n",
              " '/content/drive/MyDrive/DSP/Analytical  Vidhya/1 - Face detection/test_dataset2/test_Bh8pGW3/Test/16186.jpg',\n",
              " '/content/drive/MyDrive/DSP/Analytical  Vidhya/1 - Face detection/test_dataset2/test_Bh8pGW3/Test/16187.jpg',\n",
              " '/content/drive/MyDrive/DSP/Analytical  Vidhya/1 - Face detection/test_dataset2/test_Bh8pGW3/Test/16543.jpg',\n",
              " '/content/drive/MyDrive/DSP/Analytical  Vidhya/1 - Face detection/test_dataset2/test_Bh8pGW3/Test/1654.jpg',\n",
              " '/content/drive/MyDrive/DSP/Analytical  Vidhya/1 - Face detection/test_dataset2/test_Bh8pGW3/Test/16509.jpg',\n",
              " '/content/drive/MyDrive/DSP/Analytical  Vidhya/1 - Face detection/test_dataset2/test_Bh8pGW3/Test/16537.jpg',\n",
              " '/content/drive/MyDrive/DSP/Analytical  Vidhya/1 - Face detection/test_dataset2/test_Bh8pGW3/Test/16511.jpg',\n",
              " '/content/drive/MyDrive/DSP/Analytical  Vidhya/1 - Face detection/test_dataset2/test_Bh8pGW3/Test/16533.jpg',\n",
              " '/content/drive/MyDrive/DSP/Analytical  Vidhya/1 - Face detection/test_dataset2/test_Bh8pGW3/Test/1653.jpg',\n",
              " '/content/drive/MyDrive/DSP/Analytical  Vidhya/1 - Face detection/test_dataset2/test_Bh8pGW3/Test/16528.jpg',\n",
              " '/content/drive/MyDrive/DSP/Analytical  Vidhya/1 - Face detection/test_dataset2/test_Bh8pGW3/Test/16523.jpg',\n",
              " '/content/drive/MyDrive/DSP/Analytical  Vidhya/1 - Face detection/test_dataset2/test_Bh8pGW3/Test/16510.jpg',\n",
              " '/content/drive/MyDrive/DSP/Analytical  Vidhya/1 - Face detection/test_dataset2/test_Bh8pGW3/Test/1652.jpg',\n",
              " '/content/drive/MyDrive/DSP/Analytical  Vidhya/1 - Face detection/test_dataset2/test_Bh8pGW3/Test/16484.jpg',\n",
              " '/content/drive/MyDrive/DSP/Analytical  Vidhya/1 - Face detection/test_dataset2/test_Bh8pGW3/Test/16464.jpg',\n",
              " '/content/drive/MyDrive/DSP/Analytical  Vidhya/1 - Face detection/test_dataset2/test_Bh8pGW3/Test/16465.jpg',\n",
              " '/content/drive/MyDrive/DSP/Analytical  Vidhya/1 - Face detection/test_dataset2/test_Bh8pGW3/Test/16482.jpg',\n",
              " '/content/drive/MyDrive/DSP/Analytical  Vidhya/1 - Face detection/test_dataset2/test_Bh8pGW3/Test/16476.jpg',\n",
              " '/content/drive/MyDrive/DSP/Analytical  Vidhya/1 - Face detection/test_dataset2/test_Bh8pGW3/Test/16480.jpg',\n",
              " '/content/drive/MyDrive/DSP/Analytical  Vidhya/1 - Face detection/test_dataset2/test_Bh8pGW3/Test/16470.jpg',\n",
              " '/content/drive/MyDrive/DSP/Analytical  Vidhya/1 - Face detection/test_dataset2/test_Bh8pGW3/Test/16500.jpg',\n",
              " '/content/drive/MyDrive/DSP/Analytical  Vidhya/1 - Face detection/test_dataset2/test_Bh8pGW3/Test/16504.jpg',\n",
              " '/content/drive/MyDrive/DSP/Analytical  Vidhya/1 - Face detection/test_dataset2/test_Bh8pGW3/Test/16508.jpg',\n",
              " '/content/drive/MyDrive/DSP/Analytical  Vidhya/1 - Face detection/test_dataset2/test_Bh8pGW3/Test/16453.jpg',\n",
              " '/content/drive/MyDrive/DSP/Analytical  Vidhya/1 - Face detection/test_dataset2/test_Bh8pGW3/Test/16433.jpg',\n",
              " '/content/drive/MyDrive/DSP/Analytical  Vidhya/1 - Face detection/test_dataset2/test_Bh8pGW3/Test/16437.jpg',\n",
              " '/content/drive/MyDrive/DSP/Analytical  Vidhya/1 - Face detection/test_dataset2/test_Bh8pGW3/Test/16441.jpg',\n",
              " '/content/drive/MyDrive/DSP/Analytical  Vidhya/1 - Face detection/test_dataset2/test_Bh8pGW3/Test/16439.jpg',\n",
              " '/content/drive/MyDrive/DSP/Analytical  Vidhya/1 - Face detection/test_dataset2/test_Bh8pGW3/Test/1643.jpg',\n",
              " '/content/drive/MyDrive/DSP/Analytical  Vidhya/1 - Face detection/test_dataset2/test_Bh8pGW3/Test/16423.jpg',\n",
              " '/content/drive/MyDrive/DSP/Analytical  Vidhya/1 - Face detection/test_dataset2/test_Bh8pGW3/Test/16427.jpg',\n",
              " '/content/drive/MyDrive/DSP/Analytical  Vidhya/1 - Face detection/test_dataset2/test_Bh8pGW3/Test/165.jpg',\n",
              " '/content/drive/MyDrive/DSP/Analytical  Vidhya/1 - Face detection/test_dataset2/test_Bh8pGW3/Test/16452.jpg',\n",
              " '/content/drive/MyDrive/DSP/Analytical  Vidhya/1 - Face detection/test_dataset2/test_Bh8pGW3/Test/16442.jpg',\n",
              " '/content/drive/MyDrive/DSP/Analytical  Vidhya/1 - Face detection/test_dataset2/test_Bh8pGW3/Test/16422.jpg',\n",
              " '/content/drive/MyDrive/DSP/Analytical  Vidhya/1 - Face detection/test_dataset2/test_Bh8pGW3/Test/16417.jpg',\n",
              " '/content/drive/MyDrive/DSP/Analytical  Vidhya/1 - Face detection/test_dataset2/test_Bh8pGW3/Test/16418.jpg',\n",
              " '/content/drive/MyDrive/DSP/Analytical  Vidhya/1 - Face detection/test_dataset2/test_Bh8pGW3/Test/16405.jpg',\n",
              " '/content/drive/MyDrive/DSP/Analytical  Vidhya/1 - Face detection/test_dataset2/test_Bh8pGW3/Test/16381.jpg',\n",
              " '/content/drive/MyDrive/DSP/Analytical  Vidhya/1 - Face detection/test_dataset2/test_Bh8pGW3/Test/1637.jpg',\n",
              " '/content/drive/MyDrive/DSP/Analytical  Vidhya/1 - Face detection/test_dataset2/test_Bh8pGW3/Test/16377.jpg',\n",
              " '/content/drive/MyDrive/DSP/Analytical  Vidhya/1 - Face detection/test_dataset2/test_Bh8pGW3/Test/1639.jpg',\n",
              " '/content/drive/MyDrive/DSP/Analytical  Vidhya/1 - Face detection/test_dataset2/test_Bh8pGW3/Test/1638.jpg',\n",
              " '/content/drive/MyDrive/DSP/Analytical  Vidhya/1 - Face detection/test_dataset2/test_Bh8pGW3/Test/16401.jpg',\n",
              " '/content/drive/MyDrive/DSP/Analytical  Vidhya/1 - Face detection/test_dataset2/test_Bh8pGW3/Test/16392.jpg',\n",
              " '/content/drive/MyDrive/DSP/Analytical  Vidhya/1 - Face detection/test_dataset2/test_Bh8pGW3/Test/16404.jpg',\n",
              " '/content/drive/MyDrive/DSP/Analytical  Vidhya/1 - Face detection/test_dataset2/test_Bh8pGW3/Test/16369.jpg',\n",
              " '/content/drive/MyDrive/DSP/Analytical  Vidhya/1 - Face detection/test_dataset2/test_Bh8pGW3/Test/16743.jpg',\n",
              " '/content/drive/MyDrive/DSP/Analytical  Vidhya/1 - Face detection/test_dataset2/test_Bh8pGW3/Test/16742.jpg',\n",
              " '/content/drive/MyDrive/DSP/Analytical  Vidhya/1 - Face detection/test_dataset2/test_Bh8pGW3/Test/16681.jpg',\n",
              " '/content/drive/MyDrive/DSP/Analytical  Vidhya/1 - Face detection/test_dataset2/test_Bh8pGW3/Test/16650.jpg',\n",
              " '/content/drive/MyDrive/DSP/Analytical  Vidhya/1 - Face detection/test_dataset2/test_Bh8pGW3/Test/16673.jpg',\n",
              " '/content/drive/MyDrive/DSP/Analytical  Vidhya/1 - Face detection/test_dataset2/test_Bh8pGW3/Test/16655.jpg',\n",
              " '/content/drive/MyDrive/DSP/Analytical  Vidhya/1 - Face detection/test_dataset2/test_Bh8pGW3/Test/1667.jpg',\n",
              " '/content/drive/MyDrive/DSP/Analytical  Vidhya/1 - Face detection/test_dataset2/test_Bh8pGW3/Test/16672.jpg',\n",
              " '/content/drive/MyDrive/DSP/Analytical  Vidhya/1 - Face detection/test_dataset2/test_Bh8pGW3/Test/16667.jpg',\n",
              " '/content/drive/MyDrive/DSP/Analytical  Vidhya/1 - Face detection/test_dataset2/test_Bh8pGW3/Test/16683.jpg',\n",
              " '/content/drive/MyDrive/DSP/Analytical  Vidhya/1 - Face detection/test_dataset2/test_Bh8pGW3/Test/16691.jpg',\n",
              " '/content/drive/MyDrive/DSP/Analytical  Vidhya/1 - Face detection/test_dataset2/test_Bh8pGW3/Test/1668.jpg',\n",
              " '/content/drive/MyDrive/DSP/Analytical  Vidhya/1 - Face detection/test_dataset2/test_Bh8pGW3/Test/16663.jpg',\n",
              " '/content/drive/MyDrive/DSP/Analytical  Vidhya/1 - Face detection/test_dataset2/test_Bh8pGW3/Test/16675.jpg',\n",
              " '/content/drive/MyDrive/DSP/Analytical  Vidhya/1 - Face detection/test_dataset2/test_Bh8pGW3/Test/16634.jpg',\n",
              " '/content/drive/MyDrive/DSP/Analytical  Vidhya/1 - Face detection/test_dataset2/test_Bh8pGW3/Test/1663.jpg',\n",
              " '/content/drive/MyDrive/DSP/Analytical  Vidhya/1 - Face detection/test_dataset2/test_Bh8pGW3/Test/16619.jpg',\n",
              " '/content/drive/MyDrive/DSP/Analytical  Vidhya/1 - Face detection/test_dataset2/test_Bh8pGW3/Test/16613.jpg',\n",
              " '/content/drive/MyDrive/DSP/Analytical  Vidhya/1 - Face detection/test_dataset2/test_Bh8pGW3/Test/16627.jpg',\n",
              " '/content/drive/MyDrive/DSP/Analytical  Vidhya/1 - Face detection/test_dataset2/test_Bh8pGW3/Test/16616.jpg',\n",
              " '/content/drive/MyDrive/DSP/Analytical  Vidhya/1 - Face detection/test_dataset2/test_Bh8pGW3/Test/16629.jpg',\n",
              " '/content/drive/MyDrive/DSP/Analytical  Vidhya/1 - Face detection/test_dataset2/test_Bh8pGW3/Test/16644.jpg',\n",
              " '/content/drive/MyDrive/DSP/Analytical  Vidhya/1 - Face detection/test_dataset2/test_Bh8pGW3/Test/1665.jpg',\n",
              " '/content/drive/MyDrive/DSP/Analytical  Vidhya/1 - Face detection/test_dataset2/test_Bh8pGW3/Test/16642.jpg',\n",
              " '/content/drive/MyDrive/DSP/Analytical  Vidhya/1 - Face detection/test_dataset2/test_Bh8pGW3/Test/1664.jpg',\n",
              " '/content/drive/MyDrive/DSP/Analytical  Vidhya/1 - Face detection/test_dataset2/test_Bh8pGW3/Test/16563.jpg',\n",
              " '/content/drive/MyDrive/DSP/Analytical  Vidhya/1 - Face detection/test_dataset2/test_Bh8pGW3/Test/16558.jpg',\n",
              " '/content/drive/MyDrive/DSP/Analytical  Vidhya/1 - Face detection/test_dataset2/test_Bh8pGW3/Test/16585.jpg',\n",
              " '/content/drive/MyDrive/DSP/Analytical  Vidhya/1 - Face detection/test_dataset2/test_Bh8pGW3/Test/1658.jpg',\n",
              " '/content/drive/MyDrive/DSP/Analytical  Vidhya/1 - Face detection/test_dataset2/test_Bh8pGW3/Test/16556.jpg',\n",
              " '/content/drive/MyDrive/DSP/Analytical  Vidhya/1 - Face detection/test_dataset2/test_Bh8pGW3/Test/16582.jpg',\n",
              " '/content/drive/MyDrive/DSP/Analytical  Vidhya/1 - Face detection/test_dataset2/test_Bh8pGW3/Test/16557.jpg',\n",
              " '/content/drive/MyDrive/DSP/Analytical  Vidhya/1 - Face detection/test_dataset2/test_Bh8pGW3/Test/16638.jpg',\n",
              " '/content/drive/MyDrive/DSP/Analytical  Vidhya/1 - Face detection/test_dataset2/test_Bh8pGW3/Test/16603.jpg',\n",
              " '/content/drive/MyDrive/DSP/Analytical  Vidhya/1 - Face detection/test_dataset2/test_Bh8pGW3/Test/16592.jpg',\n",
              " '/content/drive/MyDrive/DSP/Analytical  Vidhya/1 - Face detection/test_dataset2/test_Bh8pGW3/Test/16594.jpg',\n",
              " '/content/drive/MyDrive/DSP/Analytical  Vidhya/1 - Face detection/test_dataset2/test_Bh8pGW3/Test/16555.jpg',\n",
              " '/content/drive/MyDrive/DSP/Analytical  Vidhya/1 - Face detection/test_dataset2/test_Bh8pGW3/Test/16589.jpg',\n",
              " '/content/drive/MyDrive/DSP/Analytical  Vidhya/1 - Face detection/test_dataset2/test_Bh8pGW3/Test/16588.jpg',\n",
              " '/content/drive/MyDrive/DSP/Analytical  Vidhya/1 - Face detection/test_dataset2/test_Bh8pGW3/Test/16552.jpg',\n",
              " '/content/drive/MyDrive/DSP/Analytical  Vidhya/1 - Face detection/test_dataset2/test_Bh8pGW3/Test/16900.jpg',\n",
              " '/content/drive/MyDrive/DSP/Analytical  Vidhya/1 - Face detection/test_dataset2/test_Bh8pGW3/Test/16864.jpg',\n",
              " '/content/drive/MyDrive/DSP/Analytical  Vidhya/1 - Face detection/test_dataset2/test_Bh8pGW3/Test/16881.jpg',\n",
              " '/content/drive/MyDrive/DSP/Analytical  Vidhya/1 - Face detection/test_dataset2/test_Bh8pGW3/Test/16876.jpg',\n",
              " '/content/drive/MyDrive/DSP/Analytical  Vidhya/1 - Face detection/test_dataset2/test_Bh8pGW3/Test/16890.jpg',\n",
              " '/content/drive/MyDrive/DSP/Analytical  Vidhya/1 - Face detection/test_dataset2/test_Bh8pGW3/Test/16868.jpg',\n",
              " '/content/drive/MyDrive/DSP/Analytical  Vidhya/1 - Face detection/test_dataset2/test_Bh8pGW3/Test/16895.jpg',\n",
              " '/content/drive/MyDrive/DSP/Analytical  Vidhya/1 - Face detection/test_dataset2/test_Bh8pGW3/Test/1689.jpg',\n",
              " '/content/drive/MyDrive/DSP/Analytical  Vidhya/1 - Face detection/test_dataset2/test_Bh8pGW3/Test/16899.jpg',\n",
              " '/content/drive/MyDrive/DSP/Analytical  Vidhya/1 - Face detection/test_dataset2/test_Bh8pGW3/Test/16867.jpg',\n",
              " '/content/drive/MyDrive/DSP/Analytical  Vidhya/1 - Face detection/test_dataset2/test_Bh8pGW3/Test/16862.jpg',\n",
              " '/content/drive/MyDrive/DSP/Analytical  Vidhya/1 - Face detection/test_dataset2/test_Bh8pGW3/Test/16766.jpg',\n",
              " '/content/drive/MyDrive/DSP/Analytical  Vidhya/1 - Face detection/test_dataset2/test_Bh8pGW3/Test/16761.jpg',\n",
              " '/content/drive/MyDrive/DSP/Analytical  Vidhya/1 - Face detection/test_dataset2/test_Bh8pGW3/Test/16765.jpg',\n",
              " '/content/drive/MyDrive/DSP/Analytical  Vidhya/1 - Face detection/test_dataset2/test_Bh8pGW3/Test/16762.jpg',\n",
              " '/content/drive/MyDrive/DSP/Analytical  Vidhya/1 - Face detection/test_dataset2/test_Bh8pGW3/Test/1678.jpg',\n",
              " '/content/drive/MyDrive/DSP/Analytical  Vidhya/1 - Face detection/test_dataset2/test_Bh8pGW3/Test/16780.jpg',\n",
              " '/content/drive/MyDrive/DSP/Analytical  Vidhya/1 - Face detection/test_dataset2/test_Bh8pGW3/Test/16775.jpg',\n",
              " '/content/drive/MyDrive/DSP/Analytical  Vidhya/1 - Face detection/test_dataset2/test_Bh8pGW3/Test/16736.jpg',\n",
              " '/content/drive/MyDrive/DSP/Analytical  Vidhya/1 - Face detection/test_dataset2/test_Bh8pGW3/Test/16707.jpg',\n",
              " '/content/drive/MyDrive/DSP/Analytical  Vidhya/1 - Face detection/test_dataset2/test_Bh8pGW3/Test/16741.jpg',\n",
              " '/content/drive/MyDrive/DSP/Analytical  Vidhya/1 - Face detection/test_dataset2/test_Bh8pGW3/Test/16738.jpg',\n",
              " '/content/drive/MyDrive/DSP/Analytical  Vidhya/1 - Face detection/test_dataset2/test_Bh8pGW3/Test/16692.jpg',\n",
              " '/content/drive/MyDrive/DSP/Analytical  Vidhya/1 - Face detection/test_dataset2/test_Bh8pGW3/Test/16704.jpg',\n",
              " '/content/drive/MyDrive/DSP/Analytical  Vidhya/1 - Face detection/test_dataset2/test_Bh8pGW3/Test/1672.jpg',\n",
              " '/content/drive/MyDrive/DSP/Analytical  Vidhya/1 - Face detection/test_dataset2/test_Bh8pGW3/Test/16841.jpg',\n",
              " '/content/drive/MyDrive/DSP/Analytical  Vidhya/1 - Face detection/test_dataset2/test_Bh8pGW3/Test/1684.jpg',\n",
              " '/content/drive/MyDrive/DSP/Analytical  Vidhya/1 - Face detection/test_dataset2/test_Bh8pGW3/Test/16855.jpg',\n",
              " '/content/drive/MyDrive/DSP/Analytical  Vidhya/1 - Face detection/test_dataset2/test_Bh8pGW3/Test/16838.jpg',\n",
              " '/content/drive/MyDrive/DSP/Analytical  Vidhya/1 - Face detection/test_dataset2/test_Bh8pGW3/Test/16843.jpg',\n",
              " '/content/drive/MyDrive/DSP/Analytical  Vidhya/1 - Face detection/test_dataset2/test_Bh8pGW3/Test/16837.jpg',\n",
              " '/content/drive/MyDrive/DSP/Analytical  Vidhya/1 - Face detection/test_dataset2/test_Bh8pGW3/Test/1686.jpg',\n",
              " '/content/drive/MyDrive/DSP/Analytical  Vidhya/1 - Face detection/test_dataset2/test_Bh8pGW3/Test/16836.jpg',\n",
              " '/content/drive/MyDrive/DSP/Analytical  Vidhya/1 - Face detection/test_dataset2/test_Bh8pGW3/Test/16833.jpg',\n",
              " '/content/drive/MyDrive/DSP/Analytical  Vidhya/1 - Face detection/test_dataset2/test_Bh8pGW3/Test/16832.jpg',\n",
              " '/content/drive/MyDrive/DSP/Analytical  Vidhya/1 - Face detection/test_dataset2/test_Bh8pGW3/Test/16805.jpg',\n",
              " '/content/drive/MyDrive/DSP/Analytical  Vidhya/1 - Face detection/test_dataset2/test_Bh8pGW3/Test/16810.jpg',\n",
              " '/content/drive/MyDrive/DSP/Analytical  Vidhya/1 - Face detection/test_dataset2/test_Bh8pGW3/Test/16794.jpg',\n",
              " '/content/drive/MyDrive/DSP/Analytical  Vidhya/1 - Face detection/test_dataset2/test_Bh8pGW3/Test/16819.jpg',\n",
              " '/content/drive/MyDrive/DSP/Analytical  Vidhya/1 - Face detection/test_dataset2/test_Bh8pGW3/Test/16806.jpg',\n",
              " '/content/drive/MyDrive/DSP/Analytical  Vidhya/1 - Face detection/test_dataset2/test_Bh8pGW3/Test/16791.jpg',\n",
              " '/content/drive/MyDrive/DSP/Analytical  Vidhya/1 - Face detection/test_dataset2/test_Bh8pGW3/Test/16790.jpg',\n",
              " '/content/drive/MyDrive/DSP/Analytical  Vidhya/1 - Face detection/test_dataset2/test_Bh8pGW3/Test/16789.jpg',\n",
              " '/content/drive/MyDrive/DSP/Analytical  Vidhya/1 - Face detection/test_dataset2/test_Bh8pGW3/Test/16828.jpg',\n",
              " '/content/drive/MyDrive/DSP/Analytical  Vidhya/1 - Face detection/test_dataset2/test_Bh8pGW3/Test/16827.jpg',\n",
              " '/content/drive/MyDrive/DSP/Analytical  Vidhya/1 - Face detection/test_dataset2/test_Bh8pGW3/Test/16784.jpg',\n",
              " '/content/drive/MyDrive/DSP/Analytical  Vidhya/1 - Face detection/test_dataset2/test_Bh8pGW3/Test/16782.jpg',\n",
              " '/content/drive/MyDrive/DSP/Analytical  Vidhya/1 - Face detection/test_dataset2/test_Bh8pGW3/Test/16753.jpg',\n",
              " '/content/drive/MyDrive/DSP/Analytical  Vidhya/1 - Face detection/test_dataset2/test_Bh8pGW3/Test/16758.jpg',\n",
              " '/content/drive/MyDrive/DSP/Analytical  Vidhya/1 - Face detection/test_dataset2/test_Bh8pGW3/Test/16747.jpg',\n",
              " '/content/drive/MyDrive/DSP/Analytical  Vidhya/1 - Face detection/test_dataset2/test_Bh8pGW3/Test/1704.jpg',\n",
              " '/content/drive/MyDrive/DSP/Analytical  Vidhya/1 - Face detection/test_dataset2/test_Bh8pGW3/Test/17034.jpg',\n",
              " '/content/drive/MyDrive/DSP/Analytical  Vidhya/1 - Face detection/test_dataset2/test_Bh8pGW3/Test/16937.jpg',\n",
              " '/content/drive/MyDrive/DSP/Analytical  Vidhya/1 - Face detection/test_dataset2/test_Bh8pGW3/Test/17013.jpg',\n",
              " '/content/drive/MyDrive/DSP/Analytical  Vidhya/1 - Face detection/test_dataset2/test_Bh8pGW3/Test/170.jpg',\n",
              " '/content/drive/MyDrive/DSP/Analytical  Vidhya/1 - Face detection/test_dataset2/test_Bh8pGW3/Test/17005.jpg',\n",
              " '/content/drive/MyDrive/DSP/Analytical  Vidhya/1 - Face detection/test_dataset2/test_Bh8pGW3/Test/1698.jpg',\n",
              " '/content/drive/MyDrive/DSP/Analytical  Vidhya/1 - Face detection/test_dataset2/test_Bh8pGW3/Test/16985.jpg',\n",
              " '/content/drive/MyDrive/DSP/Analytical  Vidhya/1 - Face detection/test_dataset2/test_Bh8pGW3/Test/17001.jpg',\n",
              " '/content/drive/MyDrive/DSP/Analytical  Vidhya/1 - Face detection/test_dataset2/test_Bh8pGW3/Test/16993.jpg',\n",
              " '/content/drive/MyDrive/DSP/Analytical  Vidhya/1 - Face detection/test_dataset2/test_Bh8pGW3/Test/1701.jpg',\n",
              " '/content/drive/MyDrive/DSP/Analytical  Vidhya/1 - Face detection/test_dataset2/test_Bh8pGW3/Test/17007.jpg',\n",
              " '/content/drive/MyDrive/DSP/Analytical  Vidhya/1 - Face detection/test_dataset2/test_Bh8pGW3/Test/16966.jpg',\n",
              " '/content/drive/MyDrive/DSP/Analytical  Vidhya/1 - Face detection/test_dataset2/test_Bh8pGW3/Test/16964.jpg',\n",
              " '/content/drive/MyDrive/DSP/Analytical  Vidhya/1 - Face detection/test_dataset2/test_Bh8pGW3/Test/16973.jpg',\n",
              " '/content/drive/MyDrive/DSP/Analytical  Vidhya/1 - Face detection/test_dataset2/test_Bh8pGW3/Test/16953.jpg',\n",
              " '/content/drive/MyDrive/DSP/Analytical  Vidhya/1 - Face detection/test_dataset2/test_Bh8pGW3/Test/16968.jpg',\n",
              " '/content/drive/MyDrive/DSP/Analytical  Vidhya/1 - Face detection/test_dataset2/test_Bh8pGW3/Test/16958.jpg',\n",
              " '/content/drive/MyDrive/DSP/Analytical  Vidhya/1 - Face detection/test_dataset2/test_Bh8pGW3/Test/16955.jpg',\n",
              " '/content/drive/MyDrive/DSP/Analytical  Vidhya/1 - Face detection/test_dataset2/test_Bh8pGW3/Test/16951.jpg',\n",
              " '/content/drive/MyDrive/DSP/Analytical  Vidhya/1 - Face detection/test_dataset2/test_Bh8pGW3/Test/16979.jpg',\n",
              " '/content/drive/MyDrive/DSP/Analytical  Vidhya/1 - Face detection/test_dataset2/test_Bh8pGW3/Test/16975.jpg',\n",
              " '/content/drive/MyDrive/DSP/Analytical  Vidhya/1 - Face detection/test_dataset2/test_Bh8pGW3/Test/16977.jpg',\n",
              " '/content/drive/MyDrive/DSP/Analytical  Vidhya/1 - Face detection/test_dataset2/test_Bh8pGW3/Test/16976.jpg',\n",
              " '/content/drive/MyDrive/DSP/Analytical  Vidhya/1 - Face detection/test_dataset2/test_Bh8pGW3/Test/16947.jpg',\n",
              " '/content/drive/MyDrive/DSP/Analytical  Vidhya/1 - Face detection/test_dataset2/test_Bh8pGW3/Test/16954.jpg',\n",
              " '/content/drive/MyDrive/DSP/Analytical  Vidhya/1 - Face detection/test_dataset2/test_Bh8pGW3/Test/16942.jpg',\n",
              " '/content/drive/MyDrive/DSP/Analytical  Vidhya/1 - Face detection/test_dataset2/test_Bh8pGW3/Test/16910.jpg',\n",
              " '/content/drive/MyDrive/DSP/Analytical  Vidhya/1 - Face detection/test_dataset2/test_Bh8pGW3/Test/16912.jpg',\n",
              " '/content/drive/MyDrive/DSP/Analytical  Vidhya/1 - Face detection/test_dataset2/test_Bh8pGW3/Test/16927.jpg',\n",
              " '/content/drive/MyDrive/DSP/Analytical  Vidhya/1 - Face detection/test_dataset2/test_Bh8pGW3/Test/16925.jpg',\n",
              " '/content/drive/MyDrive/DSP/Analytical  Vidhya/1 - Face detection/test_dataset2/test_Bh8pGW3/Test/16924.jpg',\n",
              " '/content/drive/MyDrive/DSP/Analytical  Vidhya/1 - Face detection/test_dataset2/test_Bh8pGW3/Test/16917.jpg',\n",
              " '/content/drive/MyDrive/DSP/Analytical  Vidhya/1 - Face detection/test_dataset2/test_Bh8pGW3/Test/16934.jpg',\n",
              " '/content/drive/MyDrive/DSP/Analytical  Vidhya/1 - Face detection/test_dataset2/test_Bh8pGW3/Test/16933.jpg',\n",
              " '/content/drive/MyDrive/DSP/Analytical  Vidhya/1 - Face detection/test_dataset2/test_Bh8pGW3/Test/16903.jpg',\n",
              " '/content/drive/MyDrive/DSP/Analytical  Vidhya/1 - Face detection/test_dataset2/test_Bh8pGW3/Test/16902.jpg',\n",
              " '/content/drive/MyDrive/DSP/Analytical  Vidhya/1 - Face detection/test_dataset2/test_Bh8pGW3/Test/16901.jpg',\n",
              " '/content/drive/MyDrive/DSP/Analytical  Vidhya/1 - Face detection/test_dataset2/test_Bh8pGW3/Test/17205.jpg',\n",
              " '/content/drive/MyDrive/DSP/Analytical  Vidhya/1 - Face detection/test_dataset2/test_Bh8pGW3/Test/17194.jpg',\n",
              " '/content/drive/MyDrive/DSP/Analytical  Vidhya/1 - Face detection/test_dataset2/test_Bh8pGW3/Test/1720.jpg',\n",
              " '/content/drive/MyDrive/DSP/Analytical  Vidhya/1 - Face detection/test_dataset2/test_Bh8pGW3/Test/17200.jpg',\n",
              " '/content/drive/MyDrive/DSP/Analytical  Vidhya/1 - Face detection/test_dataset2/test_Bh8pGW3/Test/17183.jpg',\n",
              " '/content/drive/MyDrive/DSP/Analytical  Vidhya/1 - Face detection/test_dataset2/test_Bh8pGW3/Test/17185.jpg',\n",
              " '/content/drive/MyDrive/DSP/Analytical  Vidhya/1 - Face detection/test_dataset2/test_Bh8pGW3/Test/17201.jpg',\n",
              " '/content/drive/MyDrive/DSP/Analytical  Vidhya/1 - Face detection/test_dataset2/test_Bh8pGW3/Test/1719.jpg',\n",
              " '/content/drive/MyDrive/DSP/Analytical  Vidhya/1 - Face detection/test_dataset2/test_Bh8pGW3/Test/17179.jpg',\n",
              " '/content/drive/MyDrive/DSP/Analytical  Vidhya/1 - Face detection/test_dataset2/test_Bh8pGW3/Test/17203.jpg',\n",
              " '/content/drive/MyDrive/DSP/Analytical  Vidhya/1 - Face detection/test_dataset2/test_Bh8pGW3/Test/17146.jpg',\n",
              " '/content/drive/MyDrive/DSP/Analytical  Vidhya/1 - Face detection/test_dataset2/test_Bh8pGW3/Test/17153.jpg',\n",
              " '/content/drive/MyDrive/DSP/Analytical  Vidhya/1 - Face detection/test_dataset2/test_Bh8pGW3/Test/17160.jpg',\n",
              " '/content/drive/MyDrive/DSP/Analytical  Vidhya/1 - Face detection/test_dataset2/test_Bh8pGW3/Test/17154.jpg',\n",
              " '/content/drive/MyDrive/DSP/Analytical  Vidhya/1 - Face detection/test_dataset2/test_Bh8pGW3/Test/17168.jpg',\n",
              " '/content/drive/MyDrive/DSP/Analytical  Vidhya/1 - Face detection/test_dataset2/test_Bh8pGW3/Test/17166.jpg',\n",
              " '/content/drive/MyDrive/DSP/Analytical  Vidhya/1 - Face detection/test_dataset2/test_Bh8pGW3/Test/17165.jpg',\n",
              " '/content/drive/MyDrive/DSP/Analytical  Vidhya/1 - Face detection/test_dataset2/test_Bh8pGW3/Test/1718.jpg',\n",
              " '/content/drive/MyDrive/DSP/Analytical  Vidhya/1 - Face detection/test_dataset2/test_Bh8pGW3/Test/17170.jpg',\n",
              " '/content/drive/MyDrive/DSP/Analytical  Vidhya/1 - Face detection/test_dataset2/test_Bh8pGW3/Test/17132.jpg',\n",
              " '/content/drive/MyDrive/DSP/Analytical  Vidhya/1 - Face detection/test_dataset2/test_Bh8pGW3/Test/17119.jpg',\n",
              " '/content/drive/MyDrive/DSP/Analytical  Vidhya/1 - Face detection/test_dataset2/test_Bh8pGW3/Test/17109.jpg',\n",
              " '/content/drive/MyDrive/DSP/Analytical  Vidhya/1 - Face detection/test_dataset2/test_Bh8pGW3/Test/17117.jpg',\n",
              " '/content/drive/MyDrive/DSP/Analytical  Vidhya/1 - Face detection/test_dataset2/test_Bh8pGW3/Test/1712.jpg',\n",
              " '/content/drive/MyDrive/DSP/Analytical  Vidhya/1 - Face detection/test_dataset2/test_Bh8pGW3/Test/17106.jpg',\n",
              " '/content/drive/MyDrive/DSP/Analytical  Vidhya/1 - Face detection/test_dataset2/test_Bh8pGW3/Test/17118.jpg',\n",
              " '/content/drive/MyDrive/DSP/Analytical  Vidhya/1 - Face detection/test_dataset2/test_Bh8pGW3/Test/17112.jpg',\n",
              " '/content/drive/MyDrive/DSP/Analytical  Vidhya/1 - Face detection/test_dataset2/test_Bh8pGW3/Test/1713.jpg',\n",
              " '/content/drive/MyDrive/DSP/Analytical  Vidhya/1 - Face detection/test_dataset2/test_Bh8pGW3/Test/1710.jpg',\n",
              " '/content/drive/MyDrive/DSP/Analytical  Vidhya/1 - Face detection/test_dataset2/test_Bh8pGW3/Test/17101.jpg',\n",
              " '/content/drive/MyDrive/DSP/Analytical  Vidhya/1 - Face detection/test_dataset2/test_Bh8pGW3/Test/17124.jpg',\n",
              " '/content/drive/MyDrive/DSP/Analytical  Vidhya/1 - Face detection/test_dataset2/test_Bh8pGW3/Test/17086.jpg',\n",
              " '/content/drive/MyDrive/DSP/Analytical  Vidhya/1 - Face detection/test_dataset2/test_Bh8pGW3/Test/17098.jpg',\n",
              " '/content/drive/MyDrive/DSP/Analytical  Vidhya/1 - Face detection/test_dataset2/test_Bh8pGW3/Test/17050.jpg',\n",
              " '/content/drive/MyDrive/DSP/Analytical  Vidhya/1 - Face detection/test_dataset2/test_Bh8pGW3/Test/17056.jpg',\n",
              " '/content/drive/MyDrive/DSP/Analytical  Vidhya/1 - Face detection/test_dataset2/test_Bh8pGW3/Test/1705.jpg',\n",
              " '/content/drive/MyDrive/DSP/Analytical  Vidhya/1 - Face detection/test_dataset2/test_Bh8pGW3/Test/17069.jpg',\n",
              " '/content/drive/MyDrive/DSP/Analytical  Vidhya/1 - Face detection/test_dataset2/test_Bh8pGW3/Test/17060.jpg',\n",
              " '/content/drive/MyDrive/DSP/Analytical  Vidhya/1 - Face detection/test_dataset2/test_Bh8pGW3/Test/17080.jpg',\n",
              " '/content/drive/MyDrive/DSP/Analytical  Vidhya/1 - Face detection/test_dataset2/test_Bh8pGW3/Test/17061.jpg',\n",
              " '/content/drive/MyDrive/DSP/Analytical  Vidhya/1 - Face detection/test_dataset2/test_Bh8pGW3/Test/17082.jpg',\n",
              " '/content/drive/MyDrive/DSP/Analytical  Vidhya/1 - Face detection/test_dataset2/test_Bh8pGW3/Test/17045.jpg',\n",
              " '/content/drive/MyDrive/DSP/Analytical  Vidhya/1 - Face detection/test_dataset2/test_Bh8pGW3/Test/17046.jpg',\n",
              " '/content/drive/MyDrive/DSP/Analytical  Vidhya/1 - Face detection/test_dataset2/test_Bh8pGW3/Test/17043.jpg',\n",
              " '/content/drive/MyDrive/DSP/Analytical  Vidhya/1 - Face detection/test_dataset2/test_Bh8pGW3/Test/17019.jpg',\n",
              " '/content/drive/MyDrive/DSP/Analytical  Vidhya/1 - Face detection/test_dataset2/test_Bh8pGW3/Test/17014.jpg',\n",
              " '/content/drive/MyDrive/DSP/Analytical  Vidhya/1 - Face detection/test_dataset2/test_Bh8pGW3/Test/17020.jpg',\n",
              " '/content/drive/MyDrive/DSP/Analytical  Vidhya/1 - Face detection/test_dataset2/test_Bh8pGW3/Test/17015.jpg',\n",
              " '/content/drive/MyDrive/DSP/Analytical  Vidhya/1 - Face detection/test_dataset2/test_Bh8pGW3/Test/17018.jpg',\n",
              " '/content/drive/MyDrive/DSP/Analytical  Vidhya/1 - Face detection/test_dataset2/test_Bh8pGW3/Test/17021.jpg',\n",
              " '/content/drive/MyDrive/DSP/Analytical  Vidhya/1 - Face detection/test_dataset2/test_Bh8pGW3/Test/17017.jpg',\n",
              " '/content/drive/MyDrive/DSP/Analytical  Vidhya/1 - Face detection/test_dataset2/test_Bh8pGW3/Test/17364.jpg',\n",
              " '/content/drive/MyDrive/DSP/Analytical  Vidhya/1 - Face detection/test_dataset2/test_Bh8pGW3/Test/17351.jpg',\n",
              " '/content/drive/MyDrive/DSP/Analytical  Vidhya/1 - Face detection/test_dataset2/test_Bh8pGW3/Test/17349.jpg',\n",
              " '/content/drive/MyDrive/DSP/Analytical  Vidhya/1 - Face detection/test_dataset2/test_Bh8pGW3/Test/17347.jpg',\n",
              " '/content/drive/MyDrive/DSP/Analytical  Vidhya/1 - Face detection/test_dataset2/test_Bh8pGW3/Test/17342.jpg',\n",
              " '/content/drive/MyDrive/DSP/Analytical  Vidhya/1 - Face detection/test_dataset2/test_Bh8pGW3/Test/17344.jpg',\n",
              " '/content/drive/MyDrive/DSP/Analytical  Vidhya/1 - Face detection/test_dataset2/test_Bh8pGW3/Test/17330.jpg',\n",
              " '/content/drive/MyDrive/DSP/Analytical  Vidhya/1 - Face detection/test_dataset2/test_Bh8pGW3/Test/1735.jpg',\n",
              " '/content/drive/MyDrive/DSP/Analytical  Vidhya/1 - Face detection/test_dataset2/test_Bh8pGW3/Test/17359.jpg',\n",
              " '/content/drive/MyDrive/DSP/Analytical  Vidhya/1 - Face detection/test_dataset2/test_Bh8pGW3/Test/17352.jpg',\n",
              " '/content/drive/MyDrive/DSP/Analytical  Vidhya/1 - Face detection/test_dataset2/test_Bh8pGW3/Test/17324.jpg',\n",
              " '/content/drive/MyDrive/DSP/Analytical  Vidhya/1 - Face detection/test_dataset2/test_Bh8pGW3/Test/17212.jpg',\n",
              " '/content/drive/MyDrive/DSP/Analytical  Vidhya/1 - Face detection/test_dataset2/test_Bh8pGW3/Test/17266.jpg',\n",
              " '/content/drive/MyDrive/DSP/Analytical  Vidhya/1 - Face detection/test_dataset2/test_Bh8pGW3/Test/17327.jpg',\n",
              " '/content/drive/MyDrive/DSP/Analytical  Vidhya/1 - Face detection/test_dataset2/test_Bh8pGW3/Test/1732.jpg',\n",
              " '/content/drive/MyDrive/DSP/Analytical  Vidhya/1 - Face detection/test_dataset2/test_Bh8pGW3/Test/1729.jpg',\n",
              " '/content/drive/MyDrive/DSP/Analytical  Vidhya/1 - Face detection/test_dataset2/test_Bh8pGW3/Test/1731.jpg',\n",
              " '/content/drive/MyDrive/DSP/Analytical  Vidhya/1 - Face detection/test_dataset2/test_Bh8pGW3/Test/17306.jpg',\n",
              " '/content/drive/MyDrive/DSP/Analytical  Vidhya/1 - Face detection/test_dataset2/test_Bh8pGW3/Test/17299.jpg',\n",
              " '/content/drive/MyDrive/DSP/Analytical  Vidhya/1 - Face detection/test_dataset2/test_Bh8pGW3/Test/17300.jpg',\n",
              " '/content/drive/MyDrive/DSP/Analytical  Vidhya/1 - Face detection/test_dataset2/test_Bh8pGW3/Test/17317.jpg',\n",
              " '/content/drive/MyDrive/DSP/Analytical  Vidhya/1 - Face detection/test_dataset2/test_Bh8pGW3/Test/17290.jpg',\n",
              " '/content/drive/MyDrive/DSP/Analytical  Vidhya/1 - Face detection/test_dataset2/test_Bh8pGW3/Test/17278.jpg',\n",
              " '/content/drive/MyDrive/DSP/Analytical  Vidhya/1 - Face detection/test_dataset2/test_Bh8pGW3/Test/1725.jpg',\n",
              " '/content/drive/MyDrive/DSP/Analytical  Vidhya/1 - Face detection/test_dataset2/test_Bh8pGW3/Test/17251.jpg',\n",
              " '/content/drive/MyDrive/DSP/Analytical  Vidhya/1 - Face detection/test_dataset2/test_Bh8pGW3/Test/1724.jpg',\n",
              " '/content/drive/MyDrive/DSP/Analytical  Vidhya/1 - Face detection/test_dataset2/test_Bh8pGW3/Test/17253.jpg',\n",
              " '/content/drive/MyDrive/DSP/Analytical  Vidhya/1 - Face detection/test_dataset2/test_Bh8pGW3/Test/17245.jpg',\n",
              " '/content/drive/MyDrive/DSP/Analytical  Vidhya/1 - Face detection/test_dataset2/test_Bh8pGW3/Test/1726.jpg',\n",
              " '/content/drive/MyDrive/DSP/Analytical  Vidhya/1 - Face detection/test_dataset2/test_Bh8pGW3/Test/17243.jpg',\n",
              " '/content/drive/MyDrive/DSP/Analytical  Vidhya/1 - Face detection/test_dataset2/test_Bh8pGW3/Test/17274.jpg',\n",
              " '/content/drive/MyDrive/DSP/Analytical  Vidhya/1 - Face detection/test_dataset2/test_Bh8pGW3/Test/17252.jpg',\n",
              " '/content/drive/MyDrive/DSP/Analytical  Vidhya/1 - Face detection/test_dataset2/test_Bh8pGW3/Test/17264.jpg',\n",
              " '/content/drive/MyDrive/DSP/Analytical  Vidhya/1 - Face detection/test_dataset2/test_Bh8pGW3/Test/17260.jpg',\n",
              " '/content/drive/MyDrive/DSP/Analytical  Vidhya/1 - Face detection/test_dataset2/test_Bh8pGW3/Test/17219.jpg',\n",
              " '/content/drive/MyDrive/DSP/Analytical  Vidhya/1 - Face detection/test_dataset2/test_Bh8pGW3/Test/17232.jpg',\n",
              " '/content/drive/MyDrive/DSP/Analytical  Vidhya/1 - Face detection/test_dataset2/test_Bh8pGW3/Test/17221.jpg',\n",
              " '/content/drive/MyDrive/DSP/Analytical  Vidhya/1 - Face detection/test_dataset2/test_Bh8pGW3/Test/17217.jpg',\n",
              " '/content/drive/MyDrive/DSP/Analytical  Vidhya/1 - Face detection/test_dataset2/test_Bh8pGW3/Test/17224.jpg',\n",
              " '/content/drive/MyDrive/DSP/Analytical  Vidhya/1 - Face detection/test_dataset2/test_Bh8pGW3/Test/17226.jpg',\n",
              " '/content/drive/MyDrive/DSP/Analytical  Vidhya/1 - Face detection/test_dataset2/test_Bh8pGW3/Test/17229.jpg',\n",
              " '/content/drive/MyDrive/DSP/Analytical  Vidhya/1 - Face detection/test_dataset2/test_Bh8pGW3/Test/17234.jpg',\n",
              " '/content/drive/MyDrive/DSP/Analytical  Vidhya/1 - Face detection/test_dataset2/test_Bh8pGW3/Test/17236.jpg',\n",
              " '/content/drive/MyDrive/DSP/Analytical  Vidhya/1 - Face detection/test_dataset2/test_Bh8pGW3/Test/17214.jpg',\n",
              " '/content/drive/MyDrive/DSP/Analytical  Vidhya/1 - Face detection/test_dataset2/test_Bh8pGW3/Test/17208.jpg',\n",
              " '/content/drive/MyDrive/DSP/Analytical  Vidhya/1 - Face detection/test_dataset2/test_Bh8pGW3/Test/17523.jpg',\n",
              " '/content/drive/MyDrive/DSP/Analytical  Vidhya/1 - Face detection/test_dataset2/test_Bh8pGW3/Test/17517.jpg',\n",
              " '/content/drive/MyDrive/DSP/Analytical  Vidhya/1 - Face detection/test_dataset2/test_Bh8pGW3/Test/17528.jpg',\n",
              " '/content/drive/MyDrive/DSP/Analytical  Vidhya/1 - Face detection/test_dataset2/test_Bh8pGW3/Test/17524.jpg',\n",
              " '/content/drive/MyDrive/DSP/Analytical  Vidhya/1 - Face detection/test_dataset2/test_Bh8pGW3/Test/17506.jpg',\n",
              " '/content/drive/MyDrive/DSP/Analytical  Vidhya/1 - Face detection/test_dataset2/test_Bh8pGW3/Test/17516.jpg',\n",
              " '/content/drive/MyDrive/DSP/Analytical  Vidhya/1 - Face detection/test_dataset2/test_Bh8pGW3/Test/17526.jpg',\n",
              " '/content/drive/MyDrive/DSP/Analytical  Vidhya/1 - Face detection/test_dataset2/test_Bh8pGW3/Test/17536.jpg',\n",
              " '/content/drive/MyDrive/DSP/Analytical  Vidhya/1 - Face detection/test_dataset2/test_Bh8pGW3/Test/17534.jpg',\n",
              " '/content/drive/MyDrive/DSP/Analytical  Vidhya/1 - Face detection/test_dataset2/test_Bh8pGW3/Test/17504.jpg',\n",
              " '/content/drive/MyDrive/DSP/Analytical  Vidhya/1 - Face detection/test_dataset2/test_Bh8pGW3/Test/17499.jpg',\n",
              " '/content/drive/MyDrive/DSP/Analytical  Vidhya/1 - Face detection/test_dataset2/test_Bh8pGW3/Test/17480.jpg',\n",
              " '/content/drive/MyDrive/DSP/Analytical  Vidhya/1 - Face detection/test_dataset2/test_Bh8pGW3/Test/17466.jpg',\n",
              " '/content/drive/MyDrive/DSP/Analytical  Vidhya/1 - Face detection/test_dataset2/test_Bh8pGW3/Test/17460.jpg',\n",
              " '/content/drive/MyDrive/DSP/Analytical  Vidhya/1 - Face detection/test_dataset2/test_Bh8pGW3/Test/17474.jpg',\n",
              " '/content/drive/MyDrive/DSP/Analytical  Vidhya/1 - Face detection/test_dataset2/test_Bh8pGW3/Test/17476.jpg',\n",
              " '/content/drive/MyDrive/DSP/Analytical  Vidhya/1 - Face detection/test_dataset2/test_Bh8pGW3/Test/17458.jpg',\n",
              " '/content/drive/MyDrive/DSP/Analytical  Vidhya/1 - Face detection/test_dataset2/test_Bh8pGW3/Test/17463.jpg',\n",
              " '/content/drive/MyDrive/DSP/Analytical  Vidhya/1 - Face detection/test_dataset2/test_Bh8pGW3/Test/17467.jpg',\n",
              " '/content/drive/MyDrive/DSP/Analytical  Vidhya/1 - Face detection/test_dataset2/test_Bh8pGW3/Test/17452.jpg',\n",
              " '/content/drive/MyDrive/DSP/Analytical  Vidhya/1 - Face detection/test_dataset2/test_Bh8pGW3/Test/1746.jpg',\n",
              " '/content/drive/MyDrive/DSP/Analytical  Vidhya/1 - Face detection/test_dataset2/test_Bh8pGW3/Test/17370.jpg',\n",
              " '/content/drive/MyDrive/DSP/Analytical  Vidhya/1 - Face detection/test_dataset2/test_Bh8pGW3/Test/17479.jpg',\n",
              " '/content/drive/MyDrive/DSP/Analytical  Vidhya/1 - Face detection/test_dataset2/test_Bh8pGW3/Test/17477.jpg',\n",
              " '/content/drive/MyDrive/DSP/Analytical  Vidhya/1 - Face detection/test_dataset2/test_Bh8pGW3/Test/17456.jpg',\n",
              " '/content/drive/MyDrive/DSP/Analytical  Vidhya/1 - Face detection/test_dataset2/test_Bh8pGW3/Test/17413.jpg',\n",
              " '/content/drive/MyDrive/DSP/Analytical  Vidhya/1 - Face detection/test_dataset2/test_Bh8pGW3/Test/17424.jpg',\n",
              " '/content/drive/MyDrive/DSP/Analytical  Vidhya/1 - Face detection/test_dataset2/test_Bh8pGW3/Test/17416.jpg',\n",
              " '/content/drive/MyDrive/DSP/Analytical  Vidhya/1 - Face detection/test_dataset2/test_Bh8pGW3/Test/17421.jpg',\n",
              " '/content/drive/MyDrive/DSP/Analytical  Vidhya/1 - Face detection/test_dataset2/test_Bh8pGW3/Test/17423.jpg',\n",
              " '/content/drive/MyDrive/DSP/Analytical  Vidhya/1 - Face detection/test_dataset2/test_Bh8pGW3/Test/17439.jpg',\n",
              " '/content/drive/MyDrive/DSP/Analytical  Vidhya/1 - Face detection/test_dataset2/test_Bh8pGW3/Test/17438.jpg',\n",
              " '/content/drive/MyDrive/DSP/Analytical  Vidhya/1 - Face detection/test_dataset2/test_Bh8pGW3/Test/17451.jpg',\n",
              " '/content/drive/MyDrive/DSP/Analytical  Vidhya/1 - Face detection/test_dataset2/test_Bh8pGW3/Test/1740.jpg',\n",
              " '/content/drive/MyDrive/DSP/Analytical  Vidhya/1 - Face detection/test_dataset2/test_Bh8pGW3/Test/17401.jpg',\n",
              " '/content/drive/MyDrive/DSP/Analytical  Vidhya/1 - Face detection/test_dataset2/test_Bh8pGW3/Test/17406.jpg',\n",
              " '/content/drive/MyDrive/DSP/Analytical  Vidhya/1 - Face detection/test_dataset2/test_Bh8pGW3/Test/17402.jpg',\n",
              " '/content/drive/MyDrive/DSP/Analytical  Vidhya/1 - Face detection/test_dataset2/test_Bh8pGW3/Test/17385.jpg',\n",
              " '/content/drive/MyDrive/DSP/Analytical  Vidhya/1 - Face detection/test_dataset2/test_Bh8pGW3/Test/17377.jpg',\n",
              " '/content/drive/MyDrive/DSP/Analytical  Vidhya/1 - Face detection/test_dataset2/test_Bh8pGW3/Test/17404.jpg',\n",
              " '/content/drive/MyDrive/DSP/Analytical  Vidhya/1 - Face detection/test_dataset2/test_Bh8pGW3/Test/1744.jpg',\n",
              " '/content/drive/MyDrive/DSP/Analytical  Vidhya/1 - Face detection/test_dataset2/test_Bh8pGW3/Test/17409.jpg',\n",
              " '/content/drive/MyDrive/DSP/Analytical  Vidhya/1 - Face detection/test_dataset2/test_Bh8pGW3/Test/17407.jpg',\n",
              " '/content/drive/MyDrive/DSP/Analytical  Vidhya/1 - Face detection/test_dataset2/test_Bh8pGW3/Test/17408.jpg',\n",
              " '/content/drive/MyDrive/DSP/Analytical  Vidhya/1 - Face detection/test_dataset2/test_Bh8pGW3/Test/1737.jpg',\n",
              " '/content/drive/MyDrive/DSP/Analytical  Vidhya/1 - Face detection/test_dataset2/test_Bh8pGW3/Test/1765.jpg',\n",
              " '/content/drive/MyDrive/DSP/Analytical  Vidhya/1 - Face detection/test_dataset2/test_Bh8pGW3/Test/17656.jpg',\n",
              " '/content/drive/MyDrive/DSP/Analytical  Vidhya/1 - Face detection/test_dataset2/test_Bh8pGW3/Test/17651.jpg',\n",
              " '/content/drive/MyDrive/DSP/Analytical  Vidhya/1 - Face detection/test_dataset2/test_Bh8pGW3/Test/17666.jpg',\n",
              " '/content/drive/MyDrive/DSP/Analytical  Vidhya/1 - Face detection/test_dataset2/test_Bh8pGW3/Test/17668.jpg',\n",
              " '/content/drive/MyDrive/DSP/Analytical  Vidhya/1 - Face detection/test_dataset2/test_Bh8pGW3/Test/17648.jpg',\n",
              " '/content/drive/MyDrive/DSP/Analytical  Vidhya/1 - Face detection/test_dataset2/test_Bh8pGW3/Test/17658.jpg',\n",
              " '/content/drive/MyDrive/DSP/Analytical  Vidhya/1 - Face detection/test_dataset2/test_Bh8pGW3/Test/1768.jpg',\n",
              " '/content/drive/MyDrive/DSP/Analytical  Vidhya/1 - Face detection/test_dataset2/test_Bh8pGW3/Test/17646.jpg',\n",
              " '/content/drive/MyDrive/DSP/Analytical  Vidhya/1 - Face detection/test_dataset2/test_Bh8pGW3/Test/17679.jpg',\n",
              " '/content/drive/MyDrive/DSP/Analytical  Vidhya/1 - Face detection/test_dataset2/test_Bh8pGW3/Test/17643.jpg',\n",
              " '/content/drive/MyDrive/DSP/Analytical  Vidhya/1 - Face detection/test_dataset2/test_Bh8pGW3/Test/17645.jpg',\n",
              " '/content/drive/MyDrive/DSP/Analytical  Vidhya/1 - Face detection/test_dataset2/test_Bh8pGW3/Test/17630.jpg',\n",
              " '/content/drive/MyDrive/DSP/Analytical  Vidhya/1 - Face detection/test_dataset2/test_Bh8pGW3/Test/17635.jpg',\n",
              " '/content/drive/MyDrive/DSP/Analytical  Vidhya/1 - Face detection/test_dataset2/test_Bh8pGW3/Test/17636.jpg',\n",
              " '/content/drive/MyDrive/DSP/Analytical  Vidhya/1 - Face detection/test_dataset2/test_Bh8pGW3/Test/17639.jpg',\n",
              " '/content/drive/MyDrive/DSP/Analytical  Vidhya/1 - Face detection/test_dataset2/test_Bh8pGW3/Test/17625.jpg',\n",
              " '/content/drive/MyDrive/DSP/Analytical  Vidhya/1 - Face detection/test_dataset2/test_Bh8pGW3/Test/17626.jpg',\n",
              " '/content/drive/MyDrive/DSP/Analytical  Vidhya/1 - Face detection/test_dataset2/test_Bh8pGW3/Test/1763.jpg',\n",
              " '/content/drive/MyDrive/DSP/Analytical  Vidhya/1 - Face detection/test_dataset2/test_Bh8pGW3/Test/17620.jpg',\n",
              " '/content/drive/MyDrive/DSP/Analytical  Vidhya/1 - Face detection/test_dataset2/test_Bh8pGW3/Test/17612.jpg',\n",
              " '/content/drive/MyDrive/DSP/Analytical  Vidhya/1 - Face detection/test_dataset2/test_Bh8pGW3/Test/17608.jpg',\n",
              " '/content/drive/MyDrive/DSP/Analytical  Vidhya/1 - Face detection/test_dataset2/test_Bh8pGW3/Test/17610.jpg',\n",
              " '/content/drive/MyDrive/DSP/Analytical  Vidhya/1 - Face detection/test_dataset2/test_Bh8pGW3/Test/17593.jpg',\n",
              " '/content/drive/MyDrive/DSP/Analytical  Vidhya/1 - Face detection/test_dataset2/test_Bh8pGW3/Test/17590.jpg',\n",
              " '/content/drive/MyDrive/DSP/Analytical  Vidhya/1 - Face detection/test_dataset2/test_Bh8pGW3/Test/17575.jpg',\n",
              " '/content/drive/MyDrive/DSP/Analytical  Vidhya/1 - Face detection/test_dataset2/test_Bh8pGW3/Test/17577.jpg',\n",
              " '/content/drive/MyDrive/DSP/Analytical  Vidhya/1 - Face detection/test_dataset2/test_Bh8pGW3/Test/17580.jpg',\n",
              " '/content/drive/MyDrive/DSP/Analytical  Vidhya/1 - Face detection/test_dataset2/test_Bh8pGW3/Test/17579.jpg',\n",
              " '/content/drive/MyDrive/DSP/Analytical  Vidhya/1 - Face detection/test_dataset2/test_Bh8pGW3/Test/17585.jpg',\n",
              " '/content/drive/MyDrive/DSP/Analytical  Vidhya/1 - Face detection/test_dataset2/test_Bh8pGW3/Test/1761.jpg',\n",
              " '/content/drive/MyDrive/DSP/Analytical  Vidhya/1 - Face detection/test_dataset2/test_Bh8pGW3/Test/17571.jpg',\n",
              " '/content/drive/MyDrive/DSP/Analytical  Vidhya/1 - Face detection/test_dataset2/test_Bh8pGW3/Test/17570.jpg',\n",
              " '/content/drive/MyDrive/DSP/Analytical  Vidhya/1 - Face detection/test_dataset2/test_Bh8pGW3/Test/17572.jpg',\n",
              " '/content/drive/MyDrive/DSP/Analytical  Vidhya/1 - Face detection/test_dataset2/test_Bh8pGW3/Test/17555.jpg',\n",
              " '/content/drive/MyDrive/DSP/Analytical  Vidhya/1 - Face detection/test_dataset2/test_Bh8pGW3/Test/17548.jpg',\n",
              " '/content/drive/MyDrive/DSP/Analytical  Vidhya/1 - Face detection/test_dataset2/test_Bh8pGW3/Test/17559.jpg',\n",
              " '/content/drive/MyDrive/DSP/Analytical  Vidhya/1 - Face detection/test_dataset2/test_Bh8pGW3/Test/17546.jpg',\n",
              " '/content/drive/MyDrive/DSP/Analytical  Vidhya/1 - Face detection/test_dataset2/test_Bh8pGW3/Test/17564.jpg',\n",
              " '/content/drive/MyDrive/DSP/Analytical  Vidhya/1 - Face detection/test_dataset2/test_Bh8pGW3/Test/1756.jpg',\n",
              " '/content/drive/MyDrive/DSP/Analytical  Vidhya/1 - Face detection/test_dataset2/test_Bh8pGW3/Test/17569.jpg',\n",
              " '/content/drive/MyDrive/DSP/Analytical  Vidhya/1 - Face detection/test_dataset2/test_Bh8pGW3/Test/17544.jpg',\n",
              " '/content/drive/MyDrive/DSP/Analytical  Vidhya/1 - Face detection/test_dataset2/test_Bh8pGW3/Test/17537.jpg',\n",
              " '/content/drive/MyDrive/DSP/Analytical  Vidhya/1 - Face detection/test_dataset2/test_Bh8pGW3/Test/1754.jpg',\n",
              " '/content/drive/MyDrive/DSP/Analytical  Vidhya/1 - Face detection/test_dataset2/test_Bh8pGW3/Test/17852.jpg',\n",
              " '/content/drive/MyDrive/DSP/Analytical  Vidhya/1 - Face detection/test_dataset2/test_Bh8pGW3/Test/17833.jpg',\n",
              " '/content/drive/MyDrive/DSP/Analytical  Vidhya/1 - Face detection/test_dataset2/test_Bh8pGW3/Test/17830.jpg',\n",
              " '/content/drive/MyDrive/DSP/Analytical  Vidhya/1 - Face detection/test_dataset2/test_Bh8pGW3/Test/17837.jpg',\n",
              " '/content/drive/MyDrive/DSP/Analytical  Vidhya/1 - Face detection/test_dataset2/test_Bh8pGW3/Test/17838.jpg',\n",
              " '/content/drive/MyDrive/DSP/Analytical  Vidhya/1 - Face detection/test_dataset2/test_Bh8pGW3/Test/17829.jpg',\n",
              " '/content/drive/MyDrive/DSP/Analytical  Vidhya/1 - Face detection/test_dataset2/test_Bh8pGW3/Test/17827.jpg',\n",
              " '/content/drive/MyDrive/DSP/Analytical  Vidhya/1 - Face detection/test_dataset2/test_Bh8pGW3/Test/17821.jpg',\n",
              " '/content/drive/MyDrive/DSP/Analytical  Vidhya/1 - Face detection/test_dataset2/test_Bh8pGW3/Test/17813.jpg',\n",
              " '/content/drive/MyDrive/DSP/Analytical  Vidhya/1 - Face detection/test_dataset2/test_Bh8pGW3/Test/17812.jpg',\n",
              " '/content/drive/MyDrive/DSP/Analytical  Vidhya/1 - Face detection/test_dataset2/test_Bh8pGW3/Test/1785.jpg',\n",
              " '/content/drive/MyDrive/DSP/Analytical  Vidhya/1 - Face detection/test_dataset2/test_Bh8pGW3/Test/1781.jpg',\n",
              " '/content/drive/MyDrive/DSP/Analytical  Vidhya/1 - Face detection/test_dataset2/test_Bh8pGW3/Test/17809.jpg',\n",
              " '/content/drive/MyDrive/DSP/Analytical  Vidhya/1 - Face detection/test_dataset2/test_Bh8pGW3/Test/17798.jpg',\n",
              " '/content/drive/MyDrive/DSP/Analytical  Vidhya/1 - Face detection/test_dataset2/test_Bh8pGW3/Test/17800.jpg',\n",
              " '/content/drive/MyDrive/DSP/Analytical  Vidhya/1 - Face detection/test_dataset2/test_Bh8pGW3/Test/178.jpg',\n",
              " '/content/drive/MyDrive/DSP/Analytical  Vidhya/1 - Face detection/test_dataset2/test_Bh8pGW3/Test/17804.jpg',\n",
              " '/content/drive/MyDrive/DSP/Analytical  Vidhya/1 - Face detection/test_dataset2/test_Bh8pGW3/Test/17803.jpg',\n",
              " '/content/drive/MyDrive/DSP/Analytical  Vidhya/1 - Face detection/test_dataset2/test_Bh8pGW3/Test/17805.jpg',\n",
              " '/content/drive/MyDrive/DSP/Analytical  Vidhya/1 - Face detection/test_dataset2/test_Bh8pGW3/Test/1779.jpg',\n",
              " '/content/drive/MyDrive/DSP/Analytical  Vidhya/1 - Face detection/test_dataset2/test_Bh8pGW3/Test/17808.jpg',\n",
              " '/content/drive/MyDrive/DSP/Analytical  Vidhya/1 - Face detection/test_dataset2/test_Bh8pGW3/Test/17789.jpg',\n",
              " '/content/drive/MyDrive/DSP/Analytical  Vidhya/1 - Face detection/test_dataset2/test_Bh8pGW3/Test/17764.jpg',\n",
              " '/content/drive/MyDrive/DSP/Analytical  Vidhya/1 - Face detection/test_dataset2/test_Bh8pGW3/Test/1778.jpg',\n",
              " '/content/drive/MyDrive/DSP/Analytical  Vidhya/1 - Face detection/test_dataset2/test_Bh8pGW3/Test/17774.jpg',\n",
              " '/content/drive/MyDrive/DSP/Analytical  Vidhya/1 - Face detection/test_dataset2/test_Bh8pGW3/Test/1775.jpg',\n",
              " '/content/drive/MyDrive/DSP/Analytical  Vidhya/1 - Face detection/test_dataset2/test_Bh8pGW3/Test/17768.jpg',\n",
              " '/content/drive/MyDrive/DSP/Analytical  Vidhya/1 - Face detection/test_dataset2/test_Bh8pGW3/Test/17776.jpg',\n",
              " '/content/drive/MyDrive/DSP/Analytical  Vidhya/1 - Face detection/test_dataset2/test_Bh8pGW3/Test/1777.jpg',\n",
              " '/content/drive/MyDrive/DSP/Analytical  Vidhya/1 - Face detection/test_dataset2/test_Bh8pGW3/Test/17788.jpg',\n",
              " '/content/drive/MyDrive/DSP/Analytical  Vidhya/1 - Face detection/test_dataset2/test_Bh8pGW3/Test/17782.jpg',\n",
              " '/content/drive/MyDrive/DSP/Analytical  Vidhya/1 - Face detection/test_dataset2/test_Bh8pGW3/Test/17733.jpg',\n",
              " '/content/drive/MyDrive/DSP/Analytical  Vidhya/1 - Face detection/test_dataset2/test_Bh8pGW3/Test/17737.jpg',\n",
              " '/content/drive/MyDrive/DSP/Analytical  Vidhya/1 - Face detection/test_dataset2/test_Bh8pGW3/Test/17718.jpg',\n",
              " '/content/drive/MyDrive/DSP/Analytical  Vidhya/1 - Face detection/test_dataset2/test_Bh8pGW3/Test/17699.jpg',\n",
              " '/content/drive/MyDrive/DSP/Analytical  Vidhya/1 - Face detection/test_dataset2/test_Bh8pGW3/Test/17698.jpg',\n",
              " '/content/drive/MyDrive/DSP/Analytical  Vidhya/1 - Face detection/test_dataset2/test_Bh8pGW3/Test/177.jpg',\n",
              " '/content/drive/MyDrive/DSP/Analytical  Vidhya/1 - Face detection/test_dataset2/test_Bh8pGW3/Test/17709.jpg',\n",
              " '/content/drive/MyDrive/DSP/Analytical  Vidhya/1 - Face detection/test_dataset2/test_Bh8pGW3/Test/17688.jpg',\n",
              " '/content/drive/MyDrive/DSP/Analytical  Vidhya/1 - Face detection/test_dataset2/test_Bh8pGW3/Test/17714.jpg',\n",
              " '/content/drive/MyDrive/DSP/Analytical  Vidhya/1 - Face detection/test_dataset2/test_Bh8pGW3/Test/17727.jpg',\n",
              " '/content/drive/MyDrive/DSP/Analytical  Vidhya/1 - Face detection/test_dataset2/test_Bh8pGW3/Test/17681.jpg',\n",
              " '/content/drive/MyDrive/DSP/Analytical  Vidhya/1 - Face detection/test_dataset2/test_Bh8pGW3/Test/17686.jpg',\n",
              " '/content/drive/MyDrive/DSP/Analytical  Vidhya/1 - Face detection/test_dataset2/test_Bh8pGW3/Test/17687.jpg',\n",
              " '/content/drive/MyDrive/DSP/Analytical  Vidhya/1 - Face detection/test_dataset2/test_Bh8pGW3/Test/18033.jpg',\n",
              " '/content/drive/MyDrive/DSP/Analytical  Vidhya/1 - Face detection/test_dataset2/test_Bh8pGW3/Test/18.jpg',\n",
              " '/content/drive/MyDrive/DSP/Analytical  Vidhya/1 - Face detection/test_dataset2/test_Bh8pGW3/Test/18023.jpg',\n",
              " '/content/drive/MyDrive/DSP/Analytical  Vidhya/1 - Face detection/test_dataset2/test_Bh8pGW3/Test/18022.jpg',\n",
              " '/content/drive/MyDrive/DSP/Analytical  Vidhya/1 - Face detection/test_dataset2/test_Bh8pGW3/Test/18004.jpg',\n",
              " '/content/drive/MyDrive/DSP/Analytical  Vidhya/1 - Face detection/test_dataset2/test_Bh8pGW3/Test/18010.jpg',\n",
              " '/content/drive/MyDrive/DSP/Analytical  Vidhya/1 - Face detection/test_dataset2/test_Bh8pGW3/Test/18030.jpg',\n",
              " '/content/drive/MyDrive/DSP/Analytical  Vidhya/1 - Face detection/test_dataset2/test_Bh8pGW3/Test/18025.jpg',\n",
              " '/content/drive/MyDrive/DSP/Analytical  Vidhya/1 - Face detection/test_dataset2/test_Bh8pGW3/Test/18031.jpg',\n",
              " '/content/drive/MyDrive/DSP/Analytical  Vidhya/1 - Face detection/test_dataset2/test_Bh8pGW3/Test/17999.jpg',\n",
              " '/content/drive/MyDrive/DSP/Analytical  Vidhya/1 - Face detection/test_dataset2/test_Bh8pGW3/Test/17998.jpg',\n",
              " '/content/drive/MyDrive/DSP/Analytical  Vidhya/1 - Face detection/test_dataset2/test_Bh8pGW3/Test/17980.jpg',\n",
              " '/content/drive/MyDrive/DSP/Analytical  Vidhya/1 - Face detection/test_dataset2/test_Bh8pGW3/Test/17978.jpg',\n",
              " '/content/drive/MyDrive/DSP/Analytical  Vidhya/1 - Face detection/test_dataset2/test_Bh8pGW3/Test/17971.jpg',\n",
              " '/content/drive/MyDrive/DSP/Analytical  Vidhya/1 - Face detection/test_dataset2/test_Bh8pGW3/Test/1798.jpg',\n",
              " '/content/drive/MyDrive/DSP/Analytical  Vidhya/1 - Face detection/test_dataset2/test_Bh8pGW3/Test/17987.jpg',\n",
              " '/content/drive/MyDrive/DSP/Analytical  Vidhya/1 - Face detection/test_dataset2/test_Bh8pGW3/Test/17977.jpg',\n",
              " '/content/drive/MyDrive/DSP/Analytical  Vidhya/1 - Face detection/test_dataset2/test_Bh8pGW3/Test/17979.jpg',\n",
              " '/content/drive/MyDrive/DSP/Analytical  Vidhya/1 - Face detection/test_dataset2/test_Bh8pGW3/Test/17994.jpg',\n",
              " '/content/drive/MyDrive/DSP/Analytical  Vidhya/1 - Face detection/test_dataset2/test_Bh8pGW3/Test/17989.jpg',\n",
              " '/content/drive/MyDrive/DSP/Analytical  Vidhya/1 - Face detection/test_dataset2/test_Bh8pGW3/Test/17969.jpg',\n",
              " '/content/drive/MyDrive/DSP/Analytical  Vidhya/1 - Face detection/test_dataset2/test_Bh8pGW3/Test/1797.jpg',\n",
              " '/content/drive/MyDrive/DSP/Analytical  Vidhya/1 - Face detection/test_dataset2/test_Bh8pGW3/Test/17950.jpg',\n",
              " '/content/drive/MyDrive/DSP/Analytical  Vidhya/1 - Face detection/test_dataset2/test_Bh8pGW3/Test/17927.jpg',\n",
              " '/content/drive/MyDrive/DSP/Analytical  Vidhya/1 - Face detection/test_dataset2/test_Bh8pGW3/Test/17935.jpg',\n",
              " '/content/drive/MyDrive/DSP/Analytical  Vidhya/1 - Face detection/test_dataset2/test_Bh8pGW3/Test/17912.jpg',\n",
              " '/content/drive/MyDrive/DSP/Analytical  Vidhya/1 - Face detection/test_dataset2/test_Bh8pGW3/Test/17910.jpg',\n",
              " '/content/drive/MyDrive/DSP/Analytical  Vidhya/1 - Face detection/test_dataset2/test_Bh8pGW3/Test/17916.jpg',\n",
              " '/content/drive/MyDrive/DSP/Analytical  Vidhya/1 - Face detection/test_dataset2/test_Bh8pGW3/Test/17914.jpg',\n",
              " '/content/drive/MyDrive/DSP/Analytical  Vidhya/1 - Face detection/test_dataset2/test_Bh8pGW3/Test/17929.jpg',\n",
              " '/content/drive/MyDrive/DSP/Analytical  Vidhya/1 - Face detection/test_dataset2/test_Bh8pGW3/Test/17960.jpg',\n",
              " '/content/drive/MyDrive/DSP/Analytical  Vidhya/1 - Face detection/test_dataset2/test_Bh8pGW3/Test/17893.jpg',\n",
              " '/content/drive/MyDrive/DSP/Analytical  Vidhya/1 - Face detection/test_dataset2/test_Bh8pGW3/Test/17939.jpg',\n",
              " '/content/drive/MyDrive/DSP/Analytical  Vidhya/1 - Face detection/test_dataset2/test_Bh8pGW3/Test/17897.jpg',\n",
              " '/content/drive/MyDrive/DSP/Analytical  Vidhya/1 - Face detection/test_dataset2/test_Bh8pGW3/Test/17904.jpg',\n",
              " '/content/drive/MyDrive/DSP/Analytical  Vidhya/1 - Face detection/test_dataset2/test_Bh8pGW3/Test/1789.jpg',\n",
              " '/content/drive/MyDrive/DSP/Analytical  Vidhya/1 - Face detection/test_dataset2/test_Bh8pGW3/Test/17865.jpg',\n",
              " '/content/drive/MyDrive/DSP/Analytical  Vidhya/1 - Face detection/test_dataset2/test_Bh8pGW3/Test/17866.jpg',\n",
              " '/content/drive/MyDrive/DSP/Analytical  Vidhya/1 - Face detection/test_dataset2/test_Bh8pGW3/Test/17867.jpg',\n",
              " '/content/drive/MyDrive/DSP/Analytical  Vidhya/1 - Face detection/test_dataset2/test_Bh8pGW3/Test/17887.jpg',\n",
              " '/content/drive/MyDrive/DSP/Analytical  Vidhya/1 - Face detection/test_dataset2/test_Bh8pGW3/Test/17876.jpg',\n",
              " '/content/drive/MyDrive/DSP/Analytical  Vidhya/1 - Face detection/test_dataset2/test_Bh8pGW3/Test/17879.jpg',\n",
              " '/content/drive/MyDrive/DSP/Analytical  Vidhya/1 - Face detection/test_dataset2/test_Bh8pGW3/Test/17864.jpg',\n",
              " '/content/drive/MyDrive/DSP/Analytical  Vidhya/1 - Face detection/test_dataset2/test_Bh8pGW3/Test/17858.jpg',\n",
              " '/content/drive/MyDrive/DSP/Analytical  Vidhya/1 - Face detection/test_dataset2/test_Bh8pGW3/Test/17860.jpg',\n",
              " '/content/drive/MyDrive/DSP/Analytical  Vidhya/1 - Face detection/test_dataset2/test_Bh8pGW3/Test/18195.jpg',\n",
              " '/content/drive/MyDrive/DSP/Analytical  Vidhya/1 - Face detection/test_dataset2/test_Bh8pGW3/Test/18196.jpg',\n",
              " '/content/drive/MyDrive/DSP/Analytical  Vidhya/1 - Face detection/test_dataset2/test_Bh8pGW3/Test/1817.jpg',\n",
              " '/content/drive/MyDrive/DSP/Analytical  Vidhya/1 - Face detection/test_dataset2/test_Bh8pGW3/Test/18173.jpg',\n",
              " '/content/drive/MyDrive/DSP/Analytical  Vidhya/1 - Face detection/test_dataset2/test_Bh8pGW3/Test/18163.jpg',\n",
              " '/content/drive/MyDrive/DSP/Analytical  Vidhya/1 - Face detection/test_dataset2/test_Bh8pGW3/Test/18177.jpg',\n",
              " '/content/drive/MyDrive/DSP/Analytical  Vidhya/1 - Face detection/test_dataset2/test_Bh8pGW3/Test/1818.jpg',\n",
              " '/content/drive/MyDrive/DSP/Analytical  Vidhya/1 - Face detection/test_dataset2/test_Bh8pGW3/Test/18151.jpg',\n",
              " '/content/drive/MyDrive/DSP/Analytical  Vidhya/1 - Face detection/test_dataset2/test_Bh8pGW3/Test/18146.jpg',\n",
              " '/content/drive/MyDrive/DSP/Analytical  Vidhya/1 - Face detection/test_dataset2/test_Bh8pGW3/Test/18194.jpg',\n",
              " '/content/drive/MyDrive/DSP/Analytical  Vidhya/1 - Face detection/test_dataset2/test_Bh8pGW3/Test/18189.jpg',\n",
              " '/content/drive/MyDrive/DSP/Analytical  Vidhya/1 - Face detection/test_dataset2/test_Bh8pGW3/Test/18147.jpg',\n",
              " '/content/drive/MyDrive/DSP/Analytical  Vidhya/1 - Face detection/test_dataset2/test_Bh8pGW3/Test/18145.jpg',\n",
              " '/content/drive/MyDrive/DSP/Analytical  Vidhya/1 - Face detection/test_dataset2/test_Bh8pGW3/Test/18143.jpg',\n",
              " '/content/drive/MyDrive/DSP/Analytical  Vidhya/1 - Face detection/test_dataset2/test_Bh8pGW3/Test/18133.jpg',\n",
              " '/content/drive/MyDrive/DSP/Analytical  Vidhya/1 - Face detection/test_dataset2/test_Bh8pGW3/Test/18127.jpg',\n",
              " '/content/drive/MyDrive/DSP/Analytical  Vidhya/1 - Face detection/test_dataset2/test_Bh8pGW3/Test/18126.jpg',\n",
              " '/content/drive/MyDrive/DSP/Analytical  Vidhya/1 - Face detection/test_dataset2/test_Bh8pGW3/Test/18140.jpg',\n",
              " '/content/drive/MyDrive/DSP/Analytical  Vidhya/1 - Face detection/test_dataset2/test_Bh8pGW3/Test/18138.jpg',\n",
              " '/content/drive/MyDrive/DSP/Analytical  Vidhya/1 - Face detection/test_dataset2/test_Bh8pGW3/Test/18141.jpg',\n",
              " '/content/drive/MyDrive/DSP/Analytical  Vidhya/1 - Face detection/test_dataset2/test_Bh8pGW3/Test/18142.jpg',\n",
              " '/content/drive/MyDrive/DSP/Analytical  Vidhya/1 - Face detection/test_dataset2/test_Bh8pGW3/Test/18122.jpg',\n",
              " '/content/drive/MyDrive/DSP/Analytical  Vidhya/1 - Face detection/test_dataset2/test_Bh8pGW3/Test/18082.jpg',\n",
              " '/content/drive/MyDrive/DSP/Analytical  Vidhya/1 - Face detection/test_dataset2/test_Bh8pGW3/Test/18086.jpg',\n",
              " '/content/drive/MyDrive/DSP/Analytical  Vidhya/1 - Face detection/test_dataset2/test_Bh8pGW3/Test/18096.jpg',\n",
              " '/content/drive/MyDrive/DSP/Analytical  Vidhya/1 - Face detection/test_dataset2/test_Bh8pGW3/Test/18085.jpg',\n",
              " '/content/drive/MyDrive/DSP/Analytical  Vidhya/1 - Face detection/test_dataset2/test_Bh8pGW3/Test/18104.jpg',\n",
              " '/content/drive/MyDrive/DSP/Analytical  Vidhya/1 - Face detection/test_dataset2/test_Bh8pGW3/Test/18083.jpg',\n",
              " '/content/drive/MyDrive/DSP/Analytical  Vidhya/1 - Face detection/test_dataset2/test_Bh8pGW3/Test/18114.jpg',\n",
              " '/content/drive/MyDrive/DSP/Analytical  Vidhya/1 - Face detection/test_dataset2/test_Bh8pGW3/Test/18121.jpg',\n",
              " '/content/drive/MyDrive/DSP/Analytical  Vidhya/1 - Face detection/test_dataset2/test_Bh8pGW3/Test/18102.jpg',\n",
              " '/content/drive/MyDrive/DSP/Analytical  Vidhya/1 - Face detection/test_dataset2/test_Bh8pGW3/Test/18076.jpg',\n",
              " '/content/drive/MyDrive/DSP/Analytical  Vidhya/1 - Face detection/test_dataset2/test_Bh8pGW3/Test/18074.jpg',\n",
              " '/content/drive/MyDrive/DSP/Analytical  Vidhya/1 - Face detection/test_dataset2/test_Bh8pGW3/Test/18081.jpg',\n",
              " '/content/drive/MyDrive/DSP/Analytical  Vidhya/1 - Face detection/test_dataset2/test_Bh8pGW3/Test/18056.jpg',\n",
              " '/content/drive/MyDrive/DSP/Analytical  Vidhya/1 - Face detection/test_dataset2/test_Bh8pGW3/Test/1804.jpg',\n",
              " '/content/drive/MyDrive/DSP/Analytical  Vidhya/1 - Face detection/test_dataset2/test_Bh8pGW3/Test/18049.jpg',\n",
              " '/content/drive/MyDrive/DSP/Analytical  Vidhya/1 - Face detection/test_dataset2/test_Bh8pGW3/Test/18066.jpg',\n",
              " '/content/drive/MyDrive/DSP/Analytical  Vidhya/1 - Face detection/test_dataset2/test_Bh8pGW3/Test/18035.jpg',\n",
              " '/content/drive/MyDrive/DSP/Analytical  Vidhya/1 - Face detection/test_dataset2/test_Bh8pGW3/Test/18050.jpg',\n",
              " '/content/drive/MyDrive/DSP/Analytical  Vidhya/1 - Face detection/test_dataset2/test_Bh8pGW3/Test/18048.jpg',\n",
              " '/content/drive/MyDrive/DSP/Analytical  Vidhya/1 - Face detection/test_dataset2/test_Bh8pGW3/Test/18073.jpg',\n",
              " '/content/drive/MyDrive/DSP/Analytical  Vidhya/1 - Face detection/test_dataset2/test_Bh8pGW3/Test/18068.jpg',\n",
              " '/content/drive/MyDrive/DSP/Analytical  Vidhya/1 - Face detection/test_dataset2/test_Bh8pGW3/Test/18039.jpg',\n",
              " '/content/drive/MyDrive/DSP/Analytical  Vidhya/1 - Face detection/test_dataset2/test_Bh8pGW3/Test/18034.jpg',\n",
              " '/content/drive/MyDrive/DSP/Analytical  Vidhya/1 - Face detection/test_dataset2/test_Bh8pGW3/Test/18350.jpg',\n",
              " '/content/drive/MyDrive/DSP/Analytical  Vidhya/1 - Face detection/test_dataset2/test_Bh8pGW3/Test/18338.jpg',\n",
              " '/content/drive/MyDrive/DSP/Analytical  Vidhya/1 - Face detection/test_dataset2/test_Bh8pGW3/Test/18306.jpg',\n",
              " '/content/drive/MyDrive/DSP/Analytical  Vidhya/1 - Face detection/test_dataset2/test_Bh8pGW3/Test/18298.jpg',\n",
              " '/content/drive/MyDrive/DSP/Analytical  Vidhya/1 - Face detection/test_dataset2/test_Bh8pGW3/Test/18324.jpg',\n",
              " '/content/drive/MyDrive/DSP/Analytical  Vidhya/1 - Face detection/test_dataset2/test_Bh8pGW3/Test/18344.jpg',\n",
              " '/content/drive/MyDrive/DSP/Analytical  Vidhya/1 - Face detection/test_dataset2/test_Bh8pGW3/Test/18329.jpg',\n",
              " '/content/drive/MyDrive/DSP/Analytical  Vidhya/1 - Face detection/test_dataset2/test_Bh8pGW3/Test/1833.jpg',\n",
              " '/content/drive/MyDrive/DSP/Analytical  Vidhya/1 - Face detection/test_dataset2/test_Bh8pGW3/Test/18291.jpg',\n",
              " '/content/drive/MyDrive/DSP/Analytical  Vidhya/1 - Face detection/test_dataset2/test_Bh8pGW3/Test/18367.jpg',\n",
              " '/content/drive/MyDrive/DSP/Analytical  Vidhya/1 - Face detection/test_dataset2/test_Bh8pGW3/Test/18292.jpg',\n",
              " '/content/drive/MyDrive/DSP/Analytical  Vidhya/1 - Face detection/test_dataset2/test_Bh8pGW3/Test/18348.jpg',\n",
              " '/content/drive/MyDrive/DSP/Analytical  Vidhya/1 - Face detection/test_dataset2/test_Bh8pGW3/Test/18347.jpg',\n",
              " '/content/drive/MyDrive/DSP/Analytical  Vidhya/1 - Face detection/test_dataset2/test_Bh8pGW3/Test/18294.jpg',\n",
              " '/content/drive/MyDrive/DSP/Analytical  Vidhya/1 - Face detection/test_dataset2/test_Bh8pGW3/Test/18289.jpg',\n",
              " '/content/drive/MyDrive/DSP/Analytical  Vidhya/1 - Face detection/test_dataset2/test_Bh8pGW3/Test/1828.jpg',\n",
              " '/content/drive/MyDrive/DSP/Analytical  Vidhya/1 - Face detection/test_dataset2/test_Bh8pGW3/Test/18273.jpg',\n",
              " '/content/drive/MyDrive/DSP/Analytical  Vidhya/1 - Face detection/test_dataset2/test_Bh8pGW3/Test/18268.jpg',\n",
              " '/content/drive/MyDrive/DSP/Analytical  Vidhya/1 - Face detection/test_dataset2/test_Bh8pGW3/Test/18270.jpg',\n",
              " '/content/drive/MyDrive/DSP/Analytical  Vidhya/1 - Face detection/test_dataset2/test_Bh8pGW3/Test/18286.jpg',\n",
              " '/content/drive/MyDrive/DSP/Analytical  Vidhya/1 - Face detection/test_dataset2/test_Bh8pGW3/Test/18278.jpg',\n",
              " '/content/drive/MyDrive/DSP/Analytical  Vidhya/1 - Face detection/test_dataset2/test_Bh8pGW3/Test/1827.jpg',\n",
              " '/content/drive/MyDrive/DSP/Analytical  Vidhya/1 - Face detection/test_dataset2/test_Bh8pGW3/Test/18234.jpg',\n",
              " '/content/drive/MyDrive/DSP/Analytical  Vidhya/1 - Face detection/test_dataset2/test_Bh8pGW3/Test/18227.jpg',\n",
              " '/content/drive/MyDrive/DSP/Analytical  Vidhya/1 - Face detection/test_dataset2/test_Bh8pGW3/Test/18240.jpg',\n",
              " '/content/drive/MyDrive/DSP/Analytical  Vidhya/1 - Face detection/test_dataset2/test_Bh8pGW3/Test/18236.jpg',\n",
              " '/content/drive/MyDrive/DSP/Analytical  Vidhya/1 - Face detection/test_dataset2/test_Bh8pGW3/Test/18233.jpg',\n",
              " '/content/drive/MyDrive/DSP/Analytical  Vidhya/1 - Face detection/test_dataset2/test_Bh8pGW3/Test/18228.jpg',\n",
              " '/content/drive/MyDrive/DSP/Analytical  Vidhya/1 - Face detection/test_dataset2/test_Bh8pGW3/Test/18241.jpg',\n",
              " '/content/drive/MyDrive/DSP/Analytical  Vidhya/1 - Face detection/test_dataset2/test_Bh8pGW3/Test/1826.jpg',\n",
              " '/content/drive/MyDrive/DSP/Analytical  Vidhya/1 - Face detection/test_dataset2/test_Bh8pGW3/Test/18265.jpg',\n",
              " '/content/drive/MyDrive/DSP/Analytical  Vidhya/1 - Face detection/test_dataset2/test_Bh8pGW3/Test/18222.jpg',\n",
              " '/content/drive/MyDrive/DSP/Analytical  Vidhya/1 - Face detection/test_dataset2/test_Bh8pGW3/Test/18290.jpg',\n",
              " '/content/drive/MyDrive/DSP/Analytical  Vidhya/1 - Face detection/test_dataset2/test_Bh8pGW3/Test/18267.jpg',\n",
              " '/content/drive/MyDrive/DSP/Analytical  Vidhya/1 - Face detection/test_dataset2/test_Bh8pGW3/Test/18262.jpg',\n",
              " '/content/drive/MyDrive/DSP/Analytical  Vidhya/1 - Face detection/test_dataset2/test_Bh8pGW3/Test/18257.jpg',\n",
              " '/content/drive/MyDrive/DSP/Analytical  Vidhya/1 - Face detection/test_dataset2/test_Bh8pGW3/Test/18219.jpg',\n",
              " '/content/drive/MyDrive/DSP/Analytical  Vidhya/1 - Face detection/test_dataset2/test_Bh8pGW3/Test/18206.jpg',\n",
              " '/content/drive/MyDrive/DSP/Analytical  Vidhya/1 - Face detection/test_dataset2/test_Bh8pGW3/Test/18216.jpg',\n",
              " '/content/drive/MyDrive/DSP/Analytical  Vidhya/1 - Face detection/test_dataset2/test_Bh8pGW3/Test/18215.jpg',\n",
              " '/content/drive/MyDrive/DSP/Analytical  Vidhya/1 - Face detection/test_dataset2/test_Bh8pGW3/Test/18208.jpg',\n",
              " '/content/drive/MyDrive/DSP/Analytical  Vidhya/1 - Face detection/test_dataset2/test_Bh8pGW3/Test/18207.jpg',\n",
              " '/content/drive/MyDrive/DSP/Analytical  Vidhya/1 - Face detection/test_dataset2/test_Bh8pGW3/Test/18209.jpg',\n",
              " '/content/drive/MyDrive/DSP/Analytical  Vidhya/1 - Face detection/test_dataset2/test_Bh8pGW3/Test/18205.jpg',\n",
              " '/content/drive/MyDrive/DSP/Analytical  Vidhya/1 - Face detection/test_dataset2/test_Bh8pGW3/Test/18218.jpg',\n",
              " '/content/drive/MyDrive/DSP/Analytical  Vidhya/1 - Face detection/test_dataset2/test_Bh8pGW3/Test/182.jpg',\n",
              " '/content/drive/MyDrive/DSP/Analytical  Vidhya/1 - Face detection/test_dataset2/test_Bh8pGW3/Test/18512.jpg',\n",
              " '/content/drive/MyDrive/DSP/Analytical  Vidhya/1 - Face detection/test_dataset2/test_Bh8pGW3/Test/18508.jpg',\n",
              " '/content/drive/MyDrive/DSP/Analytical  Vidhya/1 - Face detection/test_dataset2/test_Bh8pGW3/Test/18494.jpg',\n",
              " '/content/drive/MyDrive/DSP/Analytical  Vidhya/1 - Face detection/test_dataset2/test_Bh8pGW3/Test/18481.jpg',\n",
              " '/content/drive/MyDrive/DSP/Analytical  Vidhya/1 - Face detection/test_dataset2/test_Bh8pGW3/Test/18492.jpg',\n",
              " '/content/drive/MyDrive/DSP/Analytical  Vidhya/1 - Face detection/test_dataset2/test_Bh8pGW3/Test/18487.jpg',\n",
              " '/content/drive/MyDrive/DSP/Analytical  Vidhya/1 - Face detection/test_dataset2/test_Bh8pGW3/Test/18476.jpg',\n",
              " '/content/drive/MyDrive/DSP/Analytical  Vidhya/1 - Face detection/test_dataset2/test_Bh8pGW3/Test/18489.jpg',\n",
              " '/content/drive/MyDrive/DSP/Analytical  Vidhya/1 - Face detection/test_dataset2/test_Bh8pGW3/Test/18472.jpg',\n",
              " '/content/drive/MyDrive/DSP/Analytical  Vidhya/1 - Face detection/test_dataset2/test_Bh8pGW3/Test/18469.jpg',\n",
              " '/content/drive/MyDrive/DSP/Analytical  Vidhya/1 - Face detection/test_dataset2/test_Bh8pGW3/Test/18460.jpg',\n",
              " '/content/drive/MyDrive/DSP/Analytical  Vidhya/1 - Face detection/test_dataset2/test_Bh8pGW3/Test/18466.jpg',\n",
              " '/content/drive/MyDrive/DSP/Analytical  Vidhya/1 - Face detection/test_dataset2/test_Bh8pGW3/Test/18459.jpg',\n",
              " '/content/drive/MyDrive/DSP/Analytical  Vidhya/1 - Face detection/test_dataset2/test_Bh8pGW3/Test/18456.jpg',\n",
              " '/content/drive/MyDrive/DSP/Analytical  Vidhya/1 - Face detection/test_dataset2/test_Bh8pGW3/Test/18435.jpg',\n",
              " '/content/drive/MyDrive/DSP/Analytical  Vidhya/1 - Face detection/test_dataset2/test_Bh8pGW3/Test/18430.jpg',\n",
              " '/content/drive/MyDrive/DSP/Analytical  Vidhya/1 - Face detection/test_dataset2/test_Bh8pGW3/Test/1845.jpg',\n",
              " '/content/drive/MyDrive/DSP/Analytical  Vidhya/1 - Face detection/test_dataset2/test_Bh8pGW3/Test/18439.jpg',\n",
              " '/content/drive/MyDrive/DSP/Analytical  Vidhya/1 - Face detection/test_dataset2/test_Bh8pGW3/Test/18442.jpg',\n",
              " '/content/drive/MyDrive/DSP/Analytical  Vidhya/1 - Face detection/test_dataset2/test_Bh8pGW3/Test/18445.jpg',\n",
              " '/content/drive/MyDrive/DSP/Analytical  Vidhya/1 - Face detection/test_dataset2/test_Bh8pGW3/Test/18437.jpg',\n",
              " '/content/drive/MyDrive/DSP/Analytical  Vidhya/1 - Face detection/test_dataset2/test_Bh8pGW3/Test/18424.jpg',\n",
              " '/content/drive/MyDrive/DSP/Analytical  Vidhya/1 - Face detection/test_dataset2/test_Bh8pGW3/Test/18453.jpg',\n",
              " '/content/drive/MyDrive/DSP/Analytical  Vidhya/1 - Face detection/test_dataset2/test_Bh8pGW3/Test/18433.jpg',\n",
              " '/content/drive/MyDrive/DSP/Analytical  Vidhya/1 - Face detection/test_dataset2/test_Bh8pGW3/Test/18407.jpg',\n",
              " '/content/drive/MyDrive/DSP/Analytical  Vidhya/1 - Face detection/test_dataset2/test_Bh8pGW3/Test/18402.jpg',\n",
              " '/content/drive/MyDrive/DSP/Analytical  Vidhya/1 - Face detection/test_dataset2/test_Bh8pGW3/Test/1842.jpg',\n",
              " '/content/drive/MyDrive/DSP/Analytical  Vidhya/1 - Face detection/test_dataset2/test_Bh8pGW3/Test/18414.jpg',\n",
              " '/content/drive/MyDrive/DSP/Analytical  Vidhya/1 - Face detection/test_dataset2/test_Bh8pGW3/Test/18412.jpg',\n",
              " '/content/drive/MyDrive/DSP/Analytical  Vidhya/1 - Face detection/test_dataset2/test_Bh8pGW3/Test/18417.jpg',\n",
              " '/content/drive/MyDrive/DSP/Analytical  Vidhya/1 - Face detection/test_dataset2/test_Bh8pGW3/Test/18418.jpg',\n",
              " '/content/drive/MyDrive/DSP/Analytical  Vidhya/1 - Face detection/test_dataset2/test_Bh8pGW3/Test/18421.jpg',\n",
              " '/content/drive/MyDrive/DSP/Analytical  Vidhya/1 - Face detection/test_dataset2/test_Bh8pGW3/Test/18397.jpg',\n",
              " '/content/drive/MyDrive/DSP/Analytical  Vidhya/1 - Face detection/test_dataset2/test_Bh8pGW3/Test/18401.jpg',\n",
              " '/content/drive/MyDrive/DSP/Analytical  Vidhya/1 - Face detection/test_dataset2/test_Bh8pGW3/Test/18353.jpg',\n",
              " '/content/drive/MyDrive/DSP/Analytical  Vidhya/1 - Face detection/test_dataset2/test_Bh8pGW3/Test/18372.jpg',\n",
              " '/content/drive/MyDrive/DSP/Analytical  Vidhya/1 - Face detection/test_dataset2/test_Bh8pGW3/Test/18377.jpg',\n",
              " '/content/drive/MyDrive/DSP/Analytical  Vidhya/1 - Face detection/test_dataset2/test_Bh8pGW3/Test/18364.jpg',\n",
              " '/content/drive/MyDrive/DSP/Analytical  Vidhya/1 - Face detection/test_dataset2/test_Bh8pGW3/Test/1836.jpg',\n",
              " '/content/drive/MyDrive/DSP/Analytical  Vidhya/1 - Face detection/test_dataset2/test_Bh8pGW3/Test/18365.jpg',\n",
              " '/content/drive/MyDrive/DSP/Analytical  Vidhya/1 - Face detection/test_dataset2/test_Bh8pGW3/Test/18392.jpg',\n",
              " '/content/drive/MyDrive/DSP/Analytical  Vidhya/1 - Face detection/test_dataset2/test_Bh8pGW3/Test/18391.jpg',\n",
              " '/content/drive/MyDrive/DSP/Analytical  Vidhya/1 - Face detection/test_dataset2/test_Bh8pGW3/Test/1838.jpg',\n",
              " '/content/drive/MyDrive/DSP/Analytical  Vidhya/1 - Face detection/test_dataset2/test_Bh8pGW3/Test/1872.jpg',\n",
              " '/content/drive/MyDrive/DSP/Analytical  Vidhya/1 - Face detection/test_dataset2/test_Bh8pGW3/Test/18706.jpg',\n",
              " '/content/drive/MyDrive/DSP/Analytical  Vidhya/1 - Face detection/test_dataset2/test_Bh8pGW3/Test/18714.jpg',\n",
              " '/content/drive/MyDrive/DSP/Analytical  Vidhya/1 - Face detection/test_dataset2/test_Bh8pGW3/Test/18707.jpg',\n",
              " '/content/drive/MyDrive/DSP/Analytical  Vidhya/1 - Face detection/test_dataset2/test_Bh8pGW3/Test/18721.jpg',\n",
              " '/content/drive/MyDrive/DSP/Analytical  Vidhya/1 - Face detection/test_dataset2/test_Bh8pGW3/Test/1871.jpg',\n",
              " '/content/drive/MyDrive/DSP/Analytical  Vidhya/1 - Face detection/test_dataset2/test_Bh8pGW3/Test/18710.jpg',\n",
              " '/content/drive/MyDrive/DSP/Analytical  Vidhya/1 - Face detection/test_dataset2/test_Bh8pGW3/Test/187.jpg',\n",
              " '/content/drive/MyDrive/DSP/Analytical  Vidhya/1 - Face detection/test_dataset2/test_Bh8pGW3/Test/18724.jpg',\n",
              " '/content/drive/MyDrive/DSP/Analytical  Vidhya/1 - Face detection/test_dataset2/test_Bh8pGW3/Test/18722.jpg',\n",
              " '/content/drive/MyDrive/DSP/Analytical  Vidhya/1 - Face detection/test_dataset2/test_Bh8pGW3/Test/18693.jpg',\n",
              " '/content/drive/MyDrive/DSP/Analytical  Vidhya/1 - Face detection/test_dataset2/test_Bh8pGW3/Test/18599.jpg',\n",
              " '/content/drive/MyDrive/DSP/Analytical  Vidhya/1 - Face detection/test_dataset2/test_Bh8pGW3/Test/18677.jpg',\n",
              " '/content/drive/MyDrive/DSP/Analytical  Vidhya/1 - Face detection/test_dataset2/test_Bh8pGW3/Test/18691.jpg',\n",
              " '/content/drive/MyDrive/DSP/Analytical  Vidhya/1 - Face detection/test_dataset2/test_Bh8pGW3/Test/18683.jpg',\n",
              " '/content/drive/MyDrive/DSP/Analytical  Vidhya/1 - Face detection/test_dataset2/test_Bh8pGW3/Test/18659.jpg',\n",
              " '/content/drive/MyDrive/DSP/Analytical  Vidhya/1 - Face detection/test_dataset2/test_Bh8pGW3/Test/18684.jpg',\n",
              " '/content/drive/MyDrive/DSP/Analytical  Vidhya/1 - Face detection/test_dataset2/test_Bh8pGW3/Test/18656.jpg',\n",
              " '/content/drive/MyDrive/DSP/Analytical  Vidhya/1 - Face detection/test_dataset2/test_Bh8pGW3/Test/18657.jpg',\n",
              " '/content/drive/MyDrive/DSP/Analytical  Vidhya/1 - Face detection/test_dataset2/test_Bh8pGW3/Test/186.jpg',\n",
              " '/content/drive/MyDrive/DSP/Analytical  Vidhya/1 - Face detection/test_dataset2/test_Bh8pGW3/Test/18647.jpg',\n",
              " '/content/drive/MyDrive/DSP/Analytical  Vidhya/1 - Face detection/test_dataset2/test_Bh8pGW3/Test/18692.jpg',\n",
              " '/content/drive/MyDrive/DSP/Analytical  Vidhya/1 - Face detection/test_dataset2/test_Bh8pGW3/Test/18638.jpg',\n",
              " '/content/drive/MyDrive/DSP/Analytical  Vidhya/1 - Face detection/test_dataset2/test_Bh8pGW3/Test/18623.jpg',\n",
              " '/content/drive/MyDrive/DSP/Analytical  Vidhya/1 - Face detection/test_dataset2/test_Bh8pGW3/Test/18634.jpg',\n",
              " '/content/drive/MyDrive/DSP/Analytical  Vidhya/1 - Face detection/test_dataset2/test_Bh8pGW3/Test/18641.jpg',\n",
              " '/content/drive/MyDrive/DSP/Analytical  Vidhya/1 - Face detection/test_dataset2/test_Bh8pGW3/Test/18619.jpg',\n",
              " '/content/drive/MyDrive/DSP/Analytical  Vidhya/1 - Face detection/test_dataset2/test_Bh8pGW3/Test/1862.jpg',\n",
              " '/content/drive/MyDrive/DSP/Analytical  Vidhya/1 - Face detection/test_dataset2/test_Bh8pGW3/Test/18627.jpg',\n",
              " '/content/drive/MyDrive/DSP/Analytical  Vidhya/1 - Face detection/test_dataset2/test_Bh8pGW3/Test/18646.jpg',\n",
              " '/content/drive/MyDrive/DSP/Analytical  Vidhya/1 - Face detection/test_dataset2/test_Bh8pGW3/Test/18644.jpg',\n",
              " '/content/drive/MyDrive/DSP/Analytical  Vidhya/1 - Face detection/test_dataset2/test_Bh8pGW3/Test/18612.jpg',\n",
              " '/content/drive/MyDrive/DSP/Analytical  Vidhya/1 - Face detection/test_dataset2/test_Bh8pGW3/Test/18617.jpg',\n",
              " '/content/drive/MyDrive/DSP/Analytical  Vidhya/1 - Face detection/test_dataset2/test_Bh8pGW3/Test/18550.jpg',\n",
              " '/content/drive/MyDrive/DSP/Analytical  Vidhya/1 - Face detection/test_dataset2/test_Bh8pGW3/Test/18547.jpg',\n",
              " '/content/drive/MyDrive/DSP/Analytical  Vidhya/1 - Face detection/test_dataset2/test_Bh8pGW3/Test/18551.jpg',\n",
              " '/content/drive/MyDrive/DSP/Analytical  Vidhya/1 - Face detection/test_dataset2/test_Bh8pGW3/Test/18586.jpg',\n",
              " '/content/drive/MyDrive/DSP/Analytical  Vidhya/1 - Face detection/test_dataset2/test_Bh8pGW3/Test/1857.jpg',\n",
              " '/content/drive/MyDrive/DSP/Analytical  Vidhya/1 - Face detection/test_dataset2/test_Bh8pGW3/Test/18553.jpg',\n",
              " '/content/drive/MyDrive/DSP/Analytical  Vidhya/1 - Face detection/test_dataset2/test_Bh8pGW3/Test/18557.jpg',\n",
              " '/content/drive/MyDrive/DSP/Analytical  Vidhya/1 - Face detection/test_dataset2/test_Bh8pGW3/Test/18587.jpg',\n",
              " '/content/drive/MyDrive/DSP/Analytical  Vidhya/1 - Face detection/test_dataset2/test_Bh8pGW3/Test/18543.jpg',\n",
              " ...]"
            ]
          },
          "metadata": {},
          "execution_count": 96
        }
      ]
    },
    {
      "cell_type": "code",
      "source": [
        "test_data = tf.data.Dataset.from_tensor_slices(image_paths[:])"
      ],
      "metadata": {
        "id": "_wU9ieSBillf"
      },
      "execution_count": 65,
      "outputs": []
    },
    {
      "cell_type": "code",
      "source": [
        "test_data"
      ],
      "metadata": {
        "colab": {
          "base_uri": "https://localhost:8080/"
        },
        "id": "xonsfkJ5lpXJ",
        "outputId": "89c926df-94c0-4bbf-c7f5-2f0af938f813"
      },
      "execution_count": 66,
      "outputs": [
        {
          "output_type": "execute_result",
          "data": {
            "text/plain": [
              "<TensorSliceDataset element_spec=TensorSpec(shape=(), dtype=tf.string, name=None)>"
            ]
          },
          "metadata": {},
          "execution_count": 66
        }
      ]
    },
    {
      "cell_type": "code",
      "source": [
        "# function to load the data that includes images and respective labels\n",
        "def load_data(image_path):\n",
        "    img = readImage(image_path, 3, (150,150))\n",
        "    return img"
      ],
      "metadata": {
        "id": "qdJnWPJdn87u"
      },
      "execution_count": 67,
      "outputs": []
    },
    {
      "cell_type": "code",
      "source": [
        "test_data = (test_data\n",
        "    .map(load_data, num_parallel_calls=tf.data.AUTOTUNE)\n",
        "    .batch(64)\n",
        "    .prefetch(tf.data.AUTOTUNE)\n",
        ")"
      ],
      "metadata": {
        "id": "MIWcDHxIojdL"
      },
      "execution_count": 68,
      "outputs": []
    },
    {
      "cell_type": "code",
      "source": [
        "test_data"
      ],
      "metadata": {
        "colab": {
          "base_uri": "https://localhost:8080/"
        },
        "id": "RiYz1S62oDcT",
        "outputId": "39b4aa86-e508-40b4-d06e-2cc4595d59af"
      },
      "execution_count": 69,
      "outputs": [
        {
          "output_type": "execute_result",
          "data": {
            "text/plain": [
              "<PrefetchDataset element_spec=TensorSpec(shape=(None, 150, 150, 3), dtype=tf.float32, name=None)>"
            ]
          },
          "metadata": {},
          "execution_count": 69
        }
      ]
    },
    {
      "cell_type": "code",
      "source": [
        "pred = cnn_model.predict(test_data)"
      ],
      "metadata": {
        "colab": {
          "base_uri": "https://localhost:8080/"
        },
        "id": "MuG3omYPiJ2f",
        "outputId": "3c24b1c4-b64e-4d29-a86d-9b7642b31581"
      },
      "execution_count": 70,
      "outputs": [
        {
          "output_type": "stream",
          "name": "stdout",
          "text": [
            "104/104 [==============================] - 111s 984ms/step\n"
          ]
        }
      ]
    },
    {
      "cell_type": "code",
      "source": [
        "pred[0]"
      ],
      "metadata": {
        "colab": {
          "base_uri": "https://localhost:8080/"
        },
        "id": "SjnRWCXPmnlO",
        "outputId": "ac378ce0-cb28-4653-fcd5-dce3720c86da"
      },
      "execution_count": 72,
      "outputs": [
        {
          "output_type": "execute_result",
          "data": {
            "text/plain": [
              "array([9.77e-01, 2.33e-02, 2.44e-05], dtype=float32)"
            ]
          },
          "metadata": {},
          "execution_count": 72
        }
      ]
    },
    {
      "cell_type": "code",
      "source": [
        "predictions = []\n",
        "for i in pred:\n",
        "  predictions.append(np.argmax(i))"
      ],
      "metadata": {
        "id": "3qQPgdqIposi"
      },
      "execution_count": 77,
      "outputs": []
    },
    {
      "cell_type": "code",
      "source": [
        "predictions[0:10]"
      ],
      "metadata": {
        "colab": {
          "base_uri": "https://localhost:8080/"
        },
        "id": "T1KiAcnfqFfE",
        "outputId": "a99da1e3-0ba3-437b-e94b-27b311ea45f5"
      },
      "execution_count": 81,
      "outputs": [
        {
          "output_type": "execute_result",
          "data": {
            "text/plain": [
              "[0, 1, 1, 1, 1, 2, 1, 1, 1, 1]"
            ]
          },
          "metadata": {},
          "execution_count": 81
        }
      ]
    },
    {
      "cell_type": "code",
      "source": [
        "pred = pd.DataFrame(predictions, columns = ['Class'])\n",
        "pred"
      ],
      "metadata": {
        "colab": {
          "base_uri": "https://localhost:8080/",
          "height": 423
        },
        "id": "bzQRxSShqQel",
        "outputId": "68611b25-4a37-4b31-ed94-3ec13e04373a"
      },
      "execution_count": 83,
      "outputs": [
        {
          "output_type": "execute_result",
          "data": {
            "text/plain": [
              "      Class\n",
              "0         0\n",
              "1         1\n",
              "2         1\n",
              "3         1\n",
              "4         1\n",
              "...     ...\n",
              "6631      0\n",
              "6632      0\n",
              "6633      0\n",
              "6634      0\n",
              "6635      0\n",
              "\n",
              "[6636 rows x 1 columns]"
            ],
            "text/html": [
              "\n",
              "  <div id=\"df-4285fca3-caf0-435b-abca-65c28c56530d\">\n",
              "    <div class=\"colab-df-container\">\n",
              "      <div>\n",
              "<style scoped>\n",
              "    .dataframe tbody tr th:only-of-type {\n",
              "        vertical-align: middle;\n",
              "    }\n",
              "\n",
              "    .dataframe tbody tr th {\n",
              "        vertical-align: top;\n",
              "    }\n",
              "\n",
              "    .dataframe thead th {\n",
              "        text-align: right;\n",
              "    }\n",
              "</style>\n",
              "<table border=\"1\" class=\"dataframe\">\n",
              "  <thead>\n",
              "    <tr style=\"text-align: right;\">\n",
              "      <th></th>\n",
              "      <th>Class</th>\n",
              "    </tr>\n",
              "  </thead>\n",
              "  <tbody>\n",
              "    <tr>\n",
              "      <th>0</th>\n",
              "      <td>0</td>\n",
              "    </tr>\n",
              "    <tr>\n",
              "      <th>1</th>\n",
              "      <td>1</td>\n",
              "    </tr>\n",
              "    <tr>\n",
              "      <th>2</th>\n",
              "      <td>1</td>\n",
              "    </tr>\n",
              "    <tr>\n",
              "      <th>3</th>\n",
              "      <td>1</td>\n",
              "    </tr>\n",
              "    <tr>\n",
              "      <th>4</th>\n",
              "      <td>1</td>\n",
              "    </tr>\n",
              "    <tr>\n",
              "      <th>...</th>\n",
              "      <td>...</td>\n",
              "    </tr>\n",
              "    <tr>\n",
              "      <th>6631</th>\n",
              "      <td>0</td>\n",
              "    </tr>\n",
              "    <tr>\n",
              "      <th>6632</th>\n",
              "      <td>0</td>\n",
              "    </tr>\n",
              "    <tr>\n",
              "      <th>6633</th>\n",
              "      <td>0</td>\n",
              "    </tr>\n",
              "    <tr>\n",
              "      <th>6634</th>\n",
              "      <td>0</td>\n",
              "    </tr>\n",
              "    <tr>\n",
              "      <th>6635</th>\n",
              "      <td>0</td>\n",
              "    </tr>\n",
              "  </tbody>\n",
              "</table>\n",
              "<p>6636 rows × 1 columns</p>\n",
              "</div>\n",
              "      <button class=\"colab-df-convert\" onclick=\"convertToInteractive('df-4285fca3-caf0-435b-abca-65c28c56530d')\"\n",
              "              title=\"Convert this dataframe to an interactive table.\"\n",
              "              style=\"display:none;\">\n",
              "        \n",
              "  <svg xmlns=\"http://www.w3.org/2000/svg\" height=\"24px\"viewBox=\"0 0 24 24\"\n",
              "       width=\"24px\">\n",
              "    <path d=\"M0 0h24v24H0V0z\" fill=\"none\"/>\n",
              "    <path d=\"M18.56 5.44l.94 2.06.94-2.06 2.06-.94-2.06-.94-.94-2.06-.94 2.06-2.06.94zm-11 1L8.5 8.5l.94-2.06 2.06-.94-2.06-.94L8.5 2.5l-.94 2.06-2.06.94zm10 10l.94 2.06.94-2.06 2.06-.94-2.06-.94-.94-2.06-.94 2.06-2.06.94z\"/><path d=\"M17.41 7.96l-1.37-1.37c-.4-.4-.92-.59-1.43-.59-.52 0-1.04.2-1.43.59L10.3 9.45l-7.72 7.72c-.78.78-.78 2.05 0 2.83L4 21.41c.39.39.9.59 1.41.59.51 0 1.02-.2 1.41-.59l7.78-7.78 2.81-2.81c.8-.78.8-2.07 0-2.86zM5.41 20L4 18.59l7.72-7.72 1.47 1.35L5.41 20z\"/>\n",
              "  </svg>\n",
              "      </button>\n",
              "      \n",
              "  <style>\n",
              "    .colab-df-container {\n",
              "      display:flex;\n",
              "      flex-wrap:wrap;\n",
              "      gap: 12px;\n",
              "    }\n",
              "\n",
              "    .colab-df-convert {\n",
              "      background-color: #E8F0FE;\n",
              "      border: none;\n",
              "      border-radius: 50%;\n",
              "      cursor: pointer;\n",
              "      display: none;\n",
              "      fill: #1967D2;\n",
              "      height: 32px;\n",
              "      padding: 0 0 0 0;\n",
              "      width: 32px;\n",
              "    }\n",
              "\n",
              "    .colab-df-convert:hover {\n",
              "      background-color: #E2EBFA;\n",
              "      box-shadow: 0px 1px 2px rgba(60, 64, 67, 0.3), 0px 1px 3px 1px rgba(60, 64, 67, 0.15);\n",
              "      fill: #174EA6;\n",
              "    }\n",
              "\n",
              "    [theme=dark] .colab-df-convert {\n",
              "      background-color: #3B4455;\n",
              "      fill: #D2E3FC;\n",
              "    }\n",
              "\n",
              "    [theme=dark] .colab-df-convert:hover {\n",
              "      background-color: #434B5C;\n",
              "      box-shadow: 0px 1px 3px 1px rgba(0, 0, 0, 0.15);\n",
              "      filter: drop-shadow(0px 1px 2px rgba(0, 0, 0, 0.3));\n",
              "      fill: #FFFFFF;\n",
              "    }\n",
              "  </style>\n",
              "\n",
              "      <script>\n",
              "        const buttonEl =\n",
              "          document.querySelector('#df-4285fca3-caf0-435b-abca-65c28c56530d button.colab-df-convert');\n",
              "        buttonEl.style.display =\n",
              "          google.colab.kernel.accessAllowed ? 'block' : 'none';\n",
              "\n",
              "        async function convertToInteractive(key) {\n",
              "          const element = document.querySelector('#df-4285fca3-caf0-435b-abca-65c28c56530d');\n",
              "          const dataTable =\n",
              "            await google.colab.kernel.invokeFunction('convertToInteractive',\n",
              "                                                     [key], {});\n",
              "          if (!dataTable) return;\n",
              "\n",
              "          const docLinkHtml = 'Like what you see? Visit the ' +\n",
              "            '<a target=\"_blank\" href=https://colab.research.google.com/notebooks/data_table.ipynb>data table notebook</a>'\n",
              "            + ' to learn more about interactive tables.';\n",
              "          element.innerHTML = '';\n",
              "          dataTable['output_type'] = 'display_data';\n",
              "          await google.colab.output.renderOutput(dataTable, element);\n",
              "          const docLink = document.createElement('div');\n",
              "          docLink.innerHTML = docLinkHtml;\n",
              "          element.appendChild(docLink);\n",
              "        }\n",
              "      </script>\n",
              "    </div>\n",
              "  </div>\n",
              "  "
            ]
          },
          "metadata": {},
          "execution_count": 83
        }
      ]
    },
    {
      "cell_type": "code",
      "source": [
        "x_test = pd.concat([test,pred], axis=1)\n",
        "x_test"
      ],
      "metadata": {
        "colab": {
          "base_uri": "https://localhost:8080/",
          "height": 423
        },
        "id": "1n3yMsLQrxa5",
        "outputId": "39071e54-4ce7-4a8d-d684-4911c037ab18"
      },
      "execution_count": 84,
      "outputs": [
        {
          "output_type": "execute_result",
          "data": {
            "text/plain": [
              "             ID  Class\n",
              "0     25321.jpg      0\n",
              "1       989.jpg      1\n",
              "2     19277.jpg      1\n",
              "3     13093.jpg      1\n",
              "4      5367.jpg      1\n",
              "...         ...    ...\n",
              "6631   1876.jpg      0\n",
              "6632  14940.jpg      0\n",
              "6633   3638.jpg      0\n",
              "6634    376.jpg      0\n",
              "6635   9357.jpg      0\n",
              "\n",
              "[6636 rows x 2 columns]"
            ],
            "text/html": [
              "\n",
              "  <div id=\"df-b468868e-fdab-438a-b685-31f9f853377b\">\n",
              "    <div class=\"colab-df-container\">\n",
              "      <div>\n",
              "<style scoped>\n",
              "    .dataframe tbody tr th:only-of-type {\n",
              "        vertical-align: middle;\n",
              "    }\n",
              "\n",
              "    .dataframe tbody tr th {\n",
              "        vertical-align: top;\n",
              "    }\n",
              "\n",
              "    .dataframe thead th {\n",
              "        text-align: right;\n",
              "    }\n",
              "</style>\n",
              "<table border=\"1\" class=\"dataframe\">\n",
              "  <thead>\n",
              "    <tr style=\"text-align: right;\">\n",
              "      <th></th>\n",
              "      <th>ID</th>\n",
              "      <th>Class</th>\n",
              "    </tr>\n",
              "  </thead>\n",
              "  <tbody>\n",
              "    <tr>\n",
              "      <th>0</th>\n",
              "      <td>25321.jpg</td>\n",
              "      <td>0</td>\n",
              "    </tr>\n",
              "    <tr>\n",
              "      <th>1</th>\n",
              "      <td>989.jpg</td>\n",
              "      <td>1</td>\n",
              "    </tr>\n",
              "    <tr>\n",
              "      <th>2</th>\n",
              "      <td>19277.jpg</td>\n",
              "      <td>1</td>\n",
              "    </tr>\n",
              "    <tr>\n",
              "      <th>3</th>\n",
              "      <td>13093.jpg</td>\n",
              "      <td>1</td>\n",
              "    </tr>\n",
              "    <tr>\n",
              "      <th>4</th>\n",
              "      <td>5367.jpg</td>\n",
              "      <td>1</td>\n",
              "    </tr>\n",
              "    <tr>\n",
              "      <th>...</th>\n",
              "      <td>...</td>\n",
              "      <td>...</td>\n",
              "    </tr>\n",
              "    <tr>\n",
              "      <th>6631</th>\n",
              "      <td>1876.jpg</td>\n",
              "      <td>0</td>\n",
              "    </tr>\n",
              "    <tr>\n",
              "      <th>6632</th>\n",
              "      <td>14940.jpg</td>\n",
              "      <td>0</td>\n",
              "    </tr>\n",
              "    <tr>\n",
              "      <th>6633</th>\n",
              "      <td>3638.jpg</td>\n",
              "      <td>0</td>\n",
              "    </tr>\n",
              "    <tr>\n",
              "      <th>6634</th>\n",
              "      <td>376.jpg</td>\n",
              "      <td>0</td>\n",
              "    </tr>\n",
              "    <tr>\n",
              "      <th>6635</th>\n",
              "      <td>9357.jpg</td>\n",
              "      <td>0</td>\n",
              "    </tr>\n",
              "  </tbody>\n",
              "</table>\n",
              "<p>6636 rows × 2 columns</p>\n",
              "</div>\n",
              "      <button class=\"colab-df-convert\" onclick=\"convertToInteractive('df-b468868e-fdab-438a-b685-31f9f853377b')\"\n",
              "              title=\"Convert this dataframe to an interactive table.\"\n",
              "              style=\"display:none;\">\n",
              "        \n",
              "  <svg xmlns=\"http://www.w3.org/2000/svg\" height=\"24px\"viewBox=\"0 0 24 24\"\n",
              "       width=\"24px\">\n",
              "    <path d=\"M0 0h24v24H0V0z\" fill=\"none\"/>\n",
              "    <path d=\"M18.56 5.44l.94 2.06.94-2.06 2.06-.94-2.06-.94-.94-2.06-.94 2.06-2.06.94zm-11 1L8.5 8.5l.94-2.06 2.06-.94-2.06-.94L8.5 2.5l-.94 2.06-2.06.94zm10 10l.94 2.06.94-2.06 2.06-.94-2.06-.94-.94-2.06-.94 2.06-2.06.94z\"/><path d=\"M17.41 7.96l-1.37-1.37c-.4-.4-.92-.59-1.43-.59-.52 0-1.04.2-1.43.59L10.3 9.45l-7.72 7.72c-.78.78-.78 2.05 0 2.83L4 21.41c.39.39.9.59 1.41.59.51 0 1.02-.2 1.41-.59l7.78-7.78 2.81-2.81c.8-.78.8-2.07 0-2.86zM5.41 20L4 18.59l7.72-7.72 1.47 1.35L5.41 20z\"/>\n",
              "  </svg>\n",
              "      </button>\n",
              "      \n",
              "  <style>\n",
              "    .colab-df-container {\n",
              "      display:flex;\n",
              "      flex-wrap:wrap;\n",
              "      gap: 12px;\n",
              "    }\n",
              "\n",
              "    .colab-df-convert {\n",
              "      background-color: #E8F0FE;\n",
              "      border: none;\n",
              "      border-radius: 50%;\n",
              "      cursor: pointer;\n",
              "      display: none;\n",
              "      fill: #1967D2;\n",
              "      height: 32px;\n",
              "      padding: 0 0 0 0;\n",
              "      width: 32px;\n",
              "    }\n",
              "\n",
              "    .colab-df-convert:hover {\n",
              "      background-color: #E2EBFA;\n",
              "      box-shadow: 0px 1px 2px rgba(60, 64, 67, 0.3), 0px 1px 3px 1px rgba(60, 64, 67, 0.15);\n",
              "      fill: #174EA6;\n",
              "    }\n",
              "\n",
              "    [theme=dark] .colab-df-convert {\n",
              "      background-color: #3B4455;\n",
              "      fill: #D2E3FC;\n",
              "    }\n",
              "\n",
              "    [theme=dark] .colab-df-convert:hover {\n",
              "      background-color: #434B5C;\n",
              "      box-shadow: 0px 1px 3px 1px rgba(0, 0, 0, 0.15);\n",
              "      filter: drop-shadow(0px 1px 2px rgba(0, 0, 0, 0.3));\n",
              "      fill: #FFFFFF;\n",
              "    }\n",
              "  </style>\n",
              "\n",
              "      <script>\n",
              "        const buttonEl =\n",
              "          document.querySelector('#df-b468868e-fdab-438a-b685-31f9f853377b button.colab-df-convert');\n",
              "        buttonEl.style.display =\n",
              "          google.colab.kernel.accessAllowed ? 'block' : 'none';\n",
              "\n",
              "        async function convertToInteractive(key) {\n",
              "          const element = document.querySelector('#df-b468868e-fdab-438a-b685-31f9f853377b');\n",
              "          const dataTable =\n",
              "            await google.colab.kernel.invokeFunction('convertToInteractive',\n",
              "                                                     [key], {});\n",
              "          if (!dataTable) return;\n",
              "\n",
              "          const docLinkHtml = 'Like what you see? Visit the ' +\n",
              "            '<a target=\"_blank\" href=https://colab.research.google.com/notebooks/data_table.ipynb>data table notebook</a>'\n",
              "            + ' to learn more about interactive tables.';\n",
              "          element.innerHTML = '';\n",
              "          dataTable['output_type'] = 'display_data';\n",
              "          await google.colab.output.renderOutput(dataTable, element);\n",
              "          const docLink = document.createElement('div');\n",
              "          docLink.innerHTML = docLinkHtml;\n",
              "          element.appendChild(docLink);\n",
              "        }\n",
              "      </script>\n",
              "    </div>\n",
              "  </div>\n",
              "  "
            ]
          },
          "metadata": {},
          "execution_count": 84
        }
      ]
    },
    {
      "cell_type": "code",
      "source": [
        "x_test.Class.value_counts()"
      ],
      "metadata": {
        "colab": {
          "base_uri": "https://localhost:8080/"
        },
        "id": "f11eVUO7slgT",
        "outputId": "7f68a2f0-e23e-4648-bc15-be7503b08afb"
      },
      "execution_count": 85,
      "outputs": [
        {
          "output_type": "execute_result",
          "data": {
            "text/plain": [
              "1    4099\n",
              "0    2013\n",
              "2     524\n",
              "Name: Class, dtype: int64"
            ]
          },
          "metadata": {},
          "execution_count": 85
        }
      ]
    },
    {
      "cell_type": "code",
      "source": [
        "x_test.dtypes"
      ],
      "metadata": {
        "colab": {
          "base_uri": "https://localhost:8080/"
        },
        "id": "WJDFKH3nsvbY",
        "outputId": "6804043a-1aa8-402c-b4e0-5edd3a066416"
      },
      "execution_count": 86,
      "outputs": [
        {
          "output_type": "execute_result",
          "data": {
            "text/plain": [
              "ID       object\n",
              "Class     int64\n",
              "dtype: object"
            ]
          },
          "metadata": {},
          "execution_count": 86
        }
      ]
    },
    {
      "cell_type": "code",
      "source": [
        "x_test['Class'] = x_test['Class'].replace({0: 'YOUNG' ,\n",
        "                                             1: 'MIDDLE',\n",
        "                                             2:'OLD'})\n",
        "     "
      ],
      "metadata": {
        "id": "njPIyM4os2GW"
      },
      "execution_count": 87,
      "outputs": []
    },
    {
      "cell_type": "code",
      "source": [
        "x_test.head(10)"
      ],
      "metadata": {
        "colab": {
          "base_uri": "https://localhost:8080/",
          "height": 362
        },
        "id": "JnbBZnkhtLYl",
        "outputId": "e3c6ab59-9c36-4133-d5d4-70489ab71444"
      },
      "execution_count": 92,
      "outputs": [
        {
          "output_type": "execute_result",
          "data": {
            "text/plain": [
              "          ID   Class\n",
              "0  25321.jpg   YOUNG\n",
              "1    989.jpg  MIDDLE\n",
              "2  19277.jpg  MIDDLE\n",
              "3  13093.jpg  MIDDLE\n",
              "4   5367.jpg  MIDDLE\n",
              "5  19851.jpg     OLD\n",
              "6  10384.jpg  MIDDLE\n",
              "7  24567.jpg  MIDDLE\n",
              "8   2029.jpg  MIDDLE\n",
              "9   4956.jpg  MIDDLE"
            ],
            "text/html": [
              "\n",
              "  <div id=\"df-5d59e27b-42fe-4420-b1f9-e259b364349e\">\n",
              "    <div class=\"colab-df-container\">\n",
              "      <div>\n",
              "<style scoped>\n",
              "    .dataframe tbody tr th:only-of-type {\n",
              "        vertical-align: middle;\n",
              "    }\n",
              "\n",
              "    .dataframe tbody tr th {\n",
              "        vertical-align: top;\n",
              "    }\n",
              "\n",
              "    .dataframe thead th {\n",
              "        text-align: right;\n",
              "    }\n",
              "</style>\n",
              "<table border=\"1\" class=\"dataframe\">\n",
              "  <thead>\n",
              "    <tr style=\"text-align: right;\">\n",
              "      <th></th>\n",
              "      <th>ID</th>\n",
              "      <th>Class</th>\n",
              "    </tr>\n",
              "  </thead>\n",
              "  <tbody>\n",
              "    <tr>\n",
              "      <th>0</th>\n",
              "      <td>25321.jpg</td>\n",
              "      <td>YOUNG</td>\n",
              "    </tr>\n",
              "    <tr>\n",
              "      <th>1</th>\n",
              "      <td>989.jpg</td>\n",
              "      <td>MIDDLE</td>\n",
              "    </tr>\n",
              "    <tr>\n",
              "      <th>2</th>\n",
              "      <td>19277.jpg</td>\n",
              "      <td>MIDDLE</td>\n",
              "    </tr>\n",
              "    <tr>\n",
              "      <th>3</th>\n",
              "      <td>13093.jpg</td>\n",
              "      <td>MIDDLE</td>\n",
              "    </tr>\n",
              "    <tr>\n",
              "      <th>4</th>\n",
              "      <td>5367.jpg</td>\n",
              "      <td>MIDDLE</td>\n",
              "    </tr>\n",
              "    <tr>\n",
              "      <th>5</th>\n",
              "      <td>19851.jpg</td>\n",
              "      <td>OLD</td>\n",
              "    </tr>\n",
              "    <tr>\n",
              "      <th>6</th>\n",
              "      <td>10384.jpg</td>\n",
              "      <td>MIDDLE</td>\n",
              "    </tr>\n",
              "    <tr>\n",
              "      <th>7</th>\n",
              "      <td>24567.jpg</td>\n",
              "      <td>MIDDLE</td>\n",
              "    </tr>\n",
              "    <tr>\n",
              "      <th>8</th>\n",
              "      <td>2029.jpg</td>\n",
              "      <td>MIDDLE</td>\n",
              "    </tr>\n",
              "    <tr>\n",
              "      <th>9</th>\n",
              "      <td>4956.jpg</td>\n",
              "      <td>MIDDLE</td>\n",
              "    </tr>\n",
              "  </tbody>\n",
              "</table>\n",
              "</div>\n",
              "      <button class=\"colab-df-convert\" onclick=\"convertToInteractive('df-5d59e27b-42fe-4420-b1f9-e259b364349e')\"\n",
              "              title=\"Convert this dataframe to an interactive table.\"\n",
              "              style=\"display:none;\">\n",
              "        \n",
              "  <svg xmlns=\"http://www.w3.org/2000/svg\" height=\"24px\"viewBox=\"0 0 24 24\"\n",
              "       width=\"24px\">\n",
              "    <path d=\"M0 0h24v24H0V0z\" fill=\"none\"/>\n",
              "    <path d=\"M18.56 5.44l.94 2.06.94-2.06 2.06-.94-2.06-.94-.94-2.06-.94 2.06-2.06.94zm-11 1L8.5 8.5l.94-2.06 2.06-.94-2.06-.94L8.5 2.5l-.94 2.06-2.06.94zm10 10l.94 2.06.94-2.06 2.06-.94-2.06-.94-.94-2.06-.94 2.06-2.06.94z\"/><path d=\"M17.41 7.96l-1.37-1.37c-.4-.4-.92-.59-1.43-.59-.52 0-1.04.2-1.43.59L10.3 9.45l-7.72 7.72c-.78.78-.78 2.05 0 2.83L4 21.41c.39.39.9.59 1.41.59.51 0 1.02-.2 1.41-.59l7.78-7.78 2.81-2.81c.8-.78.8-2.07 0-2.86zM5.41 20L4 18.59l7.72-7.72 1.47 1.35L5.41 20z\"/>\n",
              "  </svg>\n",
              "      </button>\n",
              "      \n",
              "  <style>\n",
              "    .colab-df-container {\n",
              "      display:flex;\n",
              "      flex-wrap:wrap;\n",
              "      gap: 12px;\n",
              "    }\n",
              "\n",
              "    .colab-df-convert {\n",
              "      background-color: #E8F0FE;\n",
              "      border: none;\n",
              "      border-radius: 50%;\n",
              "      cursor: pointer;\n",
              "      display: none;\n",
              "      fill: #1967D2;\n",
              "      height: 32px;\n",
              "      padding: 0 0 0 0;\n",
              "      width: 32px;\n",
              "    }\n",
              "\n",
              "    .colab-df-convert:hover {\n",
              "      background-color: #E2EBFA;\n",
              "      box-shadow: 0px 1px 2px rgba(60, 64, 67, 0.3), 0px 1px 3px 1px rgba(60, 64, 67, 0.15);\n",
              "      fill: #174EA6;\n",
              "    }\n",
              "\n",
              "    [theme=dark] .colab-df-convert {\n",
              "      background-color: #3B4455;\n",
              "      fill: #D2E3FC;\n",
              "    }\n",
              "\n",
              "    [theme=dark] .colab-df-convert:hover {\n",
              "      background-color: #434B5C;\n",
              "      box-shadow: 0px 1px 3px 1px rgba(0, 0, 0, 0.15);\n",
              "      filter: drop-shadow(0px 1px 2px rgba(0, 0, 0, 0.3));\n",
              "      fill: #FFFFFF;\n",
              "    }\n",
              "  </style>\n",
              "\n",
              "      <script>\n",
              "        const buttonEl =\n",
              "          document.querySelector('#df-5d59e27b-42fe-4420-b1f9-e259b364349e button.colab-df-convert');\n",
              "        buttonEl.style.display =\n",
              "          google.colab.kernel.accessAllowed ? 'block' : 'none';\n",
              "\n",
              "        async function convertToInteractive(key) {\n",
              "          const element = document.querySelector('#df-5d59e27b-42fe-4420-b1f9-e259b364349e');\n",
              "          const dataTable =\n",
              "            await google.colab.kernel.invokeFunction('convertToInteractive',\n",
              "                                                     [key], {});\n",
              "          if (!dataTable) return;\n",
              "\n",
              "          const docLinkHtml = 'Like what you see? Visit the ' +\n",
              "            '<a target=\"_blank\" href=https://colab.research.google.com/notebooks/data_table.ipynb>data table notebook</a>'\n",
              "            + ' to learn more about interactive tables.';\n",
              "          element.innerHTML = '';\n",
              "          dataTable['output_type'] = 'display_data';\n",
              "          await google.colab.output.renderOutput(dataTable, element);\n",
              "          const docLink = document.createElement('div');\n",
              "          docLink.innerHTML = docLinkHtml;\n",
              "          element.appendChild(docLink);\n",
              "        }\n",
              "      </script>\n",
              "    </div>\n",
              "  </div>\n",
              "  "
            ]
          },
          "metadata": {},
          "execution_count": 92
        }
      ]
    },
    {
      "cell_type": "code",
      "source": [
        "#saving the data into csv file\n",
        "x_test.to_csv(r\"solution_submission.csv\")"
      ],
      "metadata": {
        "id": "OvtjZpz7ub6t"
      },
      "execution_count": 94,
      "outputs": []
    },
    {
      "cell_type": "markdown",
      "source": [
        "# **Thank you !!!**"
      ],
      "metadata": {
        "id": "V4i6vH8vu6SD"
      }
    }
  ]
}